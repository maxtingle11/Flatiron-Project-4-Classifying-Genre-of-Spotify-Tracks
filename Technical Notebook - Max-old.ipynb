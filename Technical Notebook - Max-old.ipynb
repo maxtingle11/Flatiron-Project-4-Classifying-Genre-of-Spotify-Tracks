{
 "cells": [
  {
   "cell_type": "markdown",
   "metadata": {},
   "source": [
    "# Predicting Pop Subgenres"
   ]
  },
  {
   "cell_type": "markdown",
   "metadata": {},
   "source": [
    "Using a dataset of from Spotify API\n",
    "\n",
    "GOAL\n",
    "**Research Question:** Can we predict a pop song's subgenre using its audio features?\n",
    "\n",
    "**7 Pop Subgenres:**\n",
    "\n"
   ]
  },
  {
   "cell_type": "markdown",
   "metadata": {},
   "source": [
    "## Setting up dataset"
   ]
  },
  {
   "cell_type": "code",
   "execution_count": 1,
   "metadata": {
    "ExecuteTime": {
     "end_time": "2019-11-05T02:51:17.444573Z",
     "start_time": "2019-11-05T02:51:17.130731Z"
    }
   },
   "outputs": [],
   "source": [
    "import pandas as pd\n",
    "import numpy as np\n",
    "import warnings\n",
    "warnings.filterwarnings('ignore')\n",
    "\n",
    "# autoreload \n",
    "%load_ext autoreload\n",
    "%autoreload 2\n",
    "\n",
    "#Setting pandas viewing options\n",
    "pd.set_option('display.max_rows', 50)\n",
    "pd.set_option('display.max_columns', 300)\n",
    "pd.set_option('display.width', 1000)"
   ]
  },
  {
   "cell_type": "markdown",
   "metadata": {},
   "source": [
    "### Importing Datasets"
   ]
  },
  {
   "cell_type": "code",
   "execution_count": 2,
   "metadata": {
    "ExecuteTime": {
     "end_time": "2019-11-05T02:51:17.557285Z",
     "start_time": "2019-11-05T02:51:17.446356Z"
    }
   },
   "outputs": [],
   "source": [
    "# Import data to Pandas DataFrame\n",
    "train = pd.read_csv('data/train.csv')\n",
    "test = pd.read_csv('data/test.csv')\n",
    "test_final = pd.read_csv('data/test_final.csv')\n",
    "\n",
    "# Split X & y for train, test, and test_final\n",
    "X_train = train.drop('target', axis=1)\n",
    "y_train = train['target']\n",
    "\n",
    "X_test = test.drop('target', axis=1)\n",
    "y_test = test['target']\n",
    "\n",
    "X_test_final = test_final.drop('target', axis=1)\n",
    "y_test_final = test_final['target']\n"
   ]
  },
  {
   "cell_type": "markdown",
   "metadata": {},
   "source": [
    "### Scaling datasets"
   ]
  },
  {
   "cell_type": "code",
   "execution_count": 3,
   "metadata": {
    "ExecuteTime": {
     "end_time": "2019-11-05T02:51:17.900082Z",
     "start_time": "2019-11-05T02:51:17.558783Z"
    }
   },
   "outputs": [],
   "source": [
    "# Standardize with MinMax Scaler\n",
    "from sklearn.preprocessing import MinMaxScaler\n",
    "\n",
    "min_max_scaler = MinMaxScaler()\n",
    "X_train_mmscaled = min_max_scaler.fit_transform(X_train)\n",
    "X_test_mmscaled = min_max_scaler.transform(X_test)\n",
    "X_test_final_mmscaled = min_max_scaler.transform(X_test_final)"
   ]
  },
  {
   "cell_type": "markdown",
   "metadata": {
    "ExecuteTime": {
     "end_time": "2019-11-05T01:38:53.002986Z",
     "start_time": "2019-11-05T01:38:52.956565Z"
    }
   },
   "source": [
    "### Starting a score list"
   ]
  },
  {
   "cell_type": "code",
   "execution_count": 4,
   "metadata": {
    "ExecuteTime": {
     "end_time": "2019-11-05T02:51:17.926278Z",
     "start_time": "2019-11-05T02:51:17.901561Z"
    }
   },
   "outputs": [],
   "source": [
    "model_score = {}"
   ]
  },
  {
   "cell_type": "markdown",
   "metadata": {},
   "source": [
    "## Logistic Regression"
   ]
  },
  {
   "cell_type": "code",
   "execution_count": 5,
   "metadata": {
    "ExecuteTime": {
     "end_time": "2019-11-05T02:51:17.951922Z",
     "start_time": "2019-11-05T02:51:17.927768Z"
    }
   },
   "outputs": [],
   "source": [
    "#Computing class weights \n",
    "class_names = ['Dance-Pop','Rap-Pop','Folk-Pop', 'Electro-Pop','Rock-Pop', 'Indie-Pop','EDM-Pop']\n",
    "classes=[1,2,3,4,5,6,7]\n",
    "\n",
    "from sklearn.utils.class_weight import compute_class_weight\n",
    "\n",
    "class_weights = compute_class_weight(class_weight='balanced',classes=classes,y=y_train)\n",
    "cls_wt = dict(zip(classes,class_weights))"
   ]
  },
  {
   "cell_type": "code",
   "execution_count": 6,
   "metadata": {
    "ExecuteTime": {
     "end_time": "2019-11-05T02:51:20.436824Z",
     "start_time": "2019-11-05T02:51:17.953214Z"
    }
   },
   "outputs": [
    {
     "name": "stdout",
     "output_type": "stream",
     "text": [
      "Train Accuracy Score: 0.4984272233342865\n",
      "Test Accuracy Score: 0.5030025736345439\n"
     ]
    }
   ],
   "source": [
    "from sklearn.linear_model import LogisticRegression\n",
    "from scripts import print_metrics\n",
    "\n",
    "# Perform vanilla logistic regression\n",
    "logreg_base = LogisticRegression(C = 1e9, \n",
    "                                 solver='lbfgs',\n",
    "                                 multi_class='multinomial', \n",
    "                                 max_iter=1000, \n",
    "                                 penalty='l2',\n",
    "                                 class_weight=cls_wt)\n",
    "\n",
    "logreg_base.fit(X_train_mmscaled, y_train)\n",
    "\n",
    "pred_logreg_base_train = logreg_base.predict(X_train_mmscaled)\n",
    "pred_logreg_base_test = logreg_base.predict(X_test_mmscaled)\n",
    "\n",
    "#Print scores\n",
    "print_metrics(y_train, pred_logreg_base_train, \"Train\")\n",
    "print_metrics(y_test, pred_logreg_base_test, \"Test\")\n"
   ]
  },
  {
   "cell_type": "markdown",
   "metadata": {},
   "source": [
    "### Tuning Logistic Regression Parameters using Grid Search and Cross Validation"
   ]
  },
  {
   "cell_type": "code",
   "execution_count": 7,
   "metadata": {
    "ExecuteTime": {
     "end_time": "2019-11-05T02:52:52.791702Z",
     "start_time": "2019-11-05T02:51:20.439303Z"
    }
   },
   "outputs": [
    {
     "name": "stdout",
     "output_type": "stream",
     "text": [
      "Fitting 5 folds for each of 20 candidates, totalling 100 fits\n"
     ]
    },
    {
     "name": "stderr",
     "output_type": "stream",
     "text": [
      "[Parallel(n_jobs=-1)]: Using backend LokyBackend with 16 concurrent workers.\n",
      "[Parallel(n_jobs=-1)]: Done   9 tasks      | elapsed:   19.8s\n",
      "[Parallel(n_jobs=-1)]: Done 100 out of 100 | elapsed:  1.4min finished\n"
     ]
    },
    {
     "name": "stdout",
     "output_type": "stream",
     "text": [
      "Grid Search found the following optimal parameters: \n",
      "C: 1000000000.0\n",
      "class_weight: {1: 0.7974005244555923, 2: 0.7592270950933565, 3: 1.0500713159672697, 4: 1.2655387677553604, 5: 1.081908886998221, 6: 1.4802116402116403, 7: 0.9204448246364414}\n",
      "penalty: 'l1'\n",
      "solver: 'saga'\n",
      "Train Accuracy Score: 0.4984272233342865\n",
      "Test Accuracy Score: 0.50328853302831\n"
     ]
    }
   ],
   "source": [
    "from sklearn.model_selection import GridSearchCV\n",
    "\n",
    "logreg_GS = LogisticRegression(random_state = 11,\n",
    "                               multi_class='multinomial', \n",
    "                               max_iter=1000)\n",
    "\n",
    "# Set grid search params\n",
    "param_grid_logreg = [\n",
    "    {'penalty':['l1'],\n",
    "     'solver':['saga'],\n",
    "     'C':[1e9, 1e5, 1e3, 1, 1e-2],\n",
    "     'class_weight':[cls_wt,'balanced']\n",
    "     },\n",
    "    {'penalty':['l2'],\n",
    "     'solver':['newton-cg'],\n",
    "     'C':[1e9, 1e5, 1e3, 1, 1e-2],\n",
    "     'class_weight':[cls_wt,'balanced']\n",
    "    }   \n",
    "]\n",
    "\n",
    "# Construct grid search\n",
    "gs_logreg = GridSearchCV(estimator=logreg_GS,\n",
    "            param_grid=param_grid_logreg,\n",
    "            scoring='accuracy',\n",
    "            refit='accuracy',\n",
    "            cv=5, verbose=2, return_train_score = True,\n",
    "            n_jobs=-1)\n",
    "\n",
    "# Fit using grid search\n",
    "gs_logreg.fit(X_train_mmscaled, y_train)\n",
    "\n",
    "pred_gs_lr_train = gs_logreg.predict(X_train_mmscaled)\n",
    "pred_gs_lr_test = gs_logreg.predict(X_test_mmscaled)\n",
    "\n",
    "best_parameters = gs_logreg.best_params_\n",
    "\n",
    "print(\"Grid Search found the following optimal parameters: \")\n",
    "for param_name in sorted(best_parameters.keys()):\n",
    "    print(\"%s: %r\" % (param_name, best_parameters[param_name]))\n",
    "\n",
    "\n",
    "#Print scores\n",
    "print_metrics(y_train, pred_gs_lr_train, \"Train\")\n",
    "print_metrics(y_test, pred_gs_lr_test, \"Test\")"
   ]
  },
  {
   "cell_type": "code",
   "execution_count": 8,
   "metadata": {
    "ExecuteTime": {
     "end_time": "2019-11-05T02:52:52.818430Z",
     "start_time": "2019-11-05T02:52:52.793764Z"
    }
   },
   "outputs": [],
   "source": [
    "#Save scores\n",
    "from sklearn.metrics import accuracy_score\n",
    "model_score['logreg'] = [accuracy_score(y_train, pred_gs_lr_train),\n",
    "                         accuracy_score(y_test, pred_gs_lr_test)]"
   ]
  },
  {
   "cell_type": "markdown",
   "metadata": {},
   "source": [
    "## KNN"
   ]
  },
  {
   "cell_type": "markdown",
   "metadata": {},
   "source": [
    "### Fit KNN Model"
   ]
  },
  {
   "cell_type": "code",
   "execution_count": 9,
   "metadata": {
    "ExecuteTime": {
     "end_time": "2019-11-05T02:52:56.283480Z",
     "start_time": "2019-11-05T02:52:52.819771Z"
    }
   },
   "outputs": [
    {
     "name": "stdout",
     "output_type": "stream",
     "text": [
      "Train Accuracy Score: 0.5868601658564484\n",
      "Test Accuracy Score: 0.4143551615670575\n"
     ]
    }
   ],
   "source": [
    "from sklearn.neighbors import KNeighborsClassifier\n",
    "\n",
    "\n",
    "knn1 = KNeighborsClassifier()\n",
    "knn1.fit(X_train_mmscaled, y_train)\n",
    "knn1_train_preds = knn1.predict(X_train_mmscaled)\n",
    "knn1_test_preds = knn1.predict(X_test_mmscaled)\n",
    "\n",
    "print_metrics(y_train, knn1_train_preds,\"Train\")\n",
    "print_metrics(y_test, knn1_test_preds, \"Test\")"
   ]
  },
  {
   "cell_type": "markdown",
   "metadata": {},
   "source": [
    "### Find Best K by Accuracy"
   ]
  },
  {
   "cell_type": "code",
   "execution_count": 10,
   "metadata": {
    "ExecuteTime": {
     "end_time": "2019-11-05T02:53:38.968828Z",
     "start_time": "2019-11-05T02:52:56.285621Z"
    }
   },
   "outputs": [
    {
     "name": "stdout",
     "output_type": "stream",
     "text": [
      "Best Value for k: 27\n",
      "Accuracy: 0.44895624821275376\n"
     ]
    }
   ],
   "source": [
    "from scripts import find_best_k_acc\n",
    "\n",
    "find_best_k_acc(X_train_mmscaled, y_train, X_test_mmscaled, y_test)"
   ]
  },
  {
   "cell_type": "markdown",
   "metadata": {},
   "source": [
    "### Fit KNN Model w/ Optimized K=27"
   ]
  },
  {
   "cell_type": "code",
   "execution_count": 11,
   "metadata": {
    "ExecuteTime": {
     "end_time": "2019-11-05T02:53:43.194189Z",
     "start_time": "2019-11-05T02:53:38.971001Z"
    }
   },
   "outputs": [
    {
     "name": "stdout",
     "output_type": "stream",
     "text": [
      "Train Accuracy Score: 0.4845581927366314\n",
      "Test Accuracy Score: 0.44895624821275376\n"
     ]
    }
   ],
   "source": [
    "knn2 = KNeighborsClassifier(n_neighbors=27)\n",
    "knn2.fit(X_train_mmscaled, y_train)\n",
    "knn2_train_preds = knn2.predict(X_train_mmscaled)\n",
    "knn2_test_preds = knn2.predict(X_test_mmscaled)\n",
    "\n",
    "# Print Accuracy\n",
    "print_metrics(y_train, knn2_train_preds,\"Train\")\n",
    "print_metrics(y_test, knn2_test_preds,\"Test\")"
   ]
  },
  {
   "cell_type": "code",
   "execution_count": 12,
   "metadata": {
    "ExecuteTime": {
     "end_time": "2019-11-05T02:53:43.217899Z",
     "start_time": "2019-11-05T02:53:43.196288Z"
    }
   },
   "outputs": [],
   "source": [
    "#Save scores\n",
    "model_score['KNN'] = [accuracy_score(y_train, knn2_train_preds),\n",
    "                      accuracy_score(y_test, knn2_test_preds)]"
   ]
  },
  {
   "cell_type": "markdown",
   "metadata": {},
   "source": [
    "## Decision Tree Classifier "
   ]
  },
  {
   "cell_type": "code",
   "execution_count": 13,
   "metadata": {
    "ExecuteTime": {
     "end_time": "2019-11-05T02:53:43.311219Z",
     "start_time": "2019-11-05T02:53:43.219267Z"
    }
   },
   "outputs": [
    {
     "name": "stdout",
     "output_type": "stream",
     "text": [
      "Train Accuracy Score: 0.4419502430654847\n",
      "Test Accuracy Score: 0.4315127251930226\n"
     ]
    }
   ],
   "source": [
    "from sklearn.tree import DecisionTreeClassifier\n",
    "\n",
    "tree_clf = DecisionTreeClassifier(criterion=\"gini\", max_depth=5) \n",
    "tree_clf.fit(X_train_mmscaled, y_train)\n",
    "tree_pred = tree_clf.predict(X_train_mmscaled)\n",
    "tree_pred_test = tree_clf.predict(X_test_mmscaled)\n",
    "\n",
    "# Print Accuracy\n",
    "print_metrics(y_train, tree_pred,\"Train\")\n",
    "print_metrics(y_test, tree_pred_test,\"Test\")"
   ]
  },
  {
   "cell_type": "code",
   "execution_count": 14,
   "metadata": {
    "ExecuteTime": {
     "end_time": "2019-11-05T02:53:43.335868Z",
     "start_time": "2019-11-05T02:53:43.312638Z"
    }
   },
   "outputs": [],
   "source": [
    "#Save scores\n",
    "model_score['Tree'] = [accuracy_score(y_train, tree_pred),\n",
    "                       accuracy_score(y_test, tree_pred_test)]"
   ]
  },
  {
   "cell_type": "markdown",
   "metadata": {},
   "source": [
    "## Random Forest"
   ]
  },
  {
   "cell_type": "code",
   "execution_count": 15,
   "metadata": {
    "ExecuteTime": {
     "end_time": "2019-11-05T02:53:43.940692Z",
     "start_time": "2019-11-05T02:53:43.337233Z"
    }
   },
   "outputs": [
    {
     "name": "stdout",
     "output_type": "stream",
     "text": [
      "Train Accuracy Score: 0.5213039748355733\n",
      "Test Accuracy Score: 0.5144409493851873\n"
     ]
    }
   ],
   "source": [
    "from sklearn.ensemble import RandomForestClassifier\n",
    "\n",
    "#Running a standard random forest \n",
    "forest = RandomForestClassifier(n_estimators=100, \n",
    "                                max_depth= 5, \n",
    "                                bootstrap=True,\n",
    "                                oob_score=True,\n",
    "                                n_jobs=-1,\n",
    "                                random_state=11,\n",
    "                                class_weight='balanced')\n",
    "\n",
    "forest.fit(X_train_mmscaled, y_train)\n",
    "\n",
    "pred_forest = forest.predict(X_train_mmscaled)\n",
    "pred_forest_test = forest.predict(X_test_mmscaled)\n",
    "\n",
    "print_metrics(y_train, pred_forest,\"Train\")\n",
    "print_metrics(y_test, pred_forest_test,\"Test\")"
   ]
  },
  {
   "cell_type": "markdown",
   "metadata": {},
   "source": [
    "### Random Forest Parameter Tuning"
   ]
  },
  {
   "cell_type": "code",
   "execution_count": 16,
   "metadata": {
    "ExecuteTime": {
     "end_time": "2019-11-05T02:54:54.415958Z",
     "start_time": "2019-11-05T02:53:43.942630Z"
    }
   },
   "outputs": [
    {
     "name": "stdout",
     "output_type": "stream",
     "text": [
      "Fitting 5 folds for each of 24 candidates, totalling 120 fits\n"
     ]
    },
    {
     "name": "stderr",
     "output_type": "stream",
     "text": [
      "[Parallel(n_jobs=-1)]: Using backend LokyBackend with 16 concurrent workers.\n",
      "[Parallel(n_jobs=-1)]: Done   9 tasks      | elapsed:    7.3s\n",
      "[Parallel(n_jobs=-1)]: Done 120 out of 120 | elapsed:  1.2min finished\n"
     ]
    },
    {
     "name": "stdout",
     "output_type": "stream",
     "text": [
      "Grid Search found the following optimal parameters: \n",
      "C: 1000000000.0\n",
      "class_weight: {1: 0.7974005244555923, 2: 0.7592270950933565, 3: 1.0500713159672697, 4: 1.2655387677553604, 5: 1.081908886998221, 6: 1.4802116402116403, 7: 0.9204448246364414}\n",
      "penalty: 'l1'\n",
      "solver: 'saga'\n",
      "Best accuracy: 0.533\n"
     ]
    }
   ],
   "source": [
    "#Using Grid Search and Cross Validation\n",
    "\n",
    "forest_GS = RandomForestClassifier(random_state = 11,\n",
    "                                   bootstrap=True,\n",
    "                                   n_jobs=-1,\n",
    "                                   oob_score=True,\n",
    "                                   class_weight='balanced')\n",
    "\n",
    " \n",
    "# Set grid search params\n",
    "param_grid_forest = [ \n",
    "  {'n_estimators': [ 225, 250, 275, 300],\n",
    "   'criterion': ['entropy'], \n",
    "   'max_depth': [6, 8],  \n",
    "   'min_samples_leaf':[ 1, 10, 20]  \n",
    "  }\n",
    "]\n",
    "\n",
    "# Construct grid search\n",
    "gs_rf = GridSearchCV(estimator=forest_GS,\n",
    "            param_grid=param_grid_forest,\n",
    "            scoring='accuracy',\n",
    "            refit='accuracy',\n",
    "            cv=5, verbose=2, return_train_score = True,\n",
    "            n_jobs=-1)\n",
    "\n",
    "# Fit using grid search\n",
    "gs_rf.fit(X_train, y_train)\n",
    "\n",
    "pred_gs_rf_train = gs_rf.predict(X_train)\n",
    "pred_gs_rf_test = gs_rf.predict(X_test)\n",
    "\n",
    "\n",
    "print(\"Grid Search found the following optimal parameters: \")\n",
    "for param_name in sorted(best_parameters.keys()):\n",
    "    print(\"%s: %r\" % (param_name, best_parameters[param_name]))\n",
    "\n",
    "# Best accuracy\n",
    "print('Best accuracy: %.3f' % gs_rf.best_score_)\n"
   ]
  },
  {
   "cell_type": "code",
   "execution_count": 17,
   "metadata": {
    "ExecuteTime": {
     "end_time": "2019-11-05T02:54:54.446166Z",
     "start_time": "2019-11-05T02:54:54.417893Z"
    }
   },
   "outputs": [
    {
     "name": "stdout",
     "output_type": "stream",
     "text": [
      "Train Accuracy Score: 0.6046611381183872\n",
      "Test Accuracy Score: 0.5416070917929654\n"
     ]
    }
   ],
   "source": [
    "print_metrics(y_train, pred_gs_rf_train,\"Train\")\n",
    "print_metrics(y_test, pred_gs_rf_test,\"Test\")"
   ]
  },
  {
   "cell_type": "code",
   "execution_count": 18,
   "metadata": {
    "ExecuteTime": {
     "end_time": "2019-11-05T02:54:54.473650Z",
     "start_time": "2019-11-05T02:54:54.447729Z"
    }
   },
   "outputs": [],
   "source": [
    "#Save scores\n",
    "model_score['Forest'] = [accuracy_score(y_train, pred_gs_rf_train),\n",
    "                         accuracy_score(y_test, pred_gs_rf_test)]"
   ]
  },
  {
   "cell_type": "markdown",
   "metadata": {},
   "source": [
    "## AdaBoost Classifier"
   ]
  },
  {
   "cell_type": "code",
   "execution_count": 19,
   "metadata": {
    "ExecuteTime": {
     "end_time": "2019-11-05T02:54:55.330272Z",
     "start_time": "2019-11-05T02:54:54.475226Z"
    }
   },
   "outputs": [
    {
     "name": "stdout",
     "output_type": "stream",
     "text": [
      "Train Accuracy Score: 0.5030740634829854\n",
      "Test Accuracy Score: 0.4984272233342865\n"
     ]
    }
   ],
   "source": [
    "from sklearn.ensemble import AdaBoostClassifier\n",
    "\n",
    "adaboost_clf = AdaBoostClassifier()\n",
    "adaboost_clf.fit(X_train_mmscaled, y_train)\n",
    "\n",
    "# Create predictions\n",
    "adaboost_train_preds = adaboost_clf.predict(X_train_mmscaled)\n",
    "adaboost_test_preds = adaboost_clf.predict(X_test_mmscaled)\n",
    "\n",
    "print_metrics(y_train, adaboost_train_preds, \"Train\")\n",
    "print_metrics(y_test, adaboost_test_preds, \"Test\")"
   ]
  },
  {
   "cell_type": "markdown",
   "metadata": {},
   "source": [
    "### AdaBoost Classifier Parameter Tuning"
   ]
  },
  {
   "cell_type": "code",
   "execution_count": 20,
   "metadata": {
    "ExecuteTime": {
     "end_time": "2019-11-05T02:57:17.492379Z",
     "start_time": "2019-11-05T02:54:55.331870Z"
    }
   },
   "outputs": [
    {
     "name": "stdout",
     "output_type": "stream",
     "text": [
      "Fitting 5 folds for each of 18 candidates, totalling 90 fits\n"
     ]
    },
    {
     "name": "stderr",
     "output_type": "stream",
     "text": [
      "[Parallel(n_jobs=-1)]: Using backend LokyBackend with 16 concurrent workers.\n",
      "[Parallel(n_jobs=-1)]: Done   9 tasks      | elapsed:   16.9s\n",
      "[Parallel(n_jobs=-1)]: Done  90 out of  90 | elapsed:  2.2min finished\n"
     ]
    },
    {
     "name": "stdout",
     "output_type": "stream",
     "text": [
      "Train Accuracy Score: 0.5539748355733486\n",
      "Test Accuracy Score: 0.540177294824135\n"
     ]
    }
   ],
   "source": [
    "adaboost_GS = AdaBoostClassifier(algorithm='SAMME.R',\n",
    "                                 random_state=11)\n",
    " \n",
    "# Set grid search params\n",
    "param_grid_adaboost = [ \n",
    "  {'base_estimator':[DecisionTreeClassifier(max_depth=2),DecisionTreeClassifier(max_depth=5)],\n",
    "   'learning_rate': [ 0.15, 0.1, 0.07],\n",
    "   'n_estimators': [ 275, 300, 325]\n",
    "  }\n",
    "]\n",
    "\n",
    "# Construct grid search\n",
    "gs_ab = GridSearchCV(estimator=adaboost_GS,\n",
    "            param_grid=param_grid_adaboost,\n",
    "            scoring='accuracy',\n",
    "            refit='accuracy',\n",
    "            cv=5, verbose=2, return_train_score = True,\n",
    "            n_jobs=-1)\n",
    "\n",
    "# Fit using grid search\n",
    "gs_ab.fit(X_train_mmscaled, y_train)\n",
    "\n",
    "#Create predictions\n",
    "pred_gs_ab_train = gs_ab.predict(X_train_mmscaled)\n",
    "pred_gs_ab_test = gs_ab.predict(X_test_mmscaled)\n",
    "\n",
    "#Print scores\n",
    "print_metrics(y_train, pred_gs_ab_train, \"Train\")\n",
    "print_metrics(y_test, pred_gs_ab_test, \"Test\")"
   ]
  },
  {
   "cell_type": "code",
   "execution_count": 21,
   "metadata": {
    "ExecuteTime": {
     "end_time": "2019-11-05T02:57:17.515740Z",
     "start_time": "2019-11-05T02:57:17.494512Z"
    }
   },
   "outputs": [],
   "source": [
    "#Save scores\n",
    "model_score['AdaBoost'] = [accuracy_score(y_train, pred_gs_ab_train), \n",
    "                           accuracy_score(y_test, pred_gs_ab_test)]"
   ]
  },
  {
   "cell_type": "markdown",
   "metadata": {},
   "source": [
    "## Gradient Boosting"
   ]
  },
  {
   "cell_type": "code",
   "execution_count": 22,
   "metadata": {
    "ExecuteTime": {
     "end_time": "2019-11-05T02:57:26.082262Z",
     "start_time": "2019-11-05T02:57:17.518586Z"
    }
   },
   "outputs": [
    {
     "name": "stdout",
     "output_type": "stream",
     "text": [
      "Train Accuracy Score: 0.622748069774092\n",
      "Test Accuracy Score: 0.5527595081498428\n"
     ]
    }
   ],
   "source": [
    "from sklearn.ensemble import GradientBoostingClassifier\n",
    "\n",
    "gbt_clf = GradientBoostingClassifier()\n",
    "gbt_clf.fit(X_train_mmscaled, y_train)\n",
    "\n",
    "# Create predictions\n",
    "gbt_clf_train_preds = gbt_clf.predict(X_train_mmscaled)\n",
    "gbt_clf_test_preds = gbt_clf.predict(X_test_mmscaled)\n",
    "\n",
    "#Print scores\n",
    "print_metrics(y_train, gbt_clf_train_preds, \"Train\")\n",
    "print_metrics(y_test, gbt_clf_test_preds, \"Test\")"
   ]
  },
  {
   "cell_type": "markdown",
   "metadata": {},
   "source": [
    "### Tuning Gradient Boosting Parameters using Grid Search and Cross Validation"
   ]
  },
  {
   "cell_type": "code",
   "execution_count": 23,
   "metadata": {
    "ExecuteTime": {
     "end_time": "2019-11-05T02:58:12.759097Z",
     "start_time": "2019-11-05T02:57:26.084695Z"
    }
   },
   "outputs": [
    {
     "name": "stdout",
     "output_type": "stream",
     "text": [
      "Fitting 5 folds for each of 1 candidates, totalling 5 fits\n"
     ]
    },
    {
     "name": "stderr",
     "output_type": "stream",
     "text": [
      "[Parallel(n_jobs=-1)]: Using backend LokyBackend with 16 concurrent workers.\n",
      "[Parallel(n_jobs=-1)]: Done   5 out of   5 | elapsed:   23.9s finished\n"
     ]
    },
    {
     "name": "stdout",
     "output_type": "stream",
     "text": [
      "Grid Search found the following optimal parameters: \n",
      "learning_rate: 0.065\n",
      "max_depth: 2\n",
      "n_estimators: 400\n",
      "subsample: 0.8\n",
      "Train Accuracy Score: 0.6212467829568201\n",
      "Test Accuracy Score: 0.5644838432942522\n"
     ]
    }
   ],
   "source": [
    "gb_GS = GradientBoostingClassifier(random_state=11, max_features='auto')\n",
    "\n",
    "# Set grid search params\n",
    "param_grid_gboost = [ \n",
    "  {'subsample': [0.8],\n",
    "   'learning_rate': [0.065],\n",
    "   'n_estimators': [400],\n",
    "   'max_depth':[2]\n",
    "  }\n",
    "]\n",
    "\n",
    "# Construct grid search\n",
    "gs_gradboost = GridSearchCV(estimator=gb_GS,\n",
    "               param_grid=param_grid_gboost,\n",
    "               scoring='accuracy',\n",
    "               refit='accuracy',\n",
    "               cv=5, verbose=2, return_train_score = True,\n",
    "               n_jobs=-1)\n",
    "\n",
    "# Fit using grid search\n",
    "gs_gradboost.fit(X_train_mmscaled, y_train)\n",
    "\n",
    "pred_gs_gb_train = gs_gradboost.predict(X_train_mmscaled)\n",
    "pred_gs_gb_test = gs_gradboost.predict(X_test_mmscaled)\n",
    "\n",
    "\n",
    "# Best parameters\n",
    "best_parameters = gs_gradboost.best_params_\n",
    "print(\"Grid Search found the following optimal parameters: \")\n",
    "for param_name in sorted(best_parameters.keys()):\n",
    "    print(\"%s: %r\" % (param_name, best_parameters[param_name]))\n",
    "\n",
    "#Print scores\n",
    "print_metrics(y_train, pred_gs_gb_train, \"Train\")\n",
    "print_metrics(y_test, pred_gs_gb_test, \"Test\")"
   ]
  },
  {
   "cell_type": "code",
   "execution_count": 24,
   "metadata": {
    "ExecuteTime": {
     "end_time": "2019-11-05T02:58:12.781992Z",
     "start_time": "2019-11-05T02:58:12.761165Z"
    }
   },
   "outputs": [],
   "source": [
    "#Save scores\n",
    "model_score['Gradient Boost'] = [accuracy_score(y_train, pred_gs_gb_train),\n",
    "                                 accuracy_score(y_test, pred_gs_gb_test)]"
   ]
  },
  {
   "cell_type": "markdown",
   "metadata": {},
   "source": [
    "## eXtreme Gradient Boost Classifier (XGBoost)"
   ]
  },
  {
   "cell_type": "code",
   "execution_count": 25,
   "metadata": {
    "ExecuteTime": {
     "end_time": "2019-11-05T02:58:24.683068Z",
     "start_time": "2019-11-05T02:58:12.783243Z"
    }
   },
   "outputs": [
    {
     "name": "stdout",
     "output_type": "stream",
     "text": [
      "Train Accuracy Score: 0.5945810694881327\n",
      "Test Accuracy Score: 0.5478981984558192\n"
     ]
    }
   ],
   "source": [
    "import xgboost as xgb\n",
    "\n",
    "xgb_clf = xgb.XGBClassifier()\n",
    "xgb_clf.fit(X_train_mmscaled, y_train)\n",
    "xgb_pred_train = xgb_clf.predict(X_train_mmscaled)\n",
    "xgb_pred_test = xgb_clf.predict(X_test_mmscaled)\n",
    "\n",
    "#Print scores\n",
    "print_metrics(y_train, xgb_pred_train, \"Train\")\n",
    "print_metrics(y_test, xgb_pred_test, \"Test\")"
   ]
  },
  {
   "cell_type": "markdown",
   "metadata": {},
   "source": [
    "### Tuning XGBoost Parameters using Grid Search and Cross Validation"
   ]
  },
  {
   "cell_type": "code",
   "execution_count": 26,
   "metadata": {
    "ExecuteTime": {
     "end_time": "2019-11-05T03:01:40.507840Z",
     "start_time": "2019-11-05T02:58:24.684977Z"
    }
   },
   "outputs": [
    {
     "name": "stdout",
     "output_type": "stream",
     "text": [
      "Grid Search found the following optimal parameters: \n",
      "learning_rate: 0.06\n",
      "max_depth: 2\n",
      "n_estimators: 400\n",
      "subsample: 0.75\n",
      "Train Accuracy Score: 0.5887189019159279\n",
      "Test Accuracy Score: 0.5593365742064627\n"
     ]
    }
   ],
   "source": [
    "# Tuning XGBoost\n",
    "from sklearn.model_selection import GridSearchCV\n",
    "\n",
    "xgb_param_grid = {\n",
    "    \"learning_rate\": [0.06,  0.05],\n",
    "    'max_depth': [2],\n",
    "    'subsample': [ 0.75, 0.8],\n",
    "    'n_estimators': [400, 350],\n",
    "}\n",
    "\n",
    "grid_xgb_clf = GridSearchCV(xgb_clf, \n",
    "                            xgb_param_grid, \n",
    "                            scoring='accuracy', \n",
    "                            cv=5, \n",
    "                            n_jobs=-1)\n",
    "\n",
    "grid_xgb_clf.fit(X_train_mmscaled, y_train)\n",
    "\n",
    "pred_gs_gxb_train = grid_xgb_clf.predict(X_train_mmscaled)\n",
    "pred_gs_gxb_test = grid_xgb_clf.predict(X_test_mmscaled)\n",
    "\n",
    "best_parameters = grid_xgb_clf.best_params_\n",
    "\n",
    "print(\"Grid Search found the following optimal parameters: \")\n",
    "for param_name in sorted(best_parameters.keys()):\n",
    "    print(\"%s: %r\" % (param_name, best_parameters[param_name]))\n",
    "\n",
    "#Print scores\n",
    "print_metrics(y_train, pred_gs_gxb_train, \"Train\")\n",
    "print_metrics(y_test, pred_gs_gxb_test, \"Test\")"
   ]
  },
  {
   "cell_type": "code",
   "execution_count": 27,
   "metadata": {
    "ExecuteTime": {
     "end_time": "2019-11-05T03:01:40.532316Z",
     "start_time": "2019-11-05T03:01:40.509749Z"
    }
   },
   "outputs": [],
   "source": [
    "#Save scores\n",
    "model_score['XGBoost'] = [accuracy_score(y_train, pred_gs_gxb_train), \n",
    "                                 accuracy_score(y_test, pred_gs_gxb_test)]"
   ]
  },
  {
   "cell_type": "markdown",
   "metadata": {},
   "source": [
    "## SVM"
   ]
  },
  {
   "cell_type": "code",
   "execution_count": 28,
   "metadata": {
    "ExecuteTime": {
     "end_time": "2019-11-05T03:02:23.194907Z",
     "start_time": "2019-11-05T03:01:40.534064Z"
    }
   },
   "outputs": [
    {
     "name": "stdout",
     "output_type": "stream",
     "text": [
      "Train Accuracy Score: 0.4984272233342865\n",
      "Test Accuracy Score: 0.50328853302831\n"
     ]
    }
   ],
   "source": [
    "from sklearn import svm\n",
    "svm_clf = svm.SVC(probability=True, random_state=11)\n",
    "svm_clf.fit(X_train_mmscaled, y_train)\n",
    "\n",
    "pred_svm_train = gs_logreg.predict(X_train_mmscaled)\n",
    "pred_svm_test = gs_logreg.predict(X_test_mmscaled)\n",
    "\n",
    "#Print scores\n",
    "print_metrics(y_train, pred_svm_train, \"Train\")\n",
    "print_metrics(y_test, pred_svm_test, \"Test\")"
   ]
  },
  {
   "cell_type": "markdown",
   "metadata": {},
   "source": [
    "### Tuning SVM Parameters using Grid Search and Cross Validation"
   ]
  },
  {
   "cell_type": "code",
   "execution_count": 29,
   "metadata": {
    "ExecuteTime": {
     "end_time": "2019-11-05T03:04:40.125054Z",
     "start_time": "2019-11-05T03:02:23.196231Z"
    }
   },
   "outputs": [
    {
     "name": "stdout",
     "output_type": "stream",
     "text": [
      "Fitting 3 folds for each of 4 candidates, totalling 12 fits\n"
     ]
    },
    {
     "name": "stderr",
     "output_type": "stream",
     "text": [
      "[Parallel(n_jobs=5)]: Using backend LokyBackend with 5 concurrent workers.\n",
      "[Parallel(n_jobs=5)]: Done  10 out of  12 | elapsed:   53.9s remaining:   10.8s\n",
      "[Parallel(n_jobs=5)]: Done  12 out of  12 | elapsed:  1.3min finished\n"
     ]
    },
    {
     "name": "stdout",
     "output_type": "stream",
     "text": [
      "Grid Search found the following optimal parameters: \n",
      "coef0: 25\n",
      "degree: 3\n",
      "gamma: 0.03\n",
      "kernel: 'poly'\n",
      "Train Accuracy Score: 0.5153703174149271\n",
      "Test Accuracy Score: 0.5104375178724622\n"
     ]
    }
   ],
   "source": [
    "# Set grid search params\n",
    "param_grid_svm = [\n",
    "    {'C': [12], 'kernel': ['linear']},\n",
    "    {'C': [10], 'gamma': [0.1], 'kernel': ['rbf']},\n",
    "    {'coef0': [25], 'gamma': [0.03], 'degree': [3], 'kernel': ['poly']},\n",
    "    {'coef0': [0.01], 'gamma': [0.2], 'kernel': ['sigmoid']}\n",
    "]\n",
    "\n",
    "\n",
    "# Construct grid search\n",
    "gs_svm = GridSearchCV(estimator=svm_clf,\n",
    "           param_grid=param_grid_svm,\n",
    "           scoring='accuracy',\n",
    "           cv=3, verbose=2, return_train_score=True,\n",
    "                     n_jobs=5)\n",
    "\n",
    "# Fit using grid search\n",
    "gs_svm.fit(X_train_mmscaled, y_train)\n",
    "\n",
    "pred_gs_svm_train = gs_svm.predict(X_train_mmscaled)\n",
    "pred_gs_svm_test = gs_svm.predict(X_test_mmscaled)\n",
    "\n",
    "best_parameters = gs_svm.best_params_\n",
    "\n",
    "print(\"Grid Search found the following optimal parameters: \")\n",
    "for param_name in sorted(best_parameters.keys()):\n",
    "    print(\"%s: %r\" % (param_name, best_parameters[param_name]))\n",
    "\n",
    "\n",
    "#Print scores\n",
    "print_metrics(y_train, pred_gs_svm_train, \"Train\")\n",
    "print_metrics(y_test, pred_gs_svm_test, \"Test\")\n"
   ]
  },
  {
   "cell_type": "code",
   "execution_count": 30,
   "metadata": {
    "ExecuteTime": {
     "end_time": "2019-11-05T03:04:40.151680Z",
     "start_time": "2019-11-05T03:04:40.127403Z"
    }
   },
   "outputs": [],
   "source": [
    "#Save scores\n",
    "model_score['SVM'] = [accuracy_score(y_train, pred_gs_svm_train),\n",
    "                      accuracy_score(y_test, pred_gs_svm_test)]"
   ]
  },
  {
   "cell_type": "markdown",
   "metadata": {},
   "source": [
    "## Choosing the best model "
   ]
  },
  {
   "cell_type": "code",
   "execution_count": 31,
   "metadata": {
    "ExecuteTime": {
     "end_time": "2019-11-05T03:04:40.184447Z",
     "start_time": "2019-11-05T03:04:40.152998Z"
    }
   },
   "outputs": [
    {
     "data": {
      "text/html": [
       "<div>\n",
       "<style scoped>\n",
       "    .dataframe tbody tr th:only-of-type {\n",
       "        vertical-align: middle;\n",
       "    }\n",
       "\n",
       "    .dataframe tbody tr th {\n",
       "        vertical-align: top;\n",
       "    }\n",
       "\n",
       "    .dataframe thead th {\n",
       "        text-align: right;\n",
       "    }\n",
       "</style>\n",
       "<table border=\"1\" class=\"dataframe\">\n",
       "  <thead>\n",
       "    <tr style=\"text-align: right;\">\n",
       "      <th></th>\n",
       "      <th>Train</th>\n",
       "      <th>Test</th>\n",
       "    </tr>\n",
       "  </thead>\n",
       "  <tbody>\n",
       "    <tr>\n",
       "      <th>logreg</th>\n",
       "      <td>0.498427</td>\n",
       "      <td>0.503289</td>\n",
       "    </tr>\n",
       "    <tr>\n",
       "      <th>KNN</th>\n",
       "      <td>0.484558</td>\n",
       "      <td>0.448956</td>\n",
       "    </tr>\n",
       "    <tr>\n",
       "      <th>Tree</th>\n",
       "      <td>0.441950</td>\n",
       "      <td>0.431513</td>\n",
       "    </tr>\n",
       "    <tr>\n",
       "      <th>Forest</th>\n",
       "      <td>0.604661</td>\n",
       "      <td>0.541607</td>\n",
       "    </tr>\n",
       "    <tr>\n",
       "      <th>AdaBoost</th>\n",
       "      <td>0.553975</td>\n",
       "      <td>0.540177</td>\n",
       "    </tr>\n",
       "    <tr>\n",
       "      <th>Gradient Boost</th>\n",
       "      <td>0.621247</td>\n",
       "      <td>0.564484</td>\n",
       "    </tr>\n",
       "    <tr>\n",
       "      <th>XGBoost</th>\n",
       "      <td>0.588719</td>\n",
       "      <td>0.559337</td>\n",
       "    </tr>\n",
       "    <tr>\n",
       "      <th>SVM</th>\n",
       "      <td>0.515370</td>\n",
       "      <td>0.510438</td>\n",
       "    </tr>\n",
       "  </tbody>\n",
       "</table>\n",
       "</div>"
      ],
      "text/plain": [
       "                   Train      Test\n",
       "logreg          0.498427  0.503289\n",
       "KNN             0.484558  0.448956\n",
       "Tree            0.441950  0.431513\n",
       "Forest          0.604661  0.541607\n",
       "AdaBoost        0.553975  0.540177\n",
       "Gradient Boost  0.621247  0.564484\n",
       "XGBoost         0.588719  0.559337\n",
       "SVM             0.515370  0.510438"
      ]
     },
     "execution_count": 31,
     "metadata": {},
     "output_type": "execute_result"
    }
   ],
   "source": [
    "scores = pd.DataFrame(model_score,index=['Train','Test']).T\n",
    "scores"
   ]
  },
  {
   "cell_type": "markdown",
   "metadata": {},
   "source": [
    "The model fit with eXtreme Gradient Boost Classifier had the highest accuracy rate"
   ]
  },
  {
   "cell_type": "markdown",
   "metadata": {},
   "source": [
    "## Fitting Test_Final Dataset "
   ]
  },
  {
   "cell_type": "code",
   "execution_count": 40,
   "metadata": {
    "ExecuteTime": {
     "end_time": "2019-11-05T03:18:41.065760Z",
     "start_time": "2019-11-05T03:18:40.958443Z"
    }
   },
   "outputs": [
    {
     "name": "stdout",
     "output_type": "stream",
     "text": [
      "Final Test Accuracy Score: 0.5489306545690213\n"
     ]
    }
   ],
   "source": [
    "#Create prediction\n",
    "xgb_pred_test_final = xgb_clf.predict(X_test_final_mmscaled)\n",
    "\n",
    "#Print accuracy\n",
    "print_metrics(y_test_final, xgb_pred_test_final, \"Final Test\")"
   ]
  },
  {
   "cell_type": "markdown",
   "metadata": {},
   "source": [
    "### Confusion Matrix"
   ]
  },
  {
   "cell_type": "code",
   "execution_count": 39,
   "metadata": {
    "ExecuteTime": {
     "end_time": "2019-11-05T03:17:16.431829Z",
     "start_time": "2019-11-05T03:17:16.062180Z"
    }
   },
   "outputs": [
    {
     "name": "stdout",
     "output_type": "stream",
     "text": [
      "Confusion matrix, without normalization\n"
     ]
    },
    {
     "data": {
      "image/png": "[encoded data removed]",
      "text/plain": [
       "<Figure size 720x720 with 2 Axes>"
      ]
     },
     "metadata": {
      "needs_background": "light"
     },
     "output_type": "display_data"
    }
   ],
   "source": [
    "import matplotlib.pyplot as plt\n",
    "from sklearn.metrics import confusion_matrix\n",
    "%matplotlib inline\n",
    "\n",
    "from scripts import plot_confusion_matrix \n",
    "\n",
    "cnf_matrix = confusion_matrix(y_test_final, xgb_pred_test_final)\n",
    "\n",
    "plot_confusion_matrix(cm=cnf_matrix, classes=class_names)"
   ]
  },
  {
   "cell_type": "markdown",
   "metadata": {},
   "source": [
    "### Feature Importance "
   ]
  },
  {
   "cell_type": "code",
   "execution_count": 41,
   "metadata": {
    "ExecuteTime": {
     "end_time": "2019-11-05T03:18:49.004398Z",
     "start_time": "2019-11-05T03:18:48.718165Z"
    }
   },
   "outputs": [
    {
     "data": {
      "text/plain": [
       "<Figure size 720x720 with 0 Axes>"
      ]
     },
     "metadata": {},
     "output_type": "display_data"
    },
    {
     "data": {
      "image/png": "[encoded data removed]",
      "text/plain": [
       "<Figure size 432x288 with 1 Axes>"
      ]
     },
     "metadata": {
      "needs_background": "light"
     },
     "output_type": "display_data"
    }
   ],
   "source": [
    "from xgboost import plot_importance\n",
    "\n",
    "plt.figure(figsize=(10,10))\n",
    "plot_importance(xgb_clf,height=0.3)\n",
    "\n",
    "plt.show();"
   ]
  },
  {
   "cell_type": "markdown",
   "metadata": {},
   "source": [
    "### Presentation Songs "
   ]
  },
  {
   "cell_type": "code",
   "execution_count": 42,
   "metadata": {
    "ExecuteTime": {
     "end_time": "2019-11-05T03:19:02.160711Z",
     "start_time": "2019-11-05T03:19:02.071352Z"
    }
   },
   "outputs": [
    {
     "ename": "ValueError",
     "evalue": "feature_names mismatch: ['f0', 'f1', 'f2', 'f3', 'f4', 'f5', 'f6', 'f7', 'f8', 'f9', 'f10', 'f11', 'f12', 'f13', 'f14', 'f15', 'f16', 'f17', 'f18', 'f19', 'f20', 'f21', 'f22', 'f23', 'f24', 'f25', 'f26'] ['danceability', 'energy', 'key', 'loudness', 'mode', 'speechiness', 'acousticness', 'instrumentalness', 'liveness', 'valence', 'tempo', 'duration_ms', 'time_signature']\nexpected f17, f14, f26, f23, f8, f19, f16, f5, f15, f21, f7, f22, f10, f4, f25, f0, f18, f24, f1, f13, f3, f2, f9, f11, f12, f20, f6 in input data\ntraining data did not have the following fields: liveness, loudness, speechiness, mode, instrumentalness, valence, key, acousticness, danceability, energy, tempo, duration_ms, time_signature",
     "output_type": "error",
     "traceback": [
      "\u001b[0;31m---------------------------------------------------------------------------\u001b[0m",
      "\u001b[0;31mValueError\u001b[0m                                Traceback (most recent call last)",
      "\u001b[0;32m<ipython-input-42-2f0af73931f3>\u001b[0m in \u001b[0;36m<module>\u001b[0;34m\u001b[0m\n\u001b[1;32m      5\u001b[0m \u001b[0mpres_y\u001b[0m \u001b[0;34m=\u001b[0m \u001b[0;34m[\u001b[0m\u001b[0;36m1\u001b[0m\u001b[0;34m,\u001b[0m\u001b[0;36m2\u001b[0m\u001b[0;34m,\u001b[0m\u001b[0;36m3\u001b[0m\u001b[0;34m,\u001b[0m\u001b[0;36m4\u001b[0m\u001b[0;34m,\u001b[0m\u001b[0;36m5\u001b[0m\u001b[0;34m,\u001b[0m\u001b[0;36m6\u001b[0m\u001b[0;34m,\u001b[0m\u001b[0;36m7\u001b[0m\u001b[0;34m]\u001b[0m\u001b[0;34m\u001b[0m\u001b[0;34m\u001b[0m\u001b[0m\n\u001b[1;32m      6\u001b[0m \u001b[0;34m\u001b[0m\u001b[0m\n\u001b[0;32m----> 7\u001b[0;31m \u001b[0mpred_present\u001b[0m \u001b[0;34m=\u001b[0m \u001b[0mxgb_clf\u001b[0m\u001b[0;34m.\u001b[0m\u001b[0mpredict\u001b[0m\u001b[0;34m(\u001b[0m\u001b[0mpres_test\u001b[0m\u001b[0;34m)\u001b[0m\u001b[0;34m\u001b[0m\u001b[0;34m\u001b[0m\u001b[0m\n\u001b[0m\u001b[1;32m      8\u001b[0m \u001b[0mprint\u001b[0m\u001b[0;34m(\u001b[0m\u001b[0mpred_present\u001b[0m\u001b[0;34m)\u001b[0m\u001b[0;34m\u001b[0m\u001b[0;34m\u001b[0m\u001b[0m\n\u001b[1;32m      9\u001b[0m \u001b[0;34m\u001b[0m\u001b[0m\n",
      "\u001b[0;32m//anaconda3/lib/python3.7/site-packages/xgboost/sklearn.py\u001b[0m in \u001b[0;36mpredict\u001b[0;34m(self, data, output_margin, ntree_limit, validate_features)\u001b[0m\n\u001b[1;32m    789\u001b[0m                                                  \u001b[0moutput_margin\u001b[0m\u001b[0;34m=\u001b[0m\u001b[0moutput_margin\u001b[0m\u001b[0;34m,\u001b[0m\u001b[0;34m\u001b[0m\u001b[0;34m\u001b[0m\u001b[0m\n\u001b[1;32m    790\u001b[0m                                                  \u001b[0mntree_limit\u001b[0m\u001b[0;34m=\u001b[0m\u001b[0mntree_limit\u001b[0m\u001b[0;34m,\u001b[0m\u001b[0;34m\u001b[0m\u001b[0;34m\u001b[0m\u001b[0m\n\u001b[0;32m--> 791\u001b[0;31m                                                  validate_features=validate_features)\n\u001b[0m\u001b[1;32m    792\u001b[0m         \u001b[0;32mif\u001b[0m \u001b[0moutput_margin\u001b[0m\u001b[0;34m:\u001b[0m\u001b[0;34m\u001b[0m\u001b[0;34m\u001b[0m\u001b[0m\n\u001b[1;32m    793\u001b[0m             \u001b[0;31m# If output_margin is active, simply return the scores\u001b[0m\u001b[0;34m\u001b[0m\u001b[0;34m\u001b[0m\u001b[0;34m\u001b[0m\u001b[0m\n",
      "\u001b[0;32m//anaconda3/lib/python3.7/site-packages/xgboost/core.py\u001b[0m in \u001b[0;36mpredict\u001b[0;34m(self, data, output_margin, ntree_limit, pred_leaf, pred_contribs, approx_contribs, pred_interactions, validate_features)\u001b[0m\n\u001b[1;32m   1282\u001b[0m \u001b[0;34m\u001b[0m\u001b[0m\n\u001b[1;32m   1283\u001b[0m         \u001b[0;32mif\u001b[0m \u001b[0mvalidate_features\u001b[0m\u001b[0;34m:\u001b[0m\u001b[0;34m\u001b[0m\u001b[0;34m\u001b[0m\u001b[0m\n\u001b[0;32m-> 1284\u001b[0;31m             \u001b[0mself\u001b[0m\u001b[0;34m.\u001b[0m\u001b[0m_validate_features\u001b[0m\u001b[0;34m(\u001b[0m\u001b[0mdata\u001b[0m\u001b[0;34m)\u001b[0m\u001b[0;34m\u001b[0m\u001b[0;34m\u001b[0m\u001b[0m\n\u001b[0m\u001b[1;32m   1285\u001b[0m \u001b[0;34m\u001b[0m\u001b[0m\n\u001b[1;32m   1286\u001b[0m         \u001b[0mlength\u001b[0m \u001b[0;34m=\u001b[0m \u001b[0mc_bst_ulong\u001b[0m\u001b[0;34m(\u001b[0m\u001b[0;34m)\u001b[0m\u001b[0;34m\u001b[0m\u001b[0;34m\u001b[0m\u001b[0m\n",
      "\u001b[0;32m//anaconda3/lib/python3.7/site-packages/xgboost/core.py\u001b[0m in \u001b[0;36m_validate_features\u001b[0;34m(self, data)\u001b[0m\n\u001b[1;32m   1688\u001b[0m \u001b[0;34m\u001b[0m\u001b[0m\n\u001b[1;32m   1689\u001b[0m                 raise ValueError(msg.format(self.feature_names,\n\u001b[0;32m-> 1690\u001b[0;31m                                             data.feature_names))\n\u001b[0m\u001b[1;32m   1691\u001b[0m \u001b[0;34m\u001b[0m\u001b[0m\n\u001b[1;32m   1692\u001b[0m     \u001b[0;32mdef\u001b[0m \u001b[0mget_split_value_histogram\u001b[0m\u001b[0;34m(\u001b[0m\u001b[0mself\u001b[0m\u001b[0;34m,\u001b[0m \u001b[0mfeature\u001b[0m\u001b[0;34m,\u001b[0m \u001b[0mfmap\u001b[0m\u001b[0;34m=\u001b[0m\u001b[0;34m''\u001b[0m\u001b[0;34m,\u001b[0m \u001b[0mbins\u001b[0m\u001b[0;34m=\u001b[0m\u001b[0;32mNone\u001b[0m\u001b[0;34m,\u001b[0m \u001b[0mas_pandas\u001b[0m\u001b[0;34m=\u001b[0m\u001b[0;32mTrue\u001b[0m\u001b[0;34m)\u001b[0m\u001b[0;34m:\u001b[0m\u001b[0;34m\u001b[0m\u001b[0;34m\u001b[0m\u001b[0m\n",
      "\u001b[0;31mValueError\u001b[0m: feature_names mismatch: ['f0', 'f1', 'f2', 'f3', 'f4', 'f5', 'f6', 'f7', 'f8', 'f9', 'f10', 'f11', 'f12', 'f13', 'f14', 'f15', 'f16', 'f17', 'f18', 'f19', 'f20', 'f21', 'f22', 'f23', 'f24', 'f25', 'f26'] ['danceability', 'energy', 'key', 'loudness', 'mode', 'speechiness', 'acousticness', 'instrumentalness', 'liveness', 'valence', 'tempo', 'duration_ms', 'time_signature']\nexpected f17, f14, f26, f23, f8, f19, f16, f5, f15, f21, f7, f22, f10, f4, f25, f0, f18, f24, f1, f13, f3, f2, f9, f11, f12, f20, f6 in input data\ntraining data did not have the following fields: liveness, loudness, speechiness, mode, instrumentalness, valence, key, acousticness, danceability, energy, tempo, duration_ms, time_signature"
     ]
    }
   ],
   "source": [
    "pres_test = pd.read_csv('data/presentation_test.csv')\n",
    "pres_test = pres_test.iloc[:,2:]\n",
    "# pres_test\n",
    "\n",
    "pres_y = [1,2,3,4,5,6,7]\n",
    "\n",
    "pred_present = xgb_clf.predict(pres_test)\n",
    "print(pred_present)\n",
    "\n",
    "print_metrics(pres_y, pred_present, \"Train\")"
   ]
  },
  {
   "cell_type": "code",
   "execution_count": null,
   "metadata": {},
   "outputs": [],
   "source": []
  }
 ],
 "metadata": {
  "kernelspec": {
   "display_name": "Python 3",
   "language": "python",
   "name": "python3"
  },
  "language_info": {
   "codemirror_mode": {
    "name": "ipython",
    "version": 3
   },
   "file_extension": ".py",
   "mimetype": "text/x-python",
   "name": "python",
   "nbconvert_exporter": "python",
   "pygments_lexer": "ipython3",
   "version": "3.7.3"
  },
  "toc": {
   "base_numbering": 1,
   "nav_menu": {},
   "number_sections": true,
   "sideBar": true,
   "skip_h1_title": true,
   "title_cell": "Table of Contents",
   "title_sidebar": "Contents",
   "toc_cell": false,
   "toc_position": {},
   "toc_section_display": true,
   "toc_window_display": false
  }
 },
 "nbformat": 4,
 "nbformat_minor": 2
}
