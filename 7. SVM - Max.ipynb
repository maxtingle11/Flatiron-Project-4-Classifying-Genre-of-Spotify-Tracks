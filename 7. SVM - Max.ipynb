{
 "cells": [
  {
   "cell_type": "markdown",
   "metadata": {},
   "source": [
    "## Support Vector Machine"
   ]
  },
  {
   "cell_type": "markdown",
   "metadata": {},
   "source": [
    "### Import Data"
   ]
  },
  {
   "cell_type": "code",
   "execution_count": 1,
   "metadata": {
    "ExecuteTime": {
     "end_time": "2019-11-04T18:56:49.927619Z",
     "start_time": "2019-11-04T18:56:49.425578Z"
    }
   },
   "outputs": [
    {
     "name": "stdout",
     "output_type": "stream",
     "text": [
      "<class 'pandas.core.frame.DataFrame'>\n",
      "RangeIndex: 13988 entries, 0 to 13987\n",
      "Data columns (total 28 columns):\n",
      "acousticness          13988 non-null float64\n",
      "danceability          13988 non-null float64\n",
      "duration_ms           13988 non-null float64\n",
      "energy                13988 non-null float64\n",
      "instrumentalness      13988 non-null float64\n",
      "liveness              13988 non-null float64\n",
      "loudness              13988 non-null float64\n",
      "mode_feat             13988 non-null float64\n",
      "speechiness           13988 non-null float64\n",
      "tempo                 13988 non-null float64\n",
      "valence               13988 non-null float64\n",
      "time_signature_1.0    13988 non-null int64\n",
      "time_signature_3.0    13988 non-null int64\n",
      "time_signature_4.0    13988 non-null int64\n",
      "time_signature_5.0    13988 non-null int64\n",
      "key_0.0               13988 non-null int64\n",
      "key_1.0               13988 non-null int64\n",
      "key_2.0               13988 non-null int64\n",
      "key_3.0               13988 non-null int64\n",
      "key_4.0               13988 non-null int64\n",
      "key_5.0               13988 non-null int64\n",
      "key_6.0               13988 non-null int64\n",
      "key_7.0               13988 non-null int64\n",
      "key_8.0               13988 non-null int64\n",
      "key_9.0               13988 non-null int64\n",
      "key_10.0              13988 non-null int64\n",
      "key_11.0              13988 non-null int64\n",
      "target                13988 non-null int64\n",
      "dtypes: float64(11), int64(17)\n",
      "memory usage: 3.0 MB\n",
      "None\n"
     ]
    },
    {
     "data": {
      "text/html": [
       "<div>\n",
       "<style scoped>\n",
       "    .dataframe tbody tr th:only-of-type {\n",
       "        vertical-align: middle;\n",
       "    }\n",
       "\n",
       "    .dataframe tbody tr th {\n",
       "        vertical-align: top;\n",
       "    }\n",
       "\n",
       "    .dataframe thead th {\n",
       "        text-align: right;\n",
       "    }\n",
       "</style>\n",
       "<table border=\"1\" class=\"dataframe\">\n",
       "  <thead>\n",
       "    <tr style=\"text-align: right;\">\n",
       "      <th></th>\n",
       "      <th>acousticness</th>\n",
       "      <th>danceability</th>\n",
       "      <th>duration_ms</th>\n",
       "      <th>energy</th>\n",
       "      <th>instrumentalness</th>\n",
       "      <th>liveness</th>\n",
       "      <th>loudness</th>\n",
       "      <th>mode_feat</th>\n",
       "      <th>speechiness</th>\n",
       "      <th>tempo</th>\n",
       "      <th>valence</th>\n",
       "      <th>time_signature_1.0</th>\n",
       "      <th>time_signature_3.0</th>\n",
       "      <th>time_signature_4.0</th>\n",
       "      <th>time_signature_5.0</th>\n",
       "      <th>key_0.0</th>\n",
       "      <th>key_1.0</th>\n",
       "      <th>key_2.0</th>\n",
       "      <th>key_3.0</th>\n",
       "      <th>key_4.0</th>\n",
       "      <th>key_5.0</th>\n",
       "      <th>key_6.0</th>\n",
       "      <th>key_7.0</th>\n",
       "      <th>key_8.0</th>\n",
       "      <th>key_9.0</th>\n",
       "      <th>key_10.0</th>\n",
       "      <th>key_11.0</th>\n",
       "      <th>target</th>\n",
       "    </tr>\n",
       "  </thead>\n",
       "  <tbody>\n",
       "    <tr>\n",
       "      <th>0</th>\n",
       "      <td>0.620000</td>\n",
       "      <td>0.465</td>\n",
       "      <td>146494.0</td>\n",
       "      <td>0.469</td>\n",
       "      <td>0.000000</td>\n",
       "      <td>0.1180</td>\n",
       "      <td>-4.256</td>\n",
       "      <td>1.0</td>\n",
       "      <td>0.0319</td>\n",
       "      <td>69.220</td>\n",
       "      <td>0.518</td>\n",
       "      <td>0</td>\n",
       "      <td>0</td>\n",
       "      <td>1</td>\n",
       "      <td>0</td>\n",
       "      <td>0</td>\n",
       "      <td>0</td>\n",
       "      <td>0</td>\n",
       "      <td>0</td>\n",
       "      <td>0</td>\n",
       "      <td>0</td>\n",
       "      <td>0</td>\n",
       "      <td>1</td>\n",
       "      <td>0</td>\n",
       "      <td>0</td>\n",
       "      <td>0</td>\n",
       "      <td>0</td>\n",
       "      <td>7</td>\n",
       "    </tr>\n",
       "    <tr>\n",
       "      <th>1</th>\n",
       "      <td>0.005980</td>\n",
       "      <td>0.489</td>\n",
       "      <td>211885.0</td>\n",
       "      <td>0.641</td>\n",
       "      <td>0.020100</td>\n",
       "      <td>0.1220</td>\n",
       "      <td>-7.011</td>\n",
       "      <td>0.0</td>\n",
       "      <td>0.0320</td>\n",
       "      <td>108.901</td>\n",
       "      <td>0.587</td>\n",
       "      <td>0</td>\n",
       "      <td>0</td>\n",
       "      <td>1</td>\n",
       "      <td>0</td>\n",
       "      <td>0</td>\n",
       "      <td>0</td>\n",
       "      <td>0</td>\n",
       "      <td>0</td>\n",
       "      <td>0</td>\n",
       "      <td>0</td>\n",
       "      <td>0</td>\n",
       "      <td>0</td>\n",
       "      <td>0</td>\n",
       "      <td>0</td>\n",
       "      <td>0</td>\n",
       "      <td>1</td>\n",
       "      <td>1</td>\n",
       "    </tr>\n",
       "    <tr>\n",
       "      <th>2</th>\n",
       "      <td>0.249000</td>\n",
       "      <td>0.594</td>\n",
       "      <td>283733.0</td>\n",
       "      <td>0.635</td>\n",
       "      <td>0.000000</td>\n",
       "      <td>0.4540</td>\n",
       "      <td>-4.259</td>\n",
       "      <td>0.0</td>\n",
       "      <td>0.4700</td>\n",
       "      <td>75.035</td>\n",
       "      <td>0.552</td>\n",
       "      <td>0</td>\n",
       "      <td>0</td>\n",
       "      <td>1</td>\n",
       "      <td>0</td>\n",
       "      <td>0</td>\n",
       "      <td>0</td>\n",
       "      <td>0</td>\n",
       "      <td>0</td>\n",
       "      <td>1</td>\n",
       "      <td>0</td>\n",
       "      <td>0</td>\n",
       "      <td>0</td>\n",
       "      <td>0</td>\n",
       "      <td>0</td>\n",
       "      <td>0</td>\n",
       "      <td>0</td>\n",
       "      <td>2</td>\n",
       "    </tr>\n",
       "    <tr>\n",
       "      <th>3</th>\n",
       "      <td>0.000667</td>\n",
       "      <td>0.674</td>\n",
       "      <td>191250.0</td>\n",
       "      <td>0.869</td>\n",
       "      <td>0.604000</td>\n",
       "      <td>0.0651</td>\n",
       "      <td>-4.758</td>\n",
       "      <td>0.0</td>\n",
       "      <td>0.0417</td>\n",
       "      <td>127.802</td>\n",
       "      <td>0.071</td>\n",
       "      <td>0</td>\n",
       "      <td>0</td>\n",
       "      <td>1</td>\n",
       "      <td>0</td>\n",
       "      <td>0</td>\n",
       "      <td>0</td>\n",
       "      <td>0</td>\n",
       "      <td>0</td>\n",
       "      <td>0</td>\n",
       "      <td>0</td>\n",
       "      <td>0</td>\n",
       "      <td>1</td>\n",
       "      <td>0</td>\n",
       "      <td>0</td>\n",
       "      <td>0</td>\n",
       "      <td>0</td>\n",
       "      <td>7</td>\n",
       "    </tr>\n",
       "    <tr>\n",
       "      <th>4</th>\n",
       "      <td>0.028800</td>\n",
       "      <td>0.675</td>\n",
       "      <td>231133.0</td>\n",
       "      <td>0.760</td>\n",
       "      <td>0.000022</td>\n",
       "      <td>0.0585</td>\n",
       "      <td>-4.435</td>\n",
       "      <td>1.0</td>\n",
       "      <td>0.0513</td>\n",
       "      <td>109.619</td>\n",
       "      <td>0.611</td>\n",
       "      <td>0</td>\n",
       "      <td>0</td>\n",
       "      <td>1</td>\n",
       "      <td>0</td>\n",
       "      <td>0</td>\n",
       "      <td>0</td>\n",
       "      <td>0</td>\n",
       "      <td>0</td>\n",
       "      <td>0</td>\n",
       "      <td>0</td>\n",
       "      <td>0</td>\n",
       "      <td>1</td>\n",
       "      <td>0</td>\n",
       "      <td>0</td>\n",
       "      <td>0</td>\n",
       "      <td>0</td>\n",
       "      <td>4</td>\n",
       "    </tr>\n",
       "  </tbody>\n",
       "</table>\n",
       "</div>"
      ],
      "text/plain": [
       "   acousticness  danceability  duration_ms  energy  instrumentalness  liveness  loudness  mode_feat  speechiness    tempo  valence  time_signature_1.0  time_signature_3.0  time_signature_4.0  time_signature_5.0  key_0.0  key_1.0  key_2.0  key_3.0  key_4.0  key_5.0  key_6.0  key_7.0  key_8.0  key_9.0  key_10.0  key_11.0  target\n",
       "0      0.620000         0.465     146494.0   0.469          0.000000    0.1180    -4.256        1.0       0.0319   69.220    0.518                   0                   0                   1                   0        0        0        0        0        0        0        0        1        0        0         0         0       7\n",
       "1      0.005980         0.489     211885.0   0.641          0.020100    0.1220    -7.011        0.0       0.0320  108.901    0.587                   0                   0                   1                   0        0        0        0        0        0        0        0        0        0        0         0         1       1\n",
       "2      0.249000         0.594     283733.0   0.635          0.000000    0.4540    -4.259        0.0       0.4700   75.035    0.552                   0                   0                   1                   0        0        0        0        0        1        0        0        0        0        0         0         0       2\n",
       "3      0.000667         0.674     191250.0   0.869          0.604000    0.0651    -4.758        0.0       0.0417  127.802    0.071                   0                   0                   1                   0        0        0        0        0        0        0        0        1        0        0         0         0       7\n",
       "4      0.028800         0.675     231133.0   0.760          0.000022    0.0585    -4.435        1.0       0.0513  109.619    0.611                   0                   0                   1                   0        0        0        0        0        0        0        0        1        0        0         0         0       4"
      ]
     },
     "execution_count": 1,
     "metadata": {},
     "output_type": "execute_result"
    }
   ],
   "source": [
    "import pandas as pd\n",
    "import numpy as np\n",
    "\n",
    "import warnings\n",
    "warnings.filterwarnings('ignore')\n",
    "\n",
    "pd.set_option('display.max_rows', 50)\n",
    "pd.set_option('display.max_columns', 300)\n",
    "pd.set_option('display.width', 1000)\n",
    "\n",
    "# Import data to Pandas DataFrame\n",
    "train = pd.read_csv('data/train.csv')\n",
    "test = pd.read_csv('data/test.csv')\n",
    "test_final = pd.read_csv('data/test_final.csv')\n",
    "\n",
    "# Split X & y for train, test, and test_final\n",
    "X_train = train.drop('target', axis=1)\n",
    "y_train = train['target']\n",
    "\n",
    "X_test = test.drop('target', axis=1)\n",
    "y_test = test['target']\n",
    "\n",
    "X_test_final = test_final.drop('target', axis=1)\n",
    "y_test_final = test_final['target']\n",
    "\n",
    "# Preivew data\n",
    "print(train.info())\n",
    "train.head()"
   ]
  },
  {
   "cell_type": "markdown",
   "metadata": {},
   "source": [
    "### Scale Train & Test Data"
   ]
  },
  {
   "cell_type": "code",
   "execution_count": 2,
   "metadata": {
    "ExecuteTime": {
     "end_time": "2019-11-04T18:56:52.828888Z",
     "start_time": "2019-11-04T18:56:52.373722Z"
    }
   },
   "outputs": [],
   "source": [
    "# Standardize with MinMax Scaler\n",
    "from sklearn.preprocessing import MinMaxScaler\n",
    "min_max_scaler = MinMaxScaler()\n",
    "X_train_mmscaled = min_max_scaler.fit_transform(X_train)\n",
    "X_test_mmscaled = min_max_scaler.transform(X_test)"
   ]
  },
  {
   "cell_type": "markdown",
   "metadata": {},
   "source": [
    "### Fit SVM Model"
   ]
  },
  {
   "cell_type": "code",
   "execution_count": 54,
   "metadata": {
    "ExecuteTime": {
     "end_time": "2019-11-04T18:14:27.765347Z",
     "start_time": "2019-11-04T18:13:21.702332Z"
    }
   },
   "outputs": [
    {
     "name": "stdout",
     "output_type": "stream",
     "text": [
      "Train Score: 0.4789104947097512\n",
      "Test Score: 0.4792679439519588\n"
     ]
    }
   ],
   "source": [
    "from sklearn import svm\n",
    "svm_clf = svm.SVC(probability=True, random_state=11)\n",
    "svm_clf.fit(X_train_mmscaled, y_train)\n",
    "\n",
    "print('Train Score:', svm_clf.score(X_train_mmscaled, y_train))\n",
    "print('Test Score:', svm_clf.score(X_test_mmscaled, y_test))"
   ]
  },
  {
   "cell_type": "markdown",
   "metadata": {},
   "source": [
    "### GridSearch to Optimize Parameters"
   ]
  },
  {
   "cell_type": "code",
   "execution_count": 40,
   "metadata": {
    "ExecuteTime": {
     "end_time": "2019-11-04T17:18:21.954432Z",
     "start_time": "2019-11-04T17:15:40.501164Z"
    }
   },
   "outputs": [
    {
     "name": "stdout",
     "output_type": "stream",
     "text": [
      "Fitting 3 folds for each of 1 candidates, totalling 3 fits\n"
     ]
    },
    {
     "name": "stderr",
     "output_type": "stream",
     "text": [
      "[Parallel(n_jobs=5)]: Using backend LokyBackend with 5 concurrent workers.\n",
      "[Parallel(n_jobs=5)]: Done   3 out of   3 | elapsed:  1.1min finished\n"
     ]
    },
    {
     "name": "stdout",
     "output_type": "stream",
     "text": [
      "Fitting 3 folds for each of 1 candidates, totalling 3 fits\n"
     ]
    },
    {
     "name": "stderr",
     "output_type": "stream",
     "text": [
      "[Parallel(n_jobs=5)]: Using backend LokyBackend with 5 concurrent workers.\n",
      "[Parallel(n_jobs=5)]: Done   3 out of   3 | elapsed:    3.7s finished\n"
     ]
    },
    {
     "name": "stdout",
     "output_type": "stream",
     "text": [
      "Best accuracy: 0.508\n",
      "\n",
      "Best params:\n",
      " {'coef0': 25, 'degree': 3, 'gamma': 0.03, 'kernel': 'poly'}\n"
     ]
    }
   ],
   "source": [
    "from sklearn.model_selection import GridSearchCV\n",
    "\n",
    "# Set grid search params\n",
    "param_grid_svm = [\n",
    "    #{'C': [12], 'kernel': ['linear']},\n",
    "    #{'C': [10], 'gamma': [0.1], 'kernel': ['rbf']},\n",
    "    {'coef0': [25], 'gamma': [0.03], 'degree': [3], 'kernel': ['poly']},\n",
    "    #{'coef0': [0.01], 'gamma': [0.2], 'kernel': ['sigmoid']}\n",
    "]\n",
    "\n",
    "# Construct grid search\n",
    "gs_svm = GridSearchCV(estimator=svm_clf,\n",
    "           param_grid=param_grid_svm,\n",
    "           scoring='accuracy',\n",
    "           cv=3, verbose=2, return_train_score=True,\n",
    "                     n_jobs=5)\n",
    "\n",
    "# Fit using grid search\n",
    "gs_svm.fit(X_train_mmscaled, y_train)\n",
    "gs_svm.fit(X_test_mmscaled, y_test)\n",
    "\n",
    "# Best accuracy\n",
    "print('Best accuracy: %.3f' % gs_svm.best_score_)\n",
    "\n",
    "# Best params\n",
    "print('\\nBest params:\\n', gs_svm.best_params_)"
   ]
  },
  {
   "cell_type": "markdown",
   "metadata": {},
   "source": [
    "### Accuracy Score"
   ]
  },
  {
   "cell_type": "code",
   "execution_count": 41,
   "metadata": {
    "ExecuteTime": {
     "end_time": "2019-11-04T17:18:23.447206Z",
     "start_time": "2019-11-04T17:18:21.956771Z"
    }
   },
   "outputs": [
    {
     "name": "stdout",
     "output_type": "stream",
     "text": [
      "Accuracy Score: 0.4929225050042894\n",
      "Accuracy Score: 0.536745782098942\n"
     ]
    }
   ],
   "source": [
    "pred_gs_svm_train = gs_svm.predict(X_train_mmscaled)\n",
    "pred_gs_svm_test = gs_svm.predict(X_test_mmscaled)\n",
    "\n",
    "from sklearn.metrics import precision_score, recall_score, accuracy_score, f1_score\n",
    "def print_metrics(labels, preds):\n",
    "    print(\"Accuracy Score: {}\".format(accuracy_score(labels, preds)))\n",
    "\n",
    "print_metrics(y_train, pred_gs_svm_train)\n",
    "print_metrics(y_test, pred_gs_svm_test)"
   ]
  },
  {
   "cell_type": "markdown",
   "metadata": {},
   "source": [
    "### Omit Key and Time Signature Features from X"
   ]
  },
  {
   "cell_type": "code",
   "execution_count": 3,
   "metadata": {
    "ExecuteTime": {
     "end_time": "2019-11-04T18:56:57.748260Z",
     "start_time": "2019-11-04T18:56:57.720012Z"
    }
   },
   "outputs": [
    {
     "name": "stdout",
     "output_type": "stream",
     "text": [
      "<class 'pandas.core.frame.DataFrame'>\n",
      "RangeIndex: 13988 entries, 0 to 13987\n",
      "Data columns (total 9 columns):\n",
      "acousticness        13988 non-null float64\n",
      "danceability        13988 non-null float64\n",
      "duration_ms         13988 non-null float64\n",
      "energy              13988 non-null float64\n",
      "instrumentalness    13988 non-null float64\n",
      "loudness            13988 non-null float64\n",
      "speechiness         13988 non-null float64\n",
      "tempo               13988 non-null float64\n",
      "valence             13988 non-null float64\n",
      "dtypes: float64(9)\n",
      "memory usage: 983.6 KB\n",
      "None\n"
     ]
    },
    {
     "data": {
      "text/html": [
       "<div>\n",
       "<style scoped>\n",
       "    .dataframe tbody tr th:only-of-type {\n",
       "        vertical-align: middle;\n",
       "    }\n",
       "\n",
       "    .dataframe tbody tr th {\n",
       "        vertical-align: top;\n",
       "    }\n",
       "\n",
       "    .dataframe thead th {\n",
       "        text-align: right;\n",
       "    }\n",
       "</style>\n",
       "<table border=\"1\" class=\"dataframe\">\n",
       "  <thead>\n",
       "    <tr style=\"text-align: right;\">\n",
       "      <th></th>\n",
       "      <th>acousticness</th>\n",
       "      <th>danceability</th>\n",
       "      <th>duration_ms</th>\n",
       "      <th>energy</th>\n",
       "      <th>instrumentalness</th>\n",
       "      <th>loudness</th>\n",
       "      <th>speechiness</th>\n",
       "      <th>tempo</th>\n",
       "      <th>valence</th>\n",
       "    </tr>\n",
       "  </thead>\n",
       "  <tbody>\n",
       "    <tr>\n",
       "      <th>0</th>\n",
       "      <td>0.620000</td>\n",
       "      <td>0.465</td>\n",
       "      <td>146494.0</td>\n",
       "      <td>0.469</td>\n",
       "      <td>0.000000</td>\n",
       "      <td>-4.256</td>\n",
       "      <td>0.0319</td>\n",
       "      <td>69.220</td>\n",
       "      <td>0.518</td>\n",
       "    </tr>\n",
       "    <tr>\n",
       "      <th>1</th>\n",
       "      <td>0.005980</td>\n",
       "      <td>0.489</td>\n",
       "      <td>211885.0</td>\n",
       "      <td>0.641</td>\n",
       "      <td>0.020100</td>\n",
       "      <td>-7.011</td>\n",
       "      <td>0.0320</td>\n",
       "      <td>108.901</td>\n",
       "      <td>0.587</td>\n",
       "    </tr>\n",
       "    <tr>\n",
       "      <th>2</th>\n",
       "      <td>0.249000</td>\n",
       "      <td>0.594</td>\n",
       "      <td>283733.0</td>\n",
       "      <td>0.635</td>\n",
       "      <td>0.000000</td>\n",
       "      <td>-4.259</td>\n",
       "      <td>0.4700</td>\n",
       "      <td>75.035</td>\n",
       "      <td>0.552</td>\n",
       "    </tr>\n",
       "    <tr>\n",
       "      <th>3</th>\n",
       "      <td>0.000667</td>\n",
       "      <td>0.674</td>\n",
       "      <td>191250.0</td>\n",
       "      <td>0.869</td>\n",
       "      <td>0.604000</td>\n",
       "      <td>-4.758</td>\n",
       "      <td>0.0417</td>\n",
       "      <td>127.802</td>\n",
       "      <td>0.071</td>\n",
       "    </tr>\n",
       "    <tr>\n",
       "      <th>4</th>\n",
       "      <td>0.028800</td>\n",
       "      <td>0.675</td>\n",
       "      <td>231133.0</td>\n",
       "      <td>0.760</td>\n",
       "      <td>0.000022</td>\n",
       "      <td>-4.435</td>\n",
       "      <td>0.0513</td>\n",
       "      <td>109.619</td>\n",
       "      <td>0.611</td>\n",
       "    </tr>\n",
       "  </tbody>\n",
       "</table>\n",
       "</div>"
      ],
      "text/plain": [
       "   acousticness  danceability  duration_ms  energy  instrumentalness  loudness  speechiness    tempo  valence\n",
       "0      0.620000         0.465     146494.0   0.469          0.000000    -4.256       0.0319   69.220    0.518\n",
       "1      0.005980         0.489     211885.0   0.641          0.020100    -7.011       0.0320  108.901    0.587\n",
       "2      0.249000         0.594     283733.0   0.635          0.000000    -4.259       0.4700   75.035    0.552\n",
       "3      0.000667         0.674     191250.0   0.869          0.604000    -4.758       0.0417  127.802    0.071\n",
       "4      0.028800         0.675     231133.0   0.760          0.000022    -4.435       0.0513  109.619    0.611"
      ]
     },
     "execution_count": 3,
     "metadata": {},
     "output_type": "execute_result"
    }
   ],
   "source": [
    "# Split X & y for train, test, and test_final\n",
    "# Omit columns related to time signature and \n",
    "X2_train = train.drop(['target', 'mode_feat', 'liveness', 'time_signature_1.0', 'time_signature_3.0', 'time_signature_4.0', 'time_signature_5.0', 'key_0.0', 'key_1.0', 'key_2.0', 'key_3.0', 'key_4.0', 'key_5.0', 'key_6.0', 'key_7.0', 'key_8.0', 'key_9.0', 'key_10.0', 'key_11.0'], axis=1)\n",
    "y2_train = train['target']\n",
    "\n",
    "X2_test = test.drop(['target', 'mode_feat', 'liveness', 'time_signature_1.0', 'time_signature_3.0', 'time_signature_4.0', 'time_signature_5.0', 'key_0.0', 'key_1.0', 'key_2.0', 'key_3.0', 'key_4.0', 'key_5.0', 'key_6.0', 'key_7.0', 'key_8.0', 'key_9.0', 'key_10.0', 'key_11.0'], axis=1)\n",
    "y2_test = test['target']\n",
    "\n",
    "X2_test_final = test_final.drop(['target', 'mode_feat', 'liveness', 'time_signature_1.0', 'time_signature_3.0', 'time_signature_4.0', 'time_signature_5.0', 'key_0.0', 'key_1.0', 'key_2.0', 'key_3.0', 'key_4.0', 'key_5.0', 'key_6.0', 'key_7.0', 'key_8.0', 'key_9.0', 'key_10.0', 'key_11.0'], axis=1)\n",
    "y2_test_final = test_final['target']\n",
    "\n",
    "# Preivew data\n",
    "print(X2_train.info())\n",
    "X2_train.head()"
   ]
  },
  {
   "cell_type": "markdown",
   "metadata": {},
   "source": [
    "### Scale Train & Test Data"
   ]
  },
  {
   "cell_type": "code",
   "execution_count": 4,
   "metadata": {
    "ExecuteTime": {
     "end_time": "2019-11-04T18:57:00.757641Z",
     "start_time": "2019-11-04T18:57:00.750784Z"
    }
   },
   "outputs": [],
   "source": [
    "# Standardize with MinMax Scaler\n",
    "from sklearn.preprocessing import MinMaxScaler\n",
    "min_max_scaler = MinMaxScaler()\n",
    "X2_train_mmscaled = min_max_scaler.fit_transform(X2_train)\n",
    "X2_test_mmscaled = min_max_scaler.transform(X2_test)"
   ]
  },
  {
   "cell_type": "markdown",
   "metadata": {},
   "source": [
    "### Fit SVM Model"
   ]
  },
  {
   "cell_type": "code",
   "execution_count": 57,
   "metadata": {
    "ExecuteTime": {
     "end_time": "2019-11-04T18:17:37.542054Z",
     "start_time": "2019-11-04T18:16:58.444934Z"
    }
   },
   "outputs": [
    {
     "name": "stdout",
     "output_type": "stream",
     "text": [
      "Train Score: 0.4859879897054618\n",
      "Test Score: 0.4872748069774092\n"
     ]
    }
   ],
   "source": [
    "from sklearn import svm\n",
    "svm_clf2 = svm.SVC(probability=True, random_state=11)\n",
    "svm_clf2.fit(X2_train_mmscaled, y2_train)\n",
    "\n",
    "print('Train Score:', svm_clf2.score(X2_train_mmscaled, y2_train))\n",
    "print('Test Score:', svm_clf2.score(X2_test_mmscaled, y2_test))"
   ]
  },
  {
   "cell_type": "markdown",
   "metadata": {},
   "source": [
    "### GridSearch to Optimize Parameters"
   ]
  },
  {
   "cell_type": "code",
   "execution_count": 47,
   "metadata": {
    "ExecuteTime": {
     "end_time": "2019-11-04T17:27:22.008820Z",
     "start_time": "2019-11-04T17:25:10.388535Z"
    }
   },
   "outputs": [
    {
     "name": "stdout",
     "output_type": "stream",
     "text": [
      "Fitting 3 folds for each of 4 candidates, totalling 12 fits\n"
     ]
    },
    {
     "name": "stderr",
     "output_type": "stream",
     "text": [
      "[Parallel(n_jobs=5)]: Using backend LokyBackend with 5 concurrent workers.\n",
      "[Parallel(n_jobs=5)]: Done  10 out of  12 | elapsed:  1.1min remaining:   13.3s\n",
      "[Parallel(n_jobs=5)]: Done  12 out of  12 | elapsed:  1.4min finished\n"
     ]
    },
    {
     "name": "stdout",
     "output_type": "stream",
     "text": [
      "Fitting 3 folds for each of 4 candidates, totalling 12 fits\n"
     ]
    },
    {
     "name": "stderr",
     "output_type": "stream",
     "text": [
      "[Parallel(n_jobs=5)]: Using backend LokyBackend with 5 concurrent workers.\n",
      "[Parallel(n_jobs=5)]: Done  10 out of  12 | elapsed:    3.8s remaining:    0.8s\n",
      "[Parallel(n_jobs=5)]: Done  12 out of  12 | elapsed:    4.9s finished\n"
     ]
    },
    {
     "name": "stdout",
     "output_type": "stream",
     "text": [
      "Best accuracy: 0.492\n",
      "\n",
      "Best params:\n",
      " {'coef0': 25, 'degree': 3, 'gamma': 0.03, 'kernel': 'poly'}\n"
     ]
    }
   ],
   "source": [
    "from sklearn.model_selection import GridSearchCV\n",
    "\n",
    "# Set grid search params\n",
    "param_grid_svm2 = [\n",
    "    #{'C': [12], 'kernel': ['linear']},\n",
    "    #{'C': [10], 'gamma': [0.1], 'kernel': ['rbf']},\n",
    "    {'coef0': [25], 'gamma': [0.03], 'degree': [3], 'kernel': ['poly']},\n",
    "    #{'coef0': [0.01], 'gamma': [0.2], 'kernel': ['sigmoid']}\n",
    "]\n",
    "\n",
    "# Construct grid search\n",
    "gs_svm2 = GridSearchCV(estimator=svm_clf2,\n",
    "           param_grid=param_grid_svm2,\n",
    "           scoring='accuracy',\n",
    "           cv=3, verbose=2, return_train_score=True,\n",
    "                     n_jobs=5)\n",
    "\n",
    "# Fit using grid search\n",
    "gs_svm2.fit(X2_train_mmscaled, y2_train)\n",
    "gs_svm2.fit(X2_test_mmscaled, y2_test)\n",
    "\n",
    "# Best accuracy\n",
    "print('Best accuracy: %.3f' % gs_svm2.best_score_)\n",
    "\n",
    "# Best params\n",
    "print('\\nBest params:\\n', gs_svm2.best_params_)"
   ]
  },
  {
   "cell_type": "markdown",
   "metadata": {},
   "source": [
    "### Accuracy Score"
   ]
  },
  {
   "cell_type": "code",
   "execution_count": 48,
   "metadata": {
    "ExecuteTime": {
     "end_time": "2019-11-04T17:27:22.838341Z",
     "start_time": "2019-11-04T17:27:22.011134Z"
    }
   },
   "outputs": [
    {
     "name": "stdout",
     "output_type": "stream",
     "text": [
      "Accuracy Score: 0.49306548470117245\n",
      "Accuracy Score: 0.5018587360594795\n"
     ]
    }
   ],
   "source": [
    "pred_gs_svm2_train = gs_svm2.predict(X2_train_mmscaled)\n",
    "pred_gs_svm2_test = gs_svm2.predict(X2_test_mmscaled)\n",
    "\n",
    "from sklearn.metrics import precision_score, recall_score, accuracy_score, f1_score\n",
    "def print_metrics(labels, preds):\n",
    "    print(\"Accuracy Score: {}\".format(accuracy_score(labels, preds)))\n",
    "\n",
    "print_metrics(y2_train, pred_gs_svm2_train)\n",
    "print_metrics(y2_test, pred_gs_svm2_test)"
   ]
  },
  {
   "cell_type": "code",
   "execution_count": null,
   "metadata": {},
   "outputs": [],
   "source": []
  },
  {
   "cell_type": "markdown",
   "metadata": {},
   "source": [
    "### PCA"
   ]
  },
  {
   "cell_type": "code",
   "execution_count": 5,
   "metadata": {
    "ExecuteTime": {
     "end_time": "2019-11-04T18:57:14.341225Z",
     "start_time": "2019-11-04T18:57:13.923136Z"
    }
   },
   "outputs": [
    {
     "name": "stdout",
     "output_type": "stream",
     "text": [
      "n_component=16, variance =0.912107928212611\n"
     ]
    }
   ],
   "source": [
    "from sklearn.decomposition import PCA\n",
    "def find_PCA_components(X,n_start=2,target=0.8,skip=1):\n",
    "    curr_target = 0\n",
    "    n = n_start\n",
    "    while curr_target < target:\n",
    "        pca = PCA(n_components=n)\n",
    "        transformed = pca.fit_transform(X)\n",
    "        curr_target = np.sum(pca.explained_variance_ratio_)\n",
    "        n += skip\n",
    "    print(f\"n_component={n}, variance ={curr_target}\")\n",
    "find_PCA_components(X_train_mmscaled,n_start=2,target=0.9,skip=1)"
   ]
  },
  {
   "cell_type": "code",
   "execution_count": 7,
   "metadata": {
    "ExecuteTime": {
     "end_time": "2019-11-04T19:00:14.692851Z",
     "start_time": "2019-11-04T19:00:14.632964Z"
    }
   },
   "outputs": [],
   "source": [
    "pca = PCA(n_components=16)\n",
    "X_train_transformed = pca.fit_transform(X_train_mmscaled)\n",
    "X_test_transformed = pca.fit_transform(X_test_mmscaled)"
   ]
  },
  {
   "cell_type": "code",
   "execution_count": 8,
   "metadata": {
    "ExecuteTime": {
     "end_time": "2019-11-04T19:01:13.296133Z",
     "start_time": "2019-11-04T19:00:15.791724Z"
    }
   },
   "outputs": [
    {
     "name": "stdout",
     "output_type": "stream",
     "text": [
      "Train Score: 0.37782384901344007\n",
      "Test Score: 0.3228481555619102\n"
     ]
    }
   ],
   "source": [
    "from sklearn import svm\n",
    "svm_clf3 = svm.SVC(probability=True, random_state=11)\n",
    "svm_clf3.fit(X_train_transformed, y_train)\n",
    "\n",
    "print('Train Score:', svm_clf3.score(X_train_transformed, y_train))\n",
    "print('Test Score:', svm_clf3.score(X_test_transformed, y_test))"
   ]
  },
  {
   "cell_type": "code",
   "execution_count": 9,
   "metadata": {
    "ExecuteTime": {
     "end_time": "2019-11-04T19:03:22.895141Z",
     "start_time": "2019-11-04T19:01:13.298027Z"
    }
   },
   "outputs": [
    {
     "name": "stdout",
     "output_type": "stream",
     "text": [
      "Fitting 3 folds for each of 1 candidates, totalling 3 fits\n"
     ]
    },
    {
     "name": "stderr",
     "output_type": "stream",
     "text": [
      "[Parallel(n_jobs=5)]: Using backend LokyBackend with 5 concurrent workers.\n",
      "[Parallel(n_jobs=5)]: Done   3 out of   3 | elapsed:   46.4s finished\n"
     ]
    },
    {
     "name": "stdout",
     "output_type": "stream",
     "text": [
      "Fitting 3 folds for each of 1 candidates, totalling 3 fits\n"
     ]
    },
    {
     "name": "stderr",
     "output_type": "stream",
     "text": [
      "[Parallel(n_jobs=5)]: Using backend LokyBackend with 5 concurrent workers.\n",
      "[Parallel(n_jobs=5)]: Done   3 out of   3 | elapsed:    4.1s finished\n"
     ]
    },
    {
     "name": "stdout",
     "output_type": "stream",
     "text": [
      "Best accuracy: 0.427\n",
      "\n",
      "Best params:\n",
      " {'coef0': 25, 'degree': 3, 'gamma': 0.03, 'kernel': 'poly'}\n"
     ]
    }
   ],
   "source": [
    "from sklearn.model_selection import GridSearchCV\n",
    "\n",
    "# Set grid search params\n",
    "param_grid_svm3 = [\n",
    "    #{'C': [12], 'kernel': ['linear']},\n",
    "    #{'C': [10], 'gamma': [0.1], 'kernel': ['rbf']},\n",
    "    {'coef0': [25], 'gamma': [0.03], 'degree': [3], 'kernel': ['poly']},\n",
    "    #{'coef0': [0.01], 'gamma': [0.2], 'kernel': ['sigmoid']}\n",
    "]\n",
    "\n",
    "# Construct grid search\n",
    "gs_svm3 = GridSearchCV(estimator=svm_clf3,\n",
    "           param_grid=param_grid_svm3,\n",
    "           scoring='accuracy',\n",
    "           cv=3, verbose=2, return_train_score=True,\n",
    "                     n_jobs=5)\n",
    "\n",
    "# Fit using grid search\n",
    "gs_svm3.fit(X_train_transformed, y_train)\n",
    "gs_svm3.fit(X_test_transformed, y_test)\n",
    "\n",
    "# Best accuracy\n",
    "print('Best accuracy: %.3f' % gs_svm3.best_score_)\n",
    "\n",
    "# Best params\n",
    "print('\\nBest params:\\n', gs_svm3.best_params_)"
   ]
  },
  {
   "cell_type": "code",
   "execution_count": 11,
   "metadata": {
    "ExecuteTime": {
     "end_time": "2019-11-04T19:03:41.651538Z",
     "start_time": "2019-11-04T19:03:40.703578Z"
    }
   },
   "outputs": [
    {
     "name": "stdout",
     "output_type": "stream",
     "text": [
      "Accuracy Score: 0.32506434086359737\n",
      "Accuracy Score: 0.4501000857878181\n"
     ]
    }
   ],
   "source": [
    "pred_gs_svm3_train = gs_svm3.predict(X_train_transformed)\n",
    "pred_gs_svm3_test = gs_svm3.predict(X_test_transformed)\n",
    "\n",
    "from sklearn.metrics import precision_score, recall_score, accuracy_score, f1_score\n",
    "def print_metrics(labels, preds):\n",
    "    print(\"Accuracy Score: {}\".format(accuracy_score(labels, preds)))\n",
    "\n",
    "print_metrics(y_train, pred_gs_svm3_train)\n",
    "print_metrics(y_test, pred_gs_svm3_test)"
   ]
  },
  {
   "cell_type": "code",
   "execution_count": null,
   "metadata": {},
   "outputs": [],
   "source": []
  },
  {
   "cell_type": "markdown",
   "metadata": {},
   "source": [
    "### PCA -features"
   ]
  },
  {
   "cell_type": "code",
   "execution_count": 6,
   "metadata": {
    "ExecuteTime": {
     "end_time": "2019-11-04T18:57:20.432559Z",
     "start_time": "2019-11-04T18:57:20.378657Z"
    }
   },
   "outputs": [
    {
     "name": "stdout",
     "output_type": "stream",
     "text": [
      "n_component=5, variance =0.8310453663005558\n"
     ]
    }
   ],
   "source": [
    "from sklearn.decomposition import PCA\n",
    "def find_PCA_components(X,n_start=2,target=0.8,skip=1):\n",
    "    curr_target = 0\n",
    "    n = n_start\n",
    "    while curr_target < target:\n",
    "        pca = PCA(n_components=n)\n",
    "        transformed = pca.fit_transform(X)\n",
    "        curr_target = np.sum(pca.explained_variance_ratio_)\n",
    "        n += skip\n",
    "    print(f\"n_component={n}, variance ={curr_target}\")\n",
    "find_PCA_components(X2_train_mmscaled,n_start=2,target=0.8,skip=1)"
   ]
  },
  {
   "cell_type": "code",
   "execution_count": 12,
   "metadata": {
    "ExecuteTime": {
     "end_time": "2019-11-04T19:03:49.626404Z",
     "start_time": "2019-11-04T19:03:49.605809Z"
    }
   },
   "outputs": [],
   "source": [
    "pca = PCA(n_components=5)\n",
    "X2_train_transformed = pca.fit_transform(X2_train_mmscaled)\n",
    "X2_test_transformed = pca.fit_transform(X2_test_mmscaled)"
   ]
  },
  {
   "cell_type": "code",
   "execution_count": 13,
   "metadata": {
    "ExecuteTime": {
     "end_time": "2019-11-04T19:04:33.398946Z",
     "start_time": "2019-11-04T19:03:49.973461Z"
    }
   },
   "outputs": [
    {
     "name": "stdout",
     "output_type": "stream",
     "text": [
      "Train Score: 0.4047040320274521\n",
      "Test Score: 0.27194738347154707\n"
     ]
    }
   ],
   "source": [
    "from sklearn import svm\n",
    "svm_clf4 = svm.SVC(probability=True, random_state=11)\n",
    "svm_clf4.fit(X2_train_transformed, y2_train)\n",
    "\n",
    "print('Train Score:', svm_clf4.score(X2_train_transformed, y2_train))\n",
    "print('Test Score:', svm_clf4.score(X2_test_transformed, y2_test))"
   ]
  },
  {
   "cell_type": "code",
   "execution_count": 14,
   "metadata": {
    "ExecuteTime": {
     "end_time": "2019-11-04T19:05:54.206713Z",
     "start_time": "2019-11-04T19:04:33.400756Z"
    }
   },
   "outputs": [
    {
     "name": "stdout",
     "output_type": "stream",
     "text": [
      "Fitting 3 folds for each of 1 candidates, totalling 3 fits\n"
     ]
    },
    {
     "name": "stderr",
     "output_type": "stream",
     "text": [
      "[Parallel(n_jobs=5)]: Using backend LokyBackend with 5 concurrent workers.\n",
      "[Parallel(n_jobs=5)]: Done   3 out of   3 | elapsed:   31.2s finished\n"
     ]
    },
    {
     "name": "stdout",
     "output_type": "stream",
     "text": [
      "Fitting 3 folds for each of 1 candidates, totalling 3 fits\n"
     ]
    },
    {
     "name": "stderr",
     "output_type": "stream",
     "text": [
      "[Parallel(n_jobs=5)]: Using backend LokyBackend with 5 concurrent workers.\n",
      "[Parallel(n_jobs=5)]: Done   3 out of   3 | elapsed:    1.5s finished\n"
     ]
    },
    {
     "name": "stdout",
     "output_type": "stream",
     "text": [
      "Best accuracy: 0.432\n",
      "\n",
      "Best params:\n",
      " {'coef0': 25, 'degree': 3, 'gamma': 0.03, 'kernel': 'poly'}\n"
     ]
    }
   ],
   "source": [
    "from sklearn.model_selection import GridSearchCV\n",
    "\n",
    "# Set grid search params\n",
    "param_grid_svm4 = [\n",
    "    #{'C': [12], 'kernel': ['linear']},\n",
    "    #{'C': [10], 'gamma': [0.1], 'kernel': ['rbf']},\n",
    "    {'coef0': [25], 'gamma': [0.03], 'degree': [3], 'kernel': ['poly']},\n",
    "    #{'coef0': [0.01], 'gamma': [0.2], 'kernel': ['sigmoid']}\n",
    "]\n",
    "\n",
    "# Construct grid search\n",
    "gs_svm4 = GridSearchCV(estimator=svm_clf4,\n",
    "           param_grid=param_grid_svm4,\n",
    "           scoring='accuracy',\n",
    "           cv=3, verbose=2, return_train_score=True,\n",
    "                     n_jobs=5)\n",
    "\n",
    "# Fit using grid search\n",
    "gs_svm4.fit(X2_train_transformed, y2_train)\n",
    "gs_svm4.fit(X2_test_transformed, y2_test)\n",
    "\n",
    "# Best accuracy\n",
    "print('Best accuracy: %.3f' % gs_svm4.best_score_)\n",
    "\n",
    "# Best params\n",
    "print('\\nBest params:\\n', gs_svm4.best_params_)"
   ]
  },
  {
   "cell_type": "code",
   "execution_count": 15,
   "metadata": {
    "ExecuteTime": {
     "end_time": "2019-11-04T19:05:55.084932Z",
     "start_time": "2019-11-04T19:05:54.209000Z"
    },
    "scrolled": true
   },
   "outputs": [
    {
     "name": "stdout",
     "output_type": "stream",
     "text": [
      "Accuracy Score: 0.25421790105804976\n",
      "Accuracy Score: 0.43408635973691734\n"
     ]
    }
   ],
   "source": [
    "pred_gs_svm4_train = gs_svm4.predict(X2_train_transformed)\n",
    "pred_gs_svm4_test = gs_svm4.predict(X2_test_transformed)\n",
    "\n",
    "from sklearn.metrics import precision_score, recall_score, accuracy_score, f1_score\n",
    "def print_metrics(labels, preds):\n",
    "    print(\"Accuracy Score: {}\".format(accuracy_score(labels, preds)))\n",
    "\n",
    "print_metrics(y2_train, pred_gs_svm4_train)\n",
    "print_metrics(y2_test, pred_gs_svm4_test)"
   ]
  },
  {
   "cell_type": "code",
   "execution_count": null,
   "metadata": {},
   "outputs": [],
   "source": []
  },
  {
   "cell_type": "code",
   "execution_count": null,
   "metadata": {},
   "outputs": [],
   "source": []
  },
  {
   "cell_type": "code",
   "execution_count": null,
   "metadata": {},
   "outputs": [],
   "source": []
  }
 ],
 "metadata": {
  "kernelspec": {
   "display_name": "Python 3",
   "language": "python",
   "name": "python3"
  },
  "language_info": {
   "codemirror_mode": {
    "name": "ipython",
    "version": 3
   },
   "file_extension": ".py",
   "mimetype": "text/x-python",
   "name": "python",
   "nbconvert_exporter": "python",
   "pygments_lexer": "ipython3",
   "version": "3.7.3"
  },
  "toc": {
   "base_numbering": 1,
   "nav_menu": {},
   "number_sections": true,
   "sideBar": true,
   "skip_h1_title": false,
   "title_cell": "Table of Contents",
   "title_sidebar": "Contents",
   "toc_cell": false,
   "toc_position": {},
   "toc_section_display": true,
   "toc_window_display": false
  }
 },
 "nbformat": 4,
 "nbformat_minor": 2
}
