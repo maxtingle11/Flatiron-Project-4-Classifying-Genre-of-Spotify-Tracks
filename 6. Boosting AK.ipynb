{
 "cells": [
  {
   "cell_type": "code",
   "execution_count": 2,
   "metadata": {
    "ExecuteTime": {
     "end_time": "2019-11-04T19:21:18.761028Z",
     "start_time": "2019-11-04T19:21:18.497830Z"
    }
   },
   "outputs": [],
   "source": [
    "import pandas as pd\n",
    "import numpy as np\n",
    "import warnings\n",
    "\n",
    "\n",
    "warnings.filterwarnings('ignore')\n",
    "\n",
    "pd.set_option('display.max_rows', 50)\n",
    "pd.set_option('display.max_columns', 100)\n",
    "pd.set_option('display.width', 1000)"
   ]
  },
  {
   "cell_type": "code",
   "execution_count": 3,
   "metadata": {
    "ExecuteTime": {
     "end_time": "2019-11-04T19:21:18.962358Z",
     "start_time": "2019-11-04T19:21:18.882686Z"
    }
   },
   "outputs": [],
   "source": [
    "# Import data to Pandas DataFrame\n",
    "train = pd.read_csv('data/train.csv')\n",
    "test = pd.read_csv('data/test.csv')\n",
    "test_final = pd.read_csv('data/test_final.csv')\n",
    "\n",
    "X_train = train.drop('target', axis=1)\n",
    "y_train = train['target']\n",
    "\n",
    "X_test = test.drop('target', axis=1)\n",
    "y_test = test['target']\n",
    "\n",
    "X_test_final = test_final.drop('target', axis=1)\n",
    "y_test_final = test_final['target']"
   ]
  },
  {
   "cell_type": "markdown",
   "metadata": {},
   "source": [
    "# Adaboost, Gradient Boosting, XGBoost with Original Dataset"
   ]
  },
  {
   "cell_type": "markdown",
   "metadata": {},
   "source": [
    "## Adaboost"
   ]
  },
  {
   "cell_type": "code",
   "execution_count": 3,
   "metadata": {
    "ExecuteTime": {
     "end_time": "2019-11-03T18:54:24.009272Z",
     "start_time": "2019-11-03T18:54:23.605596Z"
    }
   },
   "outputs": [],
   "source": [
    "from sklearn.ensemble import AdaBoostClassifier"
   ]
  },
  {
   "cell_type": "code",
   "execution_count": 5,
   "metadata": {
    "ExecuteTime": {
     "end_time": "2019-11-04T19:21:55.036872Z",
     "start_time": "2019-11-04T19:21:55.022644Z"
    }
   },
   "outputs": [],
   "source": [
    "# Standardize with MinMax Scaler\n",
    "\n",
    "from sklearn.preprocessing import MinMaxScaler\n",
    "\n",
    "min_max_scaler = MinMaxScaler()\n",
    "X_train_mmscaled = min_max_scaler.fit_transform(X_train)\n",
    "X_test_mmscaled = min_max_scaler.transform(X_test)\n"
   ]
  },
  {
   "cell_type": "code",
   "execution_count": null,
   "metadata": {
    "ExecuteTime": {
     "end_time": "2019-11-03T19:15:18.513596Z",
     "start_time": "2019-11-03T19:15:17.759337Z"
    }
   },
   "outputs": [],
   "source": [
    "adaboost_clf = AdaBoostClassifier()\n",
    "adaboost_clf.fit(X_train_mmscaled, y_train)\n",
    "\n",
    "# Create predictions\n",
    "adaboost_train_preds = adaboost_clf.predict(X_train_mmscaled)\n",
    "adaboost_test_preds = adaboost_clf.predict(X_test_mmscaled)"
   ]
  },
  {
   "cell_type": "code",
   "execution_count": 8,
   "metadata": {
    "ExecuteTime": {
     "end_time": "2019-11-04T19:23:03.170571Z",
     "start_time": "2019-11-04T19:23:03.167686Z"
    }
   },
   "outputs": [],
   "source": [
    "# Calculate accuracy \n",
    "from sklearn.metrics import accuracy_score\n",
    "\n",
    "def print_metrics(labels, preds):\n",
    "    print(\"Accuracy Score: {}\".format(accuracy_score(labels, preds)))\n",
    "\n",
    "# print(\"Train score:\")\n",
    "# print_metrics(y_train, adaboost_train_preds)\n",
    "    \n",
    "# print(\"Test score:\")\n",
    "# print_metrics(y_test, adaboost_test_preds)"
   ]
  },
  {
   "cell_type": "markdown",
   "metadata": {},
   "source": [
    "### Tuning Adaboost Parameters using Grid Search and Cross Validation\n"
   ]
  },
  {
   "cell_type": "code",
   "execution_count": 34,
   "metadata": {
    "ExecuteTime": {
     "end_time": "2019-11-03T23:14:44.970623Z",
     "start_time": "2019-11-03T23:12:16.005801Z"
    }
   },
   "outputs": [
    {
     "name": "stdout",
     "output_type": "stream",
     "text": [
      "Fitting 5 folds for each of 18 candidates, totalling 90 fits\n"
     ]
    },
    {
     "name": "stderr",
     "output_type": "stream",
     "text": [
      "[Parallel(n_jobs=-1)]: Using backend LokyBackend with 16 concurrent workers.\n",
      "[Parallel(n_jobs=-1)]: Done   9 tasks      | elapsed:   20.5s\n",
      "[Parallel(n_jobs=-1)]: Done  90 out of  90 | elapsed:  2.4min finished\n"
     ]
    },
    {
     "name": "stdout",
     "output_type": "stream",
     "text": [
      "Best accuracy: 0.541\n",
      "\n",
      "Best params:\n",
      " {'base_estimator': DecisionTreeClassifier(class_weight=None, criterion='gini', max_depth=2,\n",
      "                       max_features=None, max_leaf_nodes=None,\n",
      "                       min_impurity_decrease=0.0, min_impurity_split=None,\n",
      "                       min_samples_leaf=1, min_samples_split=2,\n",
      "                       min_weight_fraction_leaf=0.0, presort=False,\n",
      "                       random_state=None, splitter='best'), 'learning_rate': 0.1, 'n_estimators': 300}\n"
     ]
    }
   ],
   "source": [
    "from sklearn.model_selection import GridSearchCV\n",
    "from sklearn.tree import DecisionTreeClassifier \n",
    "\n",
    "adaboost_GS = AdaBoostClassifier(algorithm='SAMME.R',\n",
    "                                 random_state=11)\n",
    " \n",
    "# Set grid search params\n",
    "param_grid_adaboost = [ \n",
    "  {'base_estimator':[DecisionTreeClassifier(max_depth=2),DecisionTreeClassifier(max_depth=5)],\n",
    "   'learning_rate': [ 0.15, 0.1, 0.07],\n",
    "   'n_estimators': [ 275, 300, 325]\n",
    "  }\n",
    "]\n",
    "\n",
    "# Construct grid search\n",
    "gs_ab = GridSearchCV(estimator=adaboost_GS,\n",
    "            param_grid=param_grid_adaboost,\n",
    "            scoring='accuracy',\n",
    "            refit='accuracy',\n",
    "            cv=5, verbose=2, return_train_score = True,\n",
    "            n_jobs=-1)\n",
    "\n",
    "# Fit using grid search\n",
    "gs_ab.fit(X_train_mmscaled, y_train)\n",
    "\n",
    "pred_gs_ab_train = gs_ab.predict(X_train_mmscaled)\n",
    "pred_gs_ab_test = gs_ab.predict(X_test_mmscaled)\n",
    "\n",
    "# Best accuracy\n",
    "print('Best accuracy: %.3f' % gs_ab.best_score_)\n",
    "\n",
    "# Best params\n",
    "print('\\nBest params:\\n', gs_ab.best_params_)"
   ]
  },
  {
   "cell_type": "code",
   "execution_count": 35,
   "metadata": {
    "ExecuteTime": {
     "end_time": "2019-11-03T23:14:44.979197Z",
     "start_time": "2019-11-03T23:14:44.973174Z"
    }
   },
   "outputs": [
    {
     "name": "stdout",
     "output_type": "stream",
     "text": [
      "Train score:\n",
      "Accuracy Score: 0.5539748355733486\n",
      "Test score:\n",
      "Accuracy Score: 0.540177294824135\n"
     ]
    }
   ],
   "source": [
    "print(\"Train score:\")\n",
    "print_metrics(y_train, pred_gs_ab_train)\n",
    "    \n",
    "print(\"Test score:\")\n",
    "print_metrics(y_test, pred_gs_ab_test)"
   ]
  },
  {
   "cell_type": "markdown",
   "metadata": {},
   "source": [
    "## Gradient Boosting"
   ]
  },
  {
   "cell_type": "code",
   "execution_count": 24,
   "metadata": {
    "ExecuteTime": {
     "end_time": "2019-11-03T19:52:16.013483Z",
     "start_time": "2019-11-03T19:52:07.804666Z"
    }
   },
   "outputs": [
    {
     "name": "stdout",
     "output_type": "stream",
     "text": [
      "Train score:\n",
      "Accuracy Score: 0.622748069774092\n",
      "Test score:\n",
      "Accuracy Score: 0.5527595081498428\n"
     ]
    }
   ],
   "source": [
    "from sklearn.ensemble import GradientBoostingClassifier\n",
    "\n",
    "gbt_clf = GradientBoostingClassifier()\n",
    "gbt_clf.fit(X_train_mmscaled, y_train)\n",
    "\n",
    "# Create predictions\n",
    "gbt_clf_train_preds = gbt_clf.predict(X_train_mmscaled)\n",
    "gbt_clf_test_preds = gbt_clf.predict(X_test_mmscaled)\n",
    "\n",
    "print(\"Train score:\")\n",
    "print_metrics(y_train, gbt_clf_train_preds)\n",
    "    \n",
    "print(\"Test score:\")\n",
    "print_metrics(y_test, gbt_clf_test_preds)"
   ]
  },
  {
   "cell_type": "markdown",
   "metadata": {},
   "source": [
    "### Tuning Gradient Boosting Parameters using Grid Search and Cross Validation\n"
   ]
  },
  {
   "cell_type": "code",
   "execution_count": 79,
   "metadata": {
    "ExecuteTime": {
     "end_time": "2019-11-04T15:36:04.213116Z",
     "start_time": "2019-11-04T15:29:29.639791Z"
    }
   },
   "outputs": [
    {
     "name": "stdout",
     "output_type": "stream",
     "text": [
      "Fitting 5 folds for each of 36 candidates, totalling 180 fits\n"
     ]
    },
    {
     "name": "stderr",
     "output_type": "stream",
     "text": [
      "[Parallel(n_jobs=-1)]: Using backend LokyBackend with 16 concurrent workers.\n",
      "[Parallel(n_jobs=-1)]: Done   9 tasks      | elapsed:   32.8s\n",
      "[Parallel(n_jobs=-1)]: Done 130 tasks      | elapsed:  4.8min\n",
      "[Parallel(n_jobs=-1)]: Done 180 out of 180 | elapsed:  6.3min finished\n"
     ]
    },
    {
     "name": "stdout",
     "output_type": "stream",
     "text": [
      "Grid Search found the following optimal parameters: \n",
      "learning_rate: 0.065\n",
      "max_depth: 2\n",
      "n_estimators: 400\n",
      "subsample: 0.8\n",
      "Best accuracy: 0.549\n"
     ]
    }
   ],
   "source": [
    "gb_GS = GradientBoostingClassifier(random_state=11, max_features='auto')\n",
    "\n",
    "# Set grid search params\n",
    "param_grid_gboost = [ \n",
    "  {'subsample': [0.8, 1],\n",
    "   'learning_rate': [0.065,0.06, 0.055],\n",
    "   'n_estimators': [365, 360, 400],\n",
    "   'max_depth':[1,2]\n",
    "  }\n",
    "]\n",
    "\n",
    "\n",
    "# Construct grid search\n",
    "gs_gradboost = GridSearchCV(estimator=gb_GS,\n",
    "               param_grid=param_grid_gboost,\n",
    "               scoring='accuracy',\n",
    "               refit='accuracy',\n",
    "               cv=5, verbose=2, return_train_score = True,\n",
    "               n_jobs=-1)\n",
    "\n",
    "# Fit using grid search\n",
    "gs_gradboost.fit(X_train_mmscaled, y_train)\n",
    "\n",
    "pred_gs_gb_train = gs_gradboost.predict(X_train_mmscaled)\n",
    "pred_gs_gb_test = gs_gradboost.predict(X_test_mmscaled)\n",
    "\n",
    "\n",
    "# Best params\n",
    "best_parameters = gs_gradboost.best_params_\n",
    "print(\"Grid Search found the following optimal parameters: \")\n",
    "for param_name in sorted(best_parameters.keys()):\n",
    "    print(\"%s: %r\" % (param_name, best_parameters[param_name]))\n",
    "    \n",
    "# Best accuracy\n",
    "print('Best accuracy: %.3f' % gs_gradboost.best_score_)\n"
   ]
  },
  {
   "cell_type": "code",
   "execution_count": 80,
   "metadata": {
    "ExecuteTime": {
     "end_time": "2019-11-04T15:36:04.221205Z",
     "start_time": "2019-11-04T15:36:04.215012Z"
    }
   },
   "outputs": [
    {
     "name": "stdout",
     "output_type": "stream",
     "text": [
      "Train score:\n",
      "Accuracy Score: 0.6159565341721476\n",
      "Test score:\n",
      "Accuracy Score: 0.5544752645124392\n"
     ]
    }
   ],
   "source": [
    "print(\"Train score:\")\n",
    "print_metrics(y_train, pred_gs_gb_train)\n",
    "    \n",
    "print(\"Test score:\")\n",
    "print_metrics(y_test, pred_gs_gb_test)"
   ]
  },
  {
   "cell_type": "code",
   "execution_count": 81,
   "metadata": {
    "ExecuteTime": {
     "end_time": "2019-11-04T15:36:04.227369Z",
     "start_time": "2019-11-04T15:36:04.223143Z"
    }
   },
   "outputs": [
    {
     "data": {
      "text/plain": [
       "array([0.55545837, 0.55088308, 0.55436818, 0.55056139, 0.55749585,\n",
       "       0.55302773, 0.6212112 , 0.61642123, 0.6204248 , 0.61568852,\n",
       "       0.62634058, 0.62155062, 0.55299195, 0.54904228, 0.55261665,\n",
       "       0.54893506, 0.55536904, 0.55132993, 0.61747593, 0.61172093,\n",
       "       0.61683243, 0.61111333, 0.62169372, 0.61638546, 0.54956048,\n",
       "       0.54741588, 0.54950686, 0.54712992, 0.55274187, 0.54941758,\n",
       "       0.61234646, 0.60741368, 0.61097026, 0.60700258, 0.61708256,\n",
       "       0.61172093])"
      ]
     },
     "execution_count": 81,
     "metadata": {},
     "output_type": "execute_result"
    }
   ],
   "source": [
    "gs_gradboost.cv_results_['mean_train_score']"
   ]
  },
  {
   "cell_type": "markdown",
   "metadata": {},
   "source": [
    "## XGBoost"
   ]
  },
  {
   "cell_type": "code",
   "execution_count": 9,
   "metadata": {
    "ExecuteTime": {
     "end_time": "2019-11-04T19:23:24.246721Z",
     "start_time": "2019-11-04T19:23:11.438418Z"
    }
   },
   "outputs": [
    {
     "name": "stdout",
     "output_type": "stream",
     "text": [
      "Train score:\n",
      "Accuracy Score: 0.5945810694881327\n",
      "Test score:\n",
      "Accuracy Score: 0.5478981984558192\n"
     ]
    }
   ],
   "source": [
    "import xgboost as xgb\n",
    "\n",
    "\n",
    "xgb_clf = xgb.XGBClassifier()\n",
    "xgb_clf.fit(X_train_mmscaled, y_train)\n",
    "xgb_pred_train = xgb_clf.predict(X_train_mmscaled)\n",
    "xgb_pred_test = xgb_clf.predict(X_test_mmscaled)\n",
    "\n",
    "print(\"Train score:\")\n",
    "print_metrics(y_train, xgb_pred_train)\n",
    "    \n",
    "print(\"Test score:\")\n",
    "print_metrics(y_test, xgb_pred_test)"
   ]
  },
  {
   "cell_type": "markdown",
   "metadata": {
    "ExecuteTime": {
     "end_time": "2019-11-03T22:26:11.542258Z",
     "start_time": "2019-11-03T22:26:11.540052Z"
    }
   },
   "source": [
    "### Tuning XGBoost Parameters using Grid Search and Cross Validation\n"
   ]
  },
  {
   "cell_type": "code",
   "execution_count": 10,
   "metadata": {
    "ExecuteTime": {
     "end_time": "2019-11-04T19:30:34.872933Z",
     "start_time": "2019-11-04T19:23:24.248105Z"
    }
   },
   "outputs": [
    {
     "name": "stdout",
     "output_type": "stream",
     "text": [
      "Grid Search found the following optimal parameters: \n",
      "learning_rate: 0.06\n",
      "max_depth: 2\n",
      "n_estimators: 400\n",
      "subsample: 0.75\n",
      "Best accuracy: 0.549\n"
     ]
    }
   ],
   "source": [
    "# Tuning XGBoost\n",
    "from sklearn.model_selection import GridSearchCV\n",
    "\n",
    "xgb_param_grid = {\n",
    "    \"learning_rate\": [0.06,  0.05],\n",
    "    'max_depth': [1,2],\n",
    "    'subsample': [ 0.75, 0.8],\n",
    "    'n_estimators': [300, 400, 350],\n",
    "}\n",
    "\n",
    "grid_xgb_clf = GridSearchCV(xgb_clf, \n",
    "                            xgb_param_grid, \n",
    "                            scoring='accuracy', \n",
    "                            cv=5, \n",
    "                            n_jobs=-1)\n",
    "\n",
    "grid_xgb_clf.fit(X_train_mmscaled, y_train)\n",
    "\n",
    "pred_gs_gxb_train = grid_xgb_clf.predict(X_train_mmscaled)\n",
    "pred_gs_gxb_test = grid_xgb_clf.predict(X_test_mmscaled)\n",
    "\n",
    "best_parameters = grid_xgb_clf.best_params_\n",
    "\n",
    "print(\"Grid Search found the following optimal parameters: \")\n",
    "for param_name in sorted(best_parameters.keys()):\n",
    "    print(\"%s: %r\" % (param_name, best_parameters[param_name]))\n",
    "\n",
    "# Best accuracy\n",
    "print('Best accuracy: %.3f' % grid_xgb_clf.best_score_)\n"
   ]
  },
  {
   "cell_type": "code",
   "execution_count": 11,
   "metadata": {
    "ExecuteTime": {
     "end_time": "2019-11-04T19:30:34.881900Z",
     "start_time": "2019-11-04T19:30:34.875675Z"
    }
   },
   "outputs": [
    {
     "name": "stdout",
     "output_type": "stream",
     "text": [
      "Train score:\n",
      "Accuracy Score: 0.5887189019159279\n",
      "Test score:\n",
      "Accuracy Score: 0.5593365742064627\n"
     ]
    }
   ],
   "source": [
    "print(\"Train score:\")\n",
    "print_metrics(y_train, pred_gs_gxb_train)\n",
    "    \n",
    "print(\"Test score:\")\n",
    "print_metrics(y_test, pred_gs_gxb_test)"
   ]
  },
  {
   "cell_type": "code",
   "execution_count": 15,
   "metadata": {
    "ExecuteTime": {
     "end_time": "2019-11-04T19:48:59.958963Z",
     "start_time": "2019-11-04T19:48:26.665969Z"
    }
   },
   "outputs": [
    {
     "name": "stdout",
     "output_type": "stream",
     "text": [
      "[0.08862839 0.06515945 0.05166188 0.07501226 0.0759459  0.02002131\n",
      " 0.05867818 0.04893031 0.15628013 0.03884101 0.05507827 0.01422424\n",
      " 0.01969032 0.01737381 0.01524172 0.01003215 0.03822763 0.01278452\n",
      " 0.01351959 0.01870259 0.01464588 0.0167687  0.01554662 0.01343945\n",
      " 0.01919538 0.01110812 0.01526226]\n"
     ]
    }
   ],
   "source": [
    "XGB_model = xgb.XGBClassifier(learning_rate=0.06,max_depth=2,n_estimators=400,subsample=.75,n_jobs=-1)\n",
    "XGB_model.fit(X_train_mmscaled, y_train)\n",
    "print(XGB_model.feature_importances_)"
   ]
  },
  {
   "cell_type": "code",
   "execution_count": 26,
   "metadata": {
    "ExecuteTime": {
     "end_time": "2019-11-04T19:56:09.533056Z",
     "start_time": "2019-11-04T19:56:09.247577Z"
    }
   },
   "outputs": [
    {
     "data": {
      "text/plain": [
       "<Figure size 1440x1440 with 0 Axes>"
      ]
     },
     "metadata": {},
     "output_type": "display_data"
    },
    {
     "data": {
      "image/png": "[encoded data removed]",
      "text/plain": [
       "<Figure size 432x288 with 1 Axes>"
      ]
     },
     "metadata": {
      "needs_background": "light"
     },
     "output_type": "display_data"
    }
   ],
   "source": [
    "from xgboost import plot_importance\n",
    "import matplotlib.pyplot as plt\n",
    "%matplotlib inline\n",
    "\n",
    "plt.figure(figsize=(20,20))\n",
    "plot_importance(XGB_model,height=0.3)\n",
    "\n",
    "# plt.ylabel([X_train_mmscaled.columns])\n",
    "plt.show();"
   ]
  },
  {
   "cell_type": "markdown",
   "metadata": {},
   "source": [
    "### Confusion Matrix"
   ]
  },
  {
   "cell_type": "code",
   "execution_count": null,
   "metadata": {},
   "outputs": [],
   "source": [
    "import itertools \n",
    "\n",
    "cnf_matrix = confusion_matrix(y_test, pred_gs_rf_test)\n",
    "sns.set(font_scale=1.5)\n",
    "plt.figure(figsize=(10,10))\n",
    "plt.imshow(cnf_matrix,  cmap=plt.cm.Greens)  # Create the basic matrix.\n",
    "\n",
    "# Add title and Axis Labels\n",
    "# plt.title('Confusion Matrix')\n",
    "plt.ylabel('True label')\n",
    "plt.xlabel('Predicted label')\n",
    "\n",
    "# Add appropriate Axis Scales\n",
    "class_names = classes  # Get class labels to add to matrix\n",
    "tick_marks = np.arange(len(class_names))\n",
    "plt.xticks(tick_marks, class_names, rotation=45)\n",
    "plt.yticks(tick_marks, class_names)\n",
    "\n",
    "# Add Labels to Each Cell\n",
    "thresh = cnf_matrix.max() / 2.  # Used for text coloring below\n",
    "# Here we iterate through the confusion matrix and append labels to our visualization.\n",
    "for i, j in itertools.product(range(cnf_matrix.shape[0]), range(cnf_matrix.shape[1])):\n",
    "    plt.text(j, i, cnf_matrix[i, j],\n",
    "             horizontalalignment=\"center\",\n",
    "             color=\"white\" if cnf_matrix[i, j] > thresh else \"black\")\n"
   ]
  },
  {
   "cell_type": "markdown",
   "metadata": {},
   "source": [
    "# Repeat all the above with limited dataset"
   ]
  },
  {
   "cell_type": "code",
   "execution_count": 60,
   "metadata": {
    "ExecuteTime": {
     "end_time": "2019-11-04T13:55:59.581971Z",
     "start_time": "2019-11-04T13:55:59.574136Z"
    }
   },
   "outputs": [],
   "source": [
    "# Eliminating key, time signature, liveness, and mode_feat from features\n",
    "\n",
    "X_train2 = train[['acousticness', 'danceability', 'duration_ms', 'energy', 'instrumentalness', 'loudness', 'speechiness', 'tempo', 'valence']]\n",
    "y_train2 = train['target']\n",
    "\n",
    "X_test2 = test[['acousticness', 'danceability', 'duration_ms', 'energy', 'instrumentalness', 'loudness', 'speechiness', 'tempo', 'valence']]\n",
    "y_test2 = test['target']\n",
    "\n",
    "X_test_final2 = test_final[['acousticness', 'danceability', 'duration_ms', 'energy', 'instrumentalness', 'loudness', 'speechiness', 'tempo', 'valence']]\n",
    "y_test_final2 = test_final['target']"
   ]
  },
  {
   "cell_type": "code",
   "execution_count": 62,
   "metadata": {
    "ExecuteTime": {
     "end_time": "2019-11-04T14:08:51.267790Z",
     "start_time": "2019-11-04T14:08:51.261351Z"
    }
   },
   "outputs": [],
   "source": [
    "# Standardizing with MinMax Scaler\n",
    "\n",
    "min_max_scaler = MinMaxScaler()\n",
    "\n",
    "X_train_mmscaled2 = min_max_scaler.fit_transform(X_train2)\n",
    "X_test_mmscaled2 = min_max_scaler.transform(X_test2)\n",
    "X_test_final_mmscaled2 = min_max_scaler.transform(X_test_final2)"
   ]
  },
  {
   "cell_type": "markdown",
   "metadata": {},
   "source": [
    "## Adaboost"
   ]
  },
  {
   "cell_type": "code",
   "execution_count": 63,
   "metadata": {
    "ExecuteTime": {
     "end_time": "2019-11-04T14:10:58.018672Z",
     "start_time": "2019-11-04T14:10:57.330908Z"
    }
   },
   "outputs": [
    {
     "name": "stdout",
     "output_type": "stream",
     "text": [
      "Train score:\n",
      "Accuracy Score: 0.501787246211038\n",
      "Test score:\n",
      "Accuracy Score: 0.4964255075779239\n"
     ]
    }
   ],
   "source": [
    "#Simple Adaboost\n",
    "\n",
    "adaboost_clf = AdaBoostClassifier()\n",
    "adaboost_clf.fit(X_train_mmscaled2, y_train)\n",
    "\n",
    "# Create predictions\n",
    "adaboost_train_preds2 = adaboost_clf.predict(X_train_mmscaled2)\n",
    "adaboost_test_preds2 = adaboost_clf.predict(X_test_mmscaled2)\n",
    "\n",
    "\n",
    "# Calculate accuracy & f1-score\n",
    "from sklearn.metrics import accuracy_score\n",
    "\n",
    "print(\"Train score:\")\n",
    "print_metrics(y_train, adaboost_train_preds2)\n",
    "    \n",
    "print(\"Test score:\")\n",
    "print_metrics(y_test, adaboost_test_preds2)"
   ]
  },
  {
   "cell_type": "markdown",
   "metadata": {},
   "source": [
    "### Tuning Adaboost Parameters using Grid Search and Cross Validation\n"
   ]
  },
  {
   "cell_type": "code",
   "execution_count": 69,
   "metadata": {
    "ExecuteTime": {
     "end_time": "2019-11-04T14:30:02.384097Z",
     "start_time": "2019-11-04T14:28:18.842748Z"
    }
   },
   "outputs": [
    {
     "name": "stdout",
     "output_type": "stream",
     "text": [
      "Fitting 5 folds for each of 18 candidates, totalling 90 fits\n"
     ]
    },
    {
     "name": "stderr",
     "output_type": "stream",
     "text": [
      "[Parallel(n_jobs=-1)]: Using backend LokyBackend with 16 concurrent workers.\n",
      "[Parallel(n_jobs=-1)]: Done   9 tasks      | elapsed:   16.8s\n",
      "[Parallel(n_jobs=-1)]: Done  90 out of  90 | elapsed:  1.6min finished\n"
     ]
    },
    {
     "name": "stdout",
     "output_type": "stream",
     "text": [
      "Best accuracy: 0.539\n",
      "\n",
      "Best params:\n",
      " {'base_estimator': DecisionTreeClassifier(class_weight=None, criterion='entropy', max_depth=2,\n",
      "                       max_features=None, max_leaf_nodes=None,\n",
      "                       min_impurity_decrease=0.0, min_impurity_split=None,\n",
      "                       min_samples_leaf=1, min_samples_split=2,\n",
      "                       min_weight_fraction_leaf=0.0, presort=False,\n",
      "                       random_state=None, splitter='best'), 'learning_rate': 0.1, 'n_estimators': 300}\n"
     ]
    }
   ],
   "source": [
    "adaboost_GS2 = AdaBoostClassifier(algorithm='SAMME.R',\n",
    "                                 random_state=11)\n",
    " \n",
    "# Set grid search params\n",
    "param_grid_adaboost2 = [ \n",
    "  {'base_estimator':[DecisionTreeClassifier(max_depth=2,criterion='entropy'),\n",
    "                     DecisionTreeClassifier(max_depth=2,criterion='gini')],\n",
    "   'learning_rate': [ 0.15, 0.1, 0.05],\n",
    "   'n_estimators': [ 300, 325, 400]\n",
    "  }\n",
    "]\n",
    "\n",
    "# Construct grid search\n",
    "gs_ab2 = GridSearchCV(estimator=adaboost_GS2,\n",
    "            param_grid=param_grid_adaboost2,\n",
    "            scoring='accuracy',\n",
    "            refit='accuracy',\n",
    "            cv=5, verbose=2, return_train_score = True,\n",
    "            n_jobs=-1)\n",
    "\n",
    "# Fit using grid search\n",
    "gs_ab2.fit(X_train_mmscaled2, y_train2)\n",
    "\n",
    "pred_gs_ab_train2 = gs_ab2.predict(X_train_mmscaled2)\n",
    "pred_gs_ab_test2 = gs_ab2.predict(X_test_mmscaled2)\n",
    "\n",
    "# Best accuracy\n",
    "print('Best accuracy: %.3f' % gs_ab2.best_score_)\n",
    "\n",
    "# Best params\n",
    "print('\\nBest params:\\n', gs_ab2.best_params_)"
   ]
  },
  {
   "cell_type": "code",
   "execution_count": 68,
   "metadata": {
    "ExecuteTime": {
     "end_time": "2019-11-04T14:25:36.236274Z",
     "start_time": "2019-11-04T14:25:36.229790Z"
    }
   },
   "outputs": [
    {
     "name": "stdout",
     "output_type": "stream",
     "text": [
      "Train score:\n",
      "Accuracy Score: 0.5551186731484129\n",
      "Test score:\n",
      "Accuracy Score: 0.540177294824135\n"
     ]
    }
   ],
   "source": [
    "print(\"Train score:\")\n",
    "print_metrics(y_train2, pred_gs_ab_train2)\n",
    "    \n",
    "print(\"Test score:\")\n",
    "print_metrics(y_test2, pred_gs_ab_test2)"
   ]
  },
  {
   "cell_type": "markdown",
   "metadata": {},
   "source": [
    "## Gradient Boosting\n"
   ]
  },
  {
   "cell_type": "code",
   "execution_count": 70,
   "metadata": {
    "ExecuteTime": {
     "end_time": "2019-11-04T14:39:33.460752Z",
     "start_time": "2019-11-04T14:39:27.462761Z"
    }
   },
   "outputs": [
    {
     "name": "stdout",
     "output_type": "stream",
     "text": [
      "Train score:\n",
      "Accuracy Score: 0.61888761795825\n",
      "Test score:\n",
      "Accuracy Score: 0.5519016299685444\n"
     ]
    }
   ],
   "source": [
    "gbt_clf2 = GradientBoostingClassifier()\n",
    "gbt_clf2.fit(X_train_mmscaled2, y_train2)\n",
    "\n",
    "# Create predictions\n",
    "gbt_clf_train_preds2 = gbt_clf2.predict(X_train_mmscaled2)\n",
    "gbt_clf_test_preds2 = gbt_clf2.predict(X_test_mmscaled2)\n",
    "\n",
    "print(\"Train score:\")\n",
    "print_metrics(y_train2, gbt_clf_train_preds2)\n",
    "    \n",
    "print(\"Test score:\")\n",
    "print_metrics(y_test2, gbt_clf_test_preds2)"
   ]
  },
  {
   "cell_type": "markdown",
   "metadata": {},
   "source": [
    "### Tuning Gradient Boost Parameters using Grid Search and Cross Validation\n"
   ]
  },
  {
   "cell_type": "code",
   "execution_count": 92,
   "metadata": {
    "ExecuteTime": {
     "end_time": "2019-11-04T16:56:14.025594Z",
     "start_time": "2019-11-04T16:53:52.028915Z"
    }
   },
   "outputs": [
    {
     "name": "stdout",
     "output_type": "stream",
     "text": [
      "Fitting 5 folds for each of 6 candidates, totalling 30 fits\n"
     ]
    },
    {
     "name": "stderr",
     "output_type": "stream",
     "text": [
      "[Parallel(n_jobs=-1)]: Using backend LokyBackend with 16 concurrent workers.\n",
      "[Parallel(n_jobs=-1)]: Done  15 out of  30 | elapsed:  1.1min remaining:  1.1min\n",
      "[Parallel(n_jobs=-1)]: Done  30 out of  30 | elapsed:  2.0min finished\n"
     ]
    },
    {
     "name": "stdout",
     "output_type": "stream",
     "text": [
      "Grid Search found the following optimal parameters: \n",
      "learning_rate: 0.06\n",
      "max_depth: 2\n",
      "n_estimators: 550\n",
      "subsample: 0.85\n",
      "Best accuracy: 0.551\n"
     ]
    }
   ],
   "source": [
    "gb_GS2 = GradientBoostingClassifier(random_state=11, max_features='auto', warm_start=False)\n",
    "\n",
    "# Set grid search params\n",
    "param_grid_gboost2 = [ \n",
    "  {'subsample': [0.9, 0.8, 0.85],\n",
    "   'learning_rate': [0.06],\n",
    "   'n_estimators': [600, 550],\n",
    "   'max_depth':[2]\n",
    "  }\n",
    "]\n",
    "\n",
    "# Construct grid search\n",
    "gs_gradboost2 = GridSearchCV(estimator=gb_GS2,\n",
    "               param_grid=param_grid_gboost2,\n",
    "               scoring='accuracy',\n",
    "               refit='accuracy',\n",
    "               cv=5, verbose=2, return_train_score = True,\n",
    "               n_jobs=-1)\n",
    "\n",
    "# Fit using grid search\n",
    "gs_gradboost2.fit(X_train_mmscaled2, y_train2)\n",
    "\n",
    "pred_gs_gb_train2 = gs_gradboost2.predict(X_train_mmscaled2)\n",
    "pred_gs_gb_test2 = gs_gradboost2.predict(X_test_mmscaled2)\n",
    "\n",
    "\n",
    "# Best params\n",
    "best_parameters2 = gs_gradboost2.best_params_\n",
    "print(\"Grid Search found the following optimal parameters: \")\n",
    "for param_name in sorted(best_parameters2.keys()):\n",
    "    print(\"%s: %r\" % (param_name, best_parameters2[param_name]))\n",
    "    \n",
    "# Best accuracy\n",
    "print('Best accuracy: %.3f' % gs_gradboost2.best_score_)\n"
   ]
  },
  {
   "cell_type": "code",
   "execution_count": 93,
   "metadata": {
    "ExecuteTime": {
     "end_time": "2019-11-04T16:56:14.032111Z",
     "start_time": "2019-11-04T16:56:14.026960Z"
    }
   },
   "outputs": [
    {
     "name": "stdout",
     "output_type": "stream",
     "text": [
      "Train score:\n",
      "Accuracy Score: 0.6278238490134401\n",
      "Test score:\n",
      "Accuracy Score: 0.5547612239062053\n"
     ]
    }
   ],
   "source": [
    "print(\"Train score:\")\n",
    "print_metrics(y_train2, pred_gs_gb_train2)\n",
    "    \n",
    "print(\"Test score:\")\n",
    "print_metrics(y_test2, pred_gs_gb_test2)"
   ]
  },
  {
   "cell_type": "code",
   "execution_count": null,
   "metadata": {},
   "outputs": [],
   "source": []
  },
  {
   "cell_type": "markdown",
   "metadata": {},
   "source": [
    "## XGBoost"
   ]
  },
  {
   "cell_type": "code",
   "execution_count": 94,
   "metadata": {
    "ExecuteTime": {
     "end_time": "2019-11-04T16:58:00.265091Z",
     "start_time": "2019-11-04T16:57:53.880598Z"
    }
   },
   "outputs": [
    {
     "name": "stdout",
     "output_type": "stream",
     "text": [
      "Train score:\n",
      "Accuracy Score: 0.5878610237346297\n",
      "Test score:\n",
      "Accuracy Score: 0.5436088075493279\n"
     ]
    }
   ],
   "source": [
    "xgb_clf2 = xgb.XGBClassifier()\n",
    "xgb_clf2.fit(X_train_mmscaled2, y_train2)\n",
    "xgb_pred_train2 = xgb_clf2.predict(X_train_mmscaled2)\n",
    "xgb_pred_test2 = xgb_clf2.predict(X_test_mmscaled2)\n",
    "\n",
    "print(\"Train score:\")\n",
    "print_metrics(y_train2, xgb_pred_train2)\n",
    "    \n",
    "print(\"Test score:\")\n",
    "print_metrics(y_test2, xgb_pred_test2)"
   ]
  },
  {
   "cell_type": "markdown",
   "metadata": {},
   "source": [
    "### Tuning XGBoost Parameters using Grid Search and Cross Validation\n"
   ]
  },
  {
   "cell_type": "code",
   "execution_count": 101,
   "metadata": {
    "ExecuteTime": {
     "end_time": "2019-11-04T17:13:26.402214Z",
     "start_time": "2019-11-04T17:12:33.235091Z"
    }
   },
   "outputs": [
    {
     "name": "stdout",
     "output_type": "stream",
     "text": [
      "Grid Search found the following optimal parameters: \n",
      "learning_rate: 0.1\n",
      "max_depth: 2\n",
      "n_estimators: 500\n",
      "subsample: 0.8\n",
      "Best accuracy: 0.551\n"
     ]
    }
   ],
   "source": [
    "xgb_param_grid2 = {\n",
    "    \"learning_rate\": [0.1],\n",
    "    'max_depth': [2],\n",
    "    'subsample': [0.8],\n",
    "    'n_estimators': [500, 550],\n",
    "}\n",
    "\n",
    "grid_xgb_clf2 = GridSearchCV(xgb_clf2, \n",
    "                            xgb_param_grid2, \n",
    "                            scoring='accuracy', \n",
    "                            cv=5, \n",
    "                            n_jobs=-1)\n",
    "\n",
    "grid_xgb_clf2.fit(X_train_mmscaled2, y_train2)\n",
    "\n",
    "pred_gs_gxb_train2 = grid_xgb_clf2.predict(X_train_mmscaled2)\n",
    "pred_gs_gxb_test2 = grid_xgb_clf2.predict(X_test_mmscaled2)\n",
    "\n",
    "best_parameters2 = grid_xgb_clf2.best_params_\n",
    "\n",
    "print(\"Grid Search found the following optimal parameters: \")\n",
    "for param_name in sorted(best_parameters2.keys()):\n",
    "    print(\"%s: %r\" % (param_name, best_parameters2[param_name]))\n",
    "\n",
    "# Best accuracy\n",
    "print('Best accuracy: %.3f' % grid_xgb_clf2.best_score_)"
   ]
  },
  {
   "cell_type": "code",
   "execution_count": 102,
   "metadata": {
    "ExecuteTime": {
     "end_time": "2019-11-04T17:13:26.409818Z",
     "start_time": "2019-11-04T17:13:26.403922Z"
    }
   },
   "outputs": [
    {
     "name": "stdout",
     "output_type": "stream",
     "text": [
      "Train score:\n",
      "Accuracy Score: 0.6154561052330569\n",
      "Test score:\n",
      "Accuracy Score: 0.5527595081498428\n"
     ]
    }
   ],
   "source": [
    "print(\"Train score:\")\n",
    "print_metrics(y_train2, pred_gs_gxb_train2)\n",
    "    \n",
    "print(\"Test score:\")\n",
    "print_metrics(y_test2, pred_gs_gxb_test2)"
   ]
  },
  {
   "cell_type": "code",
   "execution_count": null,
   "metadata": {},
   "outputs": [],
   "source": []
  }
 ],
 "metadata": {
  "kernelspec": {
   "display_name": "Python 3",
   "language": "python",
   "name": "python3"
  },
  "language_info": {
   "codemirror_mode": {
    "name": "ipython",
    "version": 3
   },
   "file_extension": ".py",
   "mimetype": "text/x-python",
   "name": "python",
   "nbconvert_exporter": "python",
   "pygments_lexer": "ipython3",
   "version": "3.7.3"
  },
  "toc": {
   "base_numbering": 1,
   "nav_menu": {},
   "number_sections": true,
   "sideBar": true,
   "skip_h1_title": false,
   "title_cell": "Table of Contents",
   "title_sidebar": "Contents",
   "toc_cell": false,
   "toc_position": {},
   "toc_section_display": true,
   "toc_window_display": false
  }
 },
 "nbformat": 4,
 "nbformat_minor": 2
}
