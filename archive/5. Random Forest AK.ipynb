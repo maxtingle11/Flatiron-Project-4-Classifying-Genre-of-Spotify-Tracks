{
 "cells": [
  {
   "cell_type": "code",
   "execution_count": 65,
   "metadata": {
    "ExecuteTime": {
     "end_time": "2019-11-04T18:17:04.990267Z",
     "start_time": "2019-11-04T18:17:04.986979Z"
    }
   },
   "outputs": [],
   "source": [
    "import pandas as pd\n",
    "import numpy as np\n",
    "import warnings\n",
    "\n",
    "warnings.filterwarnings('ignore')\n",
    "\n",
    "pd.set_option('display.max_rows', 50)\n",
    "pd.set_option('display.max_columns', 100)\n",
    "pd.set_option('display.width', 1000)"
   ]
  },
  {
   "cell_type": "code",
   "execution_count": 66,
   "metadata": {
    "ExecuteTime": {
     "end_time": "2019-11-04T18:17:05.835686Z",
     "start_time": "2019-11-04T18:17:05.755820Z"
    }
   },
   "outputs": [
    {
     "name": "stdout",
     "output_type": "stream",
     "text": [
      "<class 'pandas.core.frame.DataFrame'>\n",
      "RangeIndex: 13988 entries, 0 to 13987\n",
      "Data columns (total 27 columns):\n",
      "acousticness          13988 non-null float64\n",
      "danceability          13988 non-null float64\n",
      "duration_ms           13988 non-null float64\n",
      "energy                13988 non-null float64\n",
      "instrumentalness      13988 non-null float64\n",
      "liveness              13988 non-null float64\n",
      "loudness              13988 non-null float64\n",
      "mode_feat             13988 non-null float64\n",
      "speechiness           13988 non-null float64\n",
      "tempo                 13988 non-null float64\n",
      "valence               13988 non-null float64\n",
      "time_signature_1.0    13988 non-null int64\n",
      "time_signature_3.0    13988 non-null int64\n",
      "time_signature_4.0    13988 non-null int64\n",
      "time_signature_5.0    13988 non-null int64\n",
      "key_0.0               13988 non-null int64\n",
      "key_1.0               13988 non-null int64\n",
      "key_2.0               13988 non-null int64\n",
      "key_3.0               13988 non-null int64\n",
      "key_4.0               13988 non-null int64\n",
      "key_5.0               13988 non-null int64\n",
      "key_6.0               13988 non-null int64\n",
      "key_7.0               13988 non-null int64\n",
      "key_8.0               13988 non-null int64\n",
      "key_9.0               13988 non-null int64\n",
      "key_10.0              13988 non-null int64\n",
      "key_11.0              13988 non-null int64\n",
      "dtypes: float64(11), int64(16)\n",
      "memory usage: 2.9 MB\n",
      "None\n"
     ]
    }
   ],
   "source": [
    "# Import data to Pandas DataFrame\n",
    "train = pd.read_csv('data/train.csv')\n",
    "test = pd.read_csv('data/test.csv')\n",
    "test_final = pd.read_csv('data/test_final.csv')\n",
    "\n",
    "X_train = train.drop('target', axis=1)\n",
    "y_train = train['target']\n",
    "\n",
    "X_test = test.drop('target', axis=1)\n",
    "y_test = test['target']\n",
    "\n",
    "X_test_final = test_final.drop('target', axis=1)\n",
    "y_test_final = test_final['target']\n",
    "\n",
    "# Preview data\n",
    "print(X_train.info())"
   ]
  },
  {
   "cell_type": "markdown",
   "metadata": {},
   "source": [
    "Performing Random Forest: \n",
    "1. We do not need to normalize data \n",
    "2. We need to somewhat balance the class distributions, we will do this using undersampling\n",
    "3. "
   ]
  },
  {
   "cell_type": "markdown",
   "metadata": {},
   "source": [
    "## Create a tree classifier as a baseline "
   ]
  },
  {
   "cell_type": "code",
   "execution_count": 25,
   "metadata": {
    "ExecuteTime": {
     "end_time": "2019-11-03T17:23:32.992305Z",
     "start_time": "2019-11-03T17:23:32.864025Z"
    }
   },
   "outputs": [
    {
     "name": "stdout",
     "output_type": "stream",
     "text": [
      "[[ 842  415   72  332  259   97  489]\n",
      " [ 312 1922    7  140   53   26  172]\n",
      " [ 113   49 1012  135  124  274  196]\n",
      " [ 168  210  135  415   82  270  299]\n",
      " [ 199   61  118  141  528  341  459]\n",
      " [  73   51   98  221  185  507  215]\n",
      " [ 325  198   19  210  123  339  957]]\n",
      "              precision    recall  f1-score   support\n",
      "\n",
      "           1       0.41      0.34      0.37      2506\n",
      "           2       0.66      0.73      0.69      2632\n",
      "           3       0.69      0.53      0.60      1903\n",
      "           4       0.26      0.26      0.26      1579\n",
      "           5       0.39      0.29      0.33      1847\n",
      "           6       0.27      0.38      0.32      1350\n",
      "           7       0.34      0.44      0.39      2171\n",
      "\n",
      "    accuracy                           0.44     13988\n",
      "   macro avg       0.43      0.42      0.42     13988\n",
      "weighted avg       0.45      0.44      0.44     13988\n",
      "\n"
     ]
    }
   ],
   "source": [
    "from sklearn.tree import DecisionTreeClassifier\n",
    "from sklearn.metrics import accuracy_score, confusion_matrix, classification_report\n",
    "\n",
    "tree_clf = DecisionTreeClassifier(criterion = \"gini\", max_depth = 5) \n",
    "tree_clf.fit(X_train, y_train)\n",
    "\n",
    "pred = tree_clf.predict(X_train)\n",
    "print(confusion_matrix(y_train, pred))\n",
    "print(classification_report(y_train, pred))"
   ]
  },
  {
   "cell_type": "code",
   "execution_count": 26,
   "metadata": {
    "ExecuteTime": {
     "end_time": "2019-11-03T17:23:37.282154Z",
     "start_time": "2019-11-03T17:23:36.998288Z"
    }
   },
   "outputs": [
    {
     "data": {
      "image/png": "[encoded data removed]",
      "text/plain": [
       "<Figure size 576x576 with 1 Axes>"
      ]
     },
     "metadata": {
      "needs_background": "light"
     },
     "output_type": "display_data"
    }
   ],
   "source": [
    "import matplotlib.pyplot as plt\n",
    "\n",
    "def plot_feature_importances(model):\n",
    "    n_features = X_train.shape[1]\n",
    "    plt.figure(figsize=(8,8))\n",
    "    plt.barh(range(n_features), model.feature_importances_, align='center') \n",
    "    plt.yticks(np.arange(n_features), X_train.columns.values) \n",
    "    plt.xlabel(\"Feature importance\")\n",
    "    plt.ylabel(\"Feature\")\n",
    "\n",
    "plot_feature_importances(tree_clf);"
   ]
  },
  {
   "cell_type": "markdown",
   "metadata": {},
   "source": [
    "## Random Forest"
   ]
  },
  {
   "cell_type": "code",
   "execution_count": 57,
   "metadata": {
    "ExecuteTime": {
     "end_time": "2019-11-04T16:09:24.802696Z",
     "start_time": "2019-11-04T16:09:24.800040Z"
    }
   },
   "outputs": [],
   "source": [
    "classes = ['Dance-Pop','Rap-Pop','Folk-Pop', 'Electro-Pop','Rock-Pop', 'Indie-Pop','EDM-Pop']"
   ]
  },
  {
   "cell_type": "code",
   "execution_count": 67,
   "metadata": {
    "ExecuteTime": {
     "end_time": "2019-11-04T18:17:18.169700Z",
     "start_time": "2019-11-04T18:17:17.474055Z"
    },
    "scrolled": true
   },
   "outputs": [
    {
     "name": "stdout",
     "output_type": "stream",
     "text": [
      "Accuracy Score: 0.5205890763511581\n",
      "Accuracy Score: 0.5158707463540178\n"
     ]
    }
   ],
   "source": [
    "from sklearn.ensemble import RandomForestClassifier\n",
    "\n",
    "\n",
    "forest = RandomForestClassifier(n_estimators=100, \n",
    "                                max_depth= 5, \n",
    "                                bootstrap=True,\n",
    "                                oob_score=True,\n",
    "                                n_jobs=-1,\n",
    "                                random_state=11,\n",
    "                                class_weight='balanced')\n",
    "forest.fit(X_train, y_train)\n",
    "forest.score(X_train, y_train)\n",
    "\n",
    "pred_forest = forest.predict(X_train)\n",
    "pred_forest_test = forest.predict(X_test)\n",
    "\n",
    "print_metrics(y_train, pred_forest)\n",
    "print_metrics(y_test, pred_forest_test)\n",
    "\n",
    "# cm = confusion_matrix(y_train, pred_forest)\n",
    "# print(classification_report(y_train, pred_forest))\n",
    "\n",
    "\n",
    "# conf_matrix = pd.DataFrame(cm, index=['actual dancepop',\n",
    "#                                       'actual poprap',\n",
    "#                                       'actual folkpop', \n",
    "#                                       'actual electropop',\n",
    "#                                       'actual poprock',\n",
    "#                                       'actual indiepop',\n",
    "#                                       'actual popedm'],\n",
    "#                            columns= classes)\n",
    "# conf_matrix\n"
   ]
  },
  {
   "cell_type": "code",
   "execution_count": 31,
   "metadata": {
    "ExecuteTime": {
     "end_time": "2019-11-03T17:24:13.433248Z",
     "start_time": "2019-11-03T17:24:13.428335Z"
    }
   },
   "outputs": [
    {
     "name": "stdout",
     "output_type": "stream",
     "text": [
      "Accuracy Score: 0.5205890763511581\n"
     ]
    }
   ],
   "source": [
    "# Print metrics\n",
    "from sklearn.metrics import accuracy_score\n",
    "\n",
    "def print_metrics(labels, preds):\n",
    "   print(\"Accuracy Score: {}\".format(accuracy_score(labels, preds)))\n",
    "\n",
    "print_metrics(y_train, pred_forest)"
   ]
  },
  {
   "cell_type": "code",
   "execution_count": 32,
   "metadata": {
    "ExecuteTime": {
     "end_time": "2019-11-03T17:24:17.511917Z",
     "start_time": "2019-11-03T17:24:17.398249Z"
    }
   },
   "outputs": [
    {
     "name": "stdout",
     "output_type": "stream",
     "text": [
      "Accuracy Score: 0.5158707463540178\n"
     ]
    }
   ],
   "source": [
    "test_forest = forest.predict(X_test)\n",
    "print_metrics(y_test, test_forest)"
   ]
  },
  {
   "cell_type": "markdown",
   "metadata": {},
   "source": [
    "## Grid Search for best parameters"
   ]
  },
  {
   "cell_type": "code",
   "execution_count": 73,
   "metadata": {
    "ExecuteTime": {
     "end_time": "2019-11-04T18:26:01.547308Z",
     "start_time": "2019-11-04T18:24:47.394970Z"
    }
   },
   "outputs": [
    {
     "name": "stdout",
     "output_type": "stream",
     "text": [
      "Fitting 5 folds for each of 24 candidates, totalling 120 fits\n"
     ]
    },
    {
     "name": "stderr",
     "output_type": "stream",
     "text": [
      "[Parallel(n_jobs=-1)]: Using backend LokyBackend with 16 concurrent workers.\n",
      "[Parallel(n_jobs=-1)]: Done   9 tasks      | elapsed:    8.0s\n",
      "[Parallel(n_jobs=-1)]: Done 120 out of 120 | elapsed:  1.2min finished\n"
     ]
    },
    {
     "name": "stdout",
     "output_type": "stream",
     "text": [
      "Best accuracy: 0.533\n",
      "\n",
      "Best params:\n",
      " {'criterion': 'entropy', 'max_depth': 8, 'min_samples_leaf': 1, 'n_estimators': 225}\n"
     ]
    }
   ],
   "source": [
    "from sklearn.model_selection import GridSearchCV\n",
    "\n",
    "\n",
    "forest_GS = RandomForestClassifier(random_state = 11,\n",
    "                                   bootstrap=True,\n",
    "                                   n_jobs=-1,\n",
    "                                   oob_score=True,\n",
    "                                   class_weight='balanced')\n",
    "\n",
    " \n",
    "# Set grid search params\n",
    "param_grid_forest = [ \n",
    "  {'n_estimators': [ 225, 250, 275, 300],\n",
    "   'criterion': ['entropy'], \n",
    "   'max_depth': [6, 8],  \n",
    "   'min_samples_leaf':[ 1, 10, 20]  \n",
    "  }\n",
    "]\n",
    "\n",
    "# Construct grid search\n",
    "gs_rf = GridSearchCV(estimator=forest_GS,\n",
    "            param_grid=param_grid_forest,\n",
    "            scoring='accuracy',\n",
    "            refit='accuracy',\n",
    "            cv=5, verbose=2, return_train_score = True,\n",
    "            n_jobs=-1)\n",
    "\n",
    "# Fit using grid search\n",
    "gs_rf.fit(X_train, y_train)\n",
    "\n",
    "\n",
    "pred_gs_rf_train = gs_rf.predict(X_train)\n",
    "pred_gs_rf_test = gs_rf.predict(X_test)\n",
    "\n",
    "# Best accuracy\n",
    "print('Best accuracy: %.3f' % gs_rf.best_score_)\n",
    "\n",
    "# Best params\n",
    "print('\\nBest params:\\n', gs_rf.best_params_)"
   ]
  },
  {
   "cell_type": "code",
   "execution_count": 74,
   "metadata": {
    "ExecuteTime": {
     "end_time": "2019-11-04T18:26:01.554771Z",
     "start_time": "2019-11-04T18:26:01.549173Z"
    }
   },
   "outputs": [
    {
     "name": "stdout",
     "output_type": "stream",
     "text": [
      "Train score:\n",
      "Accuracy Score: 0.6046611381183872\n",
      "Test score:\n",
      "Accuracy Score: 0.5416070917929654\n"
     ]
    }
   ],
   "source": [
    "print(\"Train score:\")\n",
    "print_metrics(y_train, pred_gs_rf_train)\n",
    "\n",
    "print(\"Test score:\")\n",
    "print_metrics(y_test, pred_gs_rf_test)"
   ]
  },
  {
   "cell_type": "markdown",
   "metadata": {},
   "source": [
    "#### Confusion Matrix"
   ]
  },
  {
   "cell_type": "code",
   "execution_count": 55,
   "metadata": {
    "ExecuteTime": {
     "end_time": "2019-11-04T14:34:32.018103Z",
     "start_time": "2019-11-04T14:34:31.755850Z"
    }
   },
   "outputs": [
    {
     "data": {
      "image/png": "[encoded data removed]",
      "text/plain": [
       "<Figure size 720x720 with 1 Axes>"
      ]
     },
     "metadata": {
      "needs_background": "light"
     },
     "output_type": "display_data"
    }
   ],
   "source": [
    "import itertools \n",
    "\n",
    "cnf_matrix = confusion_matrix(y_test, pred_gs_rf_test)\n",
    "sns.set(font_scale=1.5)\n",
    "plt.figure(figsize=(10,10))\n",
    "plt.imshow(cnf_matrix,  cmap=plt.cm.Greens)  # Create the basic matrix.\n",
    "\n",
    "# Add title and Axis Labels\n",
    "# plt.title('Confusion Matrix')\n",
    "plt.ylabel('True label')\n",
    "plt.xlabel('Predicted label')\n",
    "\n",
    "# Add appropriate Axis Scales\n",
    "class_names = classes  # Get class labels to add to matrix\n",
    "tick_marks = np.arange(len(class_names))\n",
    "plt.xticks(tick_marks, class_names, rotation=45)\n",
    "plt.yticks(tick_marks, class_names)\n",
    "\n",
    "# Add Labels to Each Cell\n",
    "thresh = cnf_matrix.max() / 2.  # Used for text coloring below\n",
    "# Here we iterate through the confusion matrix and append labels to our visualization.\n",
    "for i, j in itertools.product(range(cnf_matrix.shape[0]), range(cnf_matrix.shape[1])):\n",
    "    plt.text(j, i, cnf_matrix[i, j],\n",
    "             horizontalalignment=\"center\",\n",
    "             color=\"white\" if cnf_matrix[i, j] > thresh else \"black\")\n"
   ]
  },
  {
   "cell_type": "markdown",
   "metadata": {},
   "source": [
    "### Take out key, time signature, mode_feat, and liveness features"
   ]
  },
  {
   "cell_type": "code",
   "execution_count": 38,
   "metadata": {
    "ExecuteTime": {
     "end_time": "2019-11-03T18:09:06.322711Z",
     "start_time": "2019-11-03T18:09:06.318284Z"
    }
   },
   "outputs": [
    {
     "data": {
      "text/plain": [
       "Index(['acousticness', 'danceability', 'duration_ms', 'energy', 'instrumentalness', 'liveness', 'loudness', 'mode_feat', 'speechiness', 'tempo', 'valence', 'time_signature_1.0', 'time_signature_3.0', 'time_signature_4.0', 'time_signature_5.0', 'key_0.0', 'key_1.0', 'key_2.0', 'key_3.0', 'key_4.0', 'key_5.0', 'key_6.0', 'key_7.0', 'key_8.0', 'key_9.0', 'key_10.0', 'key_11.0', 'target'], dtype='object')"
      ]
     },
     "execution_count": 38,
     "metadata": {},
     "output_type": "execute_result"
    }
   ],
   "source": [
    "train.columns"
   ]
  },
  {
   "cell_type": "code",
   "execution_count": 56,
   "metadata": {
    "ExecuteTime": {
     "end_time": "2019-11-04T16:05:48.336934Z",
     "start_time": "2019-11-04T16:05:48.321391Z"
    }
   },
   "outputs": [],
   "source": [
    "X_train2 = train[['acousticness', 'danceability', 'duration_ms', 'energy', 'instrumentalness', 'loudness', 'speechiness', 'tempo', 'valence']]\n",
    "y_train2 = train['target']\n",
    "\n",
    "X_test2 = test[['acousticness', 'danceability', 'duration_ms', 'energy', 'instrumentalness', 'loudness', 'speechiness', 'tempo', 'valence']]\n",
    "y_test2 = test['target']\n",
    "\n",
    "X_test_final_2 = test_final[['acousticness', 'danceability', 'duration_ms', 'energy', 'instrumentalness', 'loudness', 'speechiness', 'tempo', 'valence']]\n",
    "y_test_final_2 = test_final['target']\n"
   ]
  },
  {
   "cell_type": "markdown",
   "metadata": {},
   "source": [
    "### \"Normal\" Random Forest"
   ]
  },
  {
   "cell_type": "code",
   "execution_count": 51,
   "metadata": {
    "ExecuteTime": {
     "end_time": "2019-11-03T18:37:28.339396Z",
     "start_time": "2019-11-03T18:37:27.656759Z"
    }
   },
   "outputs": [
    {
     "name": "stdout",
     "output_type": "stream",
     "text": [
      "Accuracy Score: 0.5157992565055762\n",
      "Accuracy Score: 0.5072919645410352\n"
     ]
    }
   ],
   "source": [
    "forest2 = RandomForestClassifier(n_estimators=100, \n",
    "                                max_depth= 5, \n",
    "                                bootstrap=True,\n",
    "                                oob_score=True,\n",
    "                                n_jobs=-1,\n",
    "                                random_state=11,\n",
    "                                class_weight='balanced')\n",
    "forest2.fit(X_train2, y_train2)\n",
    "forest2.score(X_train2, y_train2)\n",
    "\n",
    "pred_forest2 = forest2.predict(X_train2)\n",
    "pred_forest_test2 = forest2.predict(X_test2)\n",
    "\n",
    "print(\"Train score:\")\n",
    "print_metrics(y_train2, pred_forest2)\n",
    "print(\"Test score:\")\n",
    "print_metrics(y_test2, pred_forest_test2)\n"
   ]
  },
  {
   "cell_type": "markdown",
   "metadata": {},
   "source": [
    "### Tuning Random Forest Parameters using Grid Search and Cross Validation"
   ]
  },
  {
   "cell_type": "code",
   "execution_count": 63,
   "metadata": {
    "ExecuteTime": {
     "end_time": "2019-11-04T18:10:56.104475Z",
     "start_time": "2019-11-04T18:09:37.272111Z"
    },
    "scrolled": true
   },
   "outputs": [
    {
     "name": "stdout",
     "output_type": "stream",
     "text": [
      "Fitting 5 folds for each of 24 candidates, totalling 120 fits\n"
     ]
    },
    {
     "name": "stderr",
     "output_type": "stream",
     "text": [
      "[Parallel(n_jobs=-1)]: Using backend LokyBackend with 16 concurrent workers.\n",
      "[Parallel(n_jobs=-1)]: Done   9 tasks      | elapsed:   12.4s\n",
      "[Parallel(n_jobs=-1)]: Done 120 out of 120 | elapsed:  1.3min finished\n"
     ]
    },
    {
     "name": "stdout",
     "output_type": "stream",
     "text": [
      "Grid Search found the following optimal parameters: \n",
      "criterion: 'entropy'\n",
      "max_depth: 8\n",
      "min_samples_split: 4\n",
      "n_estimators: 250\n",
      "Best accuracy: 0.533\n",
      "\n",
      "Best params:\n",
      " {'criterion': 'entropy', 'max_depth': 8, 'min_samples_split': 4, 'n_estimators': 250}\n"
     ]
    }
   ],
   "source": [
    "forest_GS2 = RandomForestClassifier(random_state = 11,\n",
    "                                   bootstrap=True,\n",
    "                                   n_jobs=-1,\n",
    "                                   oob_score=True,\n",
    "                                   class_weight='balanced')\n",
    "\n",
    " \n",
    "# Set grid search params\n",
    "param_grid_forest = [ \n",
    "  {'n_estimators': [225, 250, 275],\n",
    "   'criterion': ['entropy', 'gini'], \n",
    "   'max_depth': [6, 8],  \n",
    "#    'min_samples_leaf':[ 1, 2],  \n",
    "   'min_samples_split':[3, 4]\n",
    "  }\n",
    "]\n",
    "\n",
    "# Construct grid search\n",
    "gs_rf2 = GridSearchCV(estimator=forest_GS2,\n",
    "            param_grid=param_grid_forest,\n",
    "            scoring='accuracy',\n",
    "            refit='accuracy',\n",
    "            cv=5, verbose=2, return_train_score = True,\n",
    "            n_jobs=-1)\n",
    "\n",
    "# Fit using grid search\n",
    "gs_rf2.fit(X_train2, y_train2)\n",
    "\n",
    "\n",
    "pred_gs_rf_train2 = gs_rf2.predict(X_train2)\n",
    "pred_gs_rf_test2 = gs_rf2.predict(X_test2)\n",
    "\n",
    "\n",
    "\n",
    "best_parameters2 = gs_rf2.best_params_\n",
    "print(\"Grid Search found the following optimal parameters: \")\n",
    "for param_name in sorted(best_parameters2.keys()):\n",
    "    print(\"%s: %r\" % (param_name, best_parameters2[param_name]))\n",
    "    \n",
    "\n",
    "# Best accuracy\n",
    "print('Best accuracy: %.3f' % gs_rf2.best_score_)\n",
    "\n",
    "# Best params\n",
    "print('\\nBest params:\\n', gs_rf2.best_params_)\n"
   ]
  },
  {
   "cell_type": "code",
   "execution_count": 64,
   "metadata": {
    "ExecuteTime": {
     "end_time": "2019-11-04T18:10:56.112382Z",
     "start_time": "2019-11-04T18:10:56.107046Z"
    }
   },
   "outputs": [
    {
     "name": "stdout",
     "output_type": "stream",
     "text": [
      "Train score:\n",
      "Accuracy Score: 0.6023734629682586\n",
      "Test score:\n",
      "Accuracy Score: 0.5333142693737489\n"
     ]
    }
   ],
   "source": [
    "print(\"Train score:\")\n",
    "print_metrics(y_train2, pred_gs_rf_train2)\n",
    "    \n",
    "print(\"Test score:\")\n",
    "print_metrics(y_test2, pred_gs_rf_test2)"
   ]
  },
  {
   "cell_type": "code",
   "execution_count": null,
   "metadata": {},
   "outputs": [],
   "source": []
  }
 ],
 "metadata": {
  "kernelspec": {
   "display_name": "Python 3",
   "language": "python",
   "name": "python3"
  },
  "language_info": {
   "codemirror_mode": {
    "name": "ipython",
    "version": 3
   },
   "file_extension": ".py",
   "mimetype": "text/x-python",
   "name": "python",
   "nbconvert_exporter": "python",
   "pygments_lexer": "ipython3",
   "version": "3.7.3"
  },
  "toc": {
   "base_numbering": 1,
   "nav_menu": {},
   "number_sections": true,
   "sideBar": true,
   "skip_h1_title": false,
   "title_cell": "Table of Contents",
   "title_sidebar": "Contents",
   "toc_cell": false,
   "toc_position": {},
   "toc_section_display": true,
   "toc_window_display": false
  }
 },
 "nbformat": 4,
 "nbformat_minor": 2
}
