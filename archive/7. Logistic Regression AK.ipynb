{
 "cells": [
  {
   "cell_type": "code",
   "execution_count": 1,
   "metadata": {
    "ExecuteTime": {
     "end_time": "2019-11-04T17:26:46.676143Z",
     "start_time": "2019-11-04T17:26:42.491134Z"
    }
   },
   "outputs": [],
   "source": [
    "import pandas as pd\n",
    "import numpy as np\n",
    "import warnings\n",
    "\n",
    "warnings.filterwarnings('ignore')\n",
    "\n",
    "pd.set_option('display.max_rows', 50)\n",
    "pd.set_option('display.max_columns', 100)\n",
    "pd.set_option('display.width', 1000)"
   ]
  },
  {
   "cell_type": "code",
   "execution_count": 2,
   "metadata": {
    "ExecuteTime": {
     "end_time": "2019-11-04T17:26:59.139107Z",
     "start_time": "2019-11-04T17:26:58.629098Z"
    }
   },
   "outputs": [],
   "source": [
    "# Import data to Pandas DataFrame\n",
    "train = pd.read_csv('data/train.csv')\n",
    "test = pd.read_csv('data/test.csv')\n",
    "test_final = pd.read_csv('data/test_final.csv')\n",
    "\n",
    "X_train = train.drop('target', axis=1)\n",
    "y_train = train['target']\n",
    "\n",
    "X_test = test.drop('target', axis=1)\n",
    "y_test = test['target']\n",
    "\n",
    "X_test_final = test_final.drop('target', axis=1)\n",
    "y_test_final = test_final['target']\n"
   ]
  },
  {
   "cell_type": "code",
   "execution_count": 3,
   "metadata": {
    "ExecuteTime": {
     "end_time": "2019-11-04T18:13:15.962527Z",
     "start_time": "2019-11-04T18:13:15.600471Z"
    }
   },
   "outputs": [],
   "source": [
    "# Standardize with MinMax Scaler\n",
    "\n",
    "from sklearn.preprocessing import MinMaxScaler\n",
    "\n",
    "min_max_scaler = MinMaxScaler()\n",
    "X_train_mmscaled = min_max_scaler.fit_transform(X_train)\n",
    "X_test_mmscaled = min_max_scaler.transform(X_test)\n",
    "X_test_final_mmscaled = min_max_scaler.transform(X_test_final)"
   ]
  },
  {
   "cell_type": "code",
   "execution_count": 11,
   "metadata": {
    "ExecuteTime": {
     "end_time": "2019-11-04T18:51:02.997453Z",
     "start_time": "2019-11-04T18:51:02.989718Z"
    }
   },
   "outputs": [
    {
     "data": {
      "text/plain": [
       "{1: 0.7974005244555923,\n",
       " 2: 0.7592270950933565,\n",
       " 3: 1.0500713159672697,\n",
       " 4: 1.2655387677553604,\n",
       " 5: 1.081908886998221,\n",
       " 6: 1.4802116402116403,\n",
       " 7: 0.9204448246364414}"
      ]
     },
     "execution_count": 11,
     "metadata": {},
     "output_type": "execute_result"
    }
   ],
   "source": [
    "class_names = ['Dance-Pop','Rap-Pop','Folk-Pop', 'Electro-Pop','Rock-Pop', 'Indie-Pop','EDM-Pop']\n",
    "classes=[1,2,3,4,5,6,7]\n",
    "\n",
    "from sklearn.utils.class_weight import compute_class_weight\n",
    "class_weights = compute_class_weight(class_weight='balanced',classes=classes,y=y_train)\n",
    "cls_wt = dict(zip(classes,class_weights))"
   ]
  },
  {
   "cell_type": "code",
   "execution_count": 12,
   "metadata": {
    "ExecuteTime": {
     "end_time": "2019-11-04T18:52:26.602057Z",
     "start_time": "2019-11-04T18:52:24.595248Z"
    }
   },
   "outputs": [],
   "source": [
    "from sklearn.linear_model import LogisticRegression\n",
    "\n",
    "# Perform vanilla logistic regression\n",
    "logreg_base = LogisticRegression(C = 1e9, \n",
    "                                 solver='lbfgs',\n",
    "                                 multi_class='multinomial', \n",
    "                                 max_iter=1000, \n",
    "                                 penalty='l2',\n",
    "                                 class_weight='cls_wt')\n",
    "logreg_base.fit(X_train_mmscaled, y_train)\n",
    "pred_logreg_base_train = logreg_base.predict(X_train_mmscaled)\n",
    "pred_logreg_base_test = logreg_base.predict(X_test_mmscaled)\n"
   ]
  },
  {
   "cell_type": "code",
   "execution_count": 13,
   "metadata": {
    "ExecuteTime": {
     "end_time": "2019-11-04T18:52:26.608533Z",
     "start_time": "2019-11-04T18:52:26.603448Z"
    }
   },
   "outputs": [
    {
     "name": "stdout",
     "output_type": "stream",
     "text": [
      "Train score:\n",
      "Accuracy Score: 0.4984272233342865\n",
      "Test score:\n",
      "Accuracy Score: 0.5030025736345439\n"
     ]
    }
   ],
   "source": [
    "# Print metrics\n",
    "from sklearn.metrics import accuracy_score\n",
    "\n",
    "def print_metrics(labels, preds):\n",
    "    print(\"Accuracy Score: {}\".format(accuracy_score(labels, preds)))\n",
    "\n",
    "print(\"Train score:\")\n",
    "print_metrics(y_train, pred_logreg_base_train)\n",
    "\n",
    "print(\"Test score:\")\n",
    "print_metrics(y_test, pred_logreg_base_test)\n"
   ]
  },
  {
   "cell_type": "code",
   "execution_count": 23,
   "metadata": {
    "ExecuteTime": {
     "end_time": "2019-11-04T19:19:46.408703Z",
     "start_time": "2019-11-04T19:18:14.001177Z"
    }
   },
   "outputs": [
    {
     "name": "stdout",
     "output_type": "stream",
     "text": [
      "Fitting 5 folds for each of 20 candidates, totalling 100 fits\n"
     ]
    },
    {
     "name": "stderr",
     "output_type": "stream",
     "text": [
      "[Parallel(n_jobs=-1)]: Using backend LokyBackend with 16 concurrent workers.\n",
      "[Parallel(n_jobs=-1)]: Done   9 tasks      | elapsed:   20.0s\n",
      "[Parallel(n_jobs=-1)]: Done 100 out of 100 | elapsed:  1.4min finished\n"
     ]
    },
    {
     "name": "stdout",
     "output_type": "stream",
     "text": [
      "Best accuracy: 0.493\n",
      "\n",
      "Best params:\n",
      " {'C': 1000000000.0, 'class_weight': {1: 0.7974005244555923, 2: 0.7592270950933565, 3: 1.0500713159672697, 4: 1.2655387677553604, 5: 1.081908886998221, 6: 1.4802116402116403, 7: 0.9204448246364414}, 'penalty': 'l1', 'solver': 'saga'}\n"
     ]
    }
   ],
   "source": [
    "from sklearn.model_selection import GridSearchCV\n",
    "\n",
    "logreg_GS = LogisticRegression(random_state = 11,\n",
    "                               multi_class='multinomial', \n",
    "                               max_iter=1000, \n",
    "                               class_weight=cls_wt)\n",
    "\n",
    "# Set grid search params\n",
    "param_grid_logreg = [\n",
    "    {'penalty':['l1'],\n",
    "     'solver':['saga'],\n",
    "     'C':[1e9, 1e5, 1e3, 1, 1e-2],\n",
    "     'class_weight':[cls_wt,'balanced']\n",
    "     },\n",
    "    {'penalty':['l2'],\n",
    "     'solver':['newton-cg'],\n",
    "     'C':[1e9, 1e5, 1e3, 1, 1e-2],\n",
    "     'class_weight':[cls_wt,'balanced']\n",
    "    }   \n",
    "]\n",
    "\n",
    "# Construct grid search\n",
    "gs_logreg = GridSearchCV(estimator=logreg_GS,\n",
    "            param_grid=param_grid_logreg,\n",
    "            scoring='accuracy',\n",
    "            refit='accuracy',\n",
    "            cv=5, verbose=2, return_train_score = True,\n",
    "            n_jobs=-1)\n",
    "\n",
    "# Fit using grid search\n",
    "gs_logreg.fit(X_train_mmscaled, y_train)\n",
    "\n",
    "pred_gs_lr_train = gs_logreg.predict(X_train_mmscaled)\n",
    "pred_gs_lr_test = gs_logreg.predict(X_test_mmscaled)\n",
    "\n",
    "# Best accuracy\n",
    "print('Best accuracy: %.3f' % gs_logreg.best_score_)\n",
    "\n",
    "# Best params\n",
    "print('\\nBest params:\\n', gs_logreg.best_params_)\n"
   ]
  },
  {
   "cell_type": "code",
   "execution_count": 24,
   "metadata": {
    "ExecuteTime": {
     "end_time": "2019-11-04T19:19:46.416201Z",
     "start_time": "2019-11-04T19:19:46.410659Z"
    }
   },
   "outputs": [
    {
     "name": "stdout",
     "output_type": "stream",
     "text": [
      "Train score:\n",
      "Accuracy Score: 0.4984272233342865\n",
      "Test score:\n",
      "Accuracy Score: 0.50328853302831\n"
     ]
    }
   ],
   "source": [
    "print(\"Train score:\")\n",
    "print_metrics(y_train, pred_gs_lr_train)\n",
    "\n",
    "print(\"Test score:\")\n",
    "print_metrics(y_test, pred_gs_lr_test)"
   ]
  },
  {
   "cell_type": "code",
   "execution_count": null,
   "metadata": {},
   "outputs": [],
   "source": []
  }
 ],
 "metadata": {
  "kernelspec": {
   "display_name": "Python 3",
   "language": "python",
   "name": "python3"
  },
  "language_info": {
   "codemirror_mode": {
    "name": "ipython",
    "version": 3
   },
   "file_extension": ".py",
   "mimetype": "text/x-python",
   "name": "python",
   "nbconvert_exporter": "python",
   "pygments_lexer": "ipython3",
   "version": "3.7.3"
  },
  "toc": {
   "base_numbering": 1,
   "nav_menu": {},
   "number_sections": true,
   "sideBar": true,
   "skip_h1_title": false,
   "title_cell": "Table of Contents",
   "title_sidebar": "Contents",
   "toc_cell": false,
   "toc_position": {},
   "toc_section_display": true,
   "toc_window_display": false
  }
 },
 "nbformat": 4,
 "nbformat_minor": 2
}
