{
 "cells": [
  {
   "cell_type": "markdown",
   "metadata": {},
   "source": [
    "## K-Nearest Neighbor"
   ]
  },
  {
   "cell_type": "markdown",
   "metadata": {},
   "source": [
    "### Import Data"
   ]
  },
  {
   "cell_type": "code",
   "execution_count": 1,
   "metadata": {
    "ExecuteTime": {
     "end_time": "2019-11-04T19:29:38.755729Z",
     "start_time": "2019-11-04T19:29:37.899404Z"
    }
   },
   "outputs": [
    {
     "name": "stdout",
     "output_type": "stream",
     "text": [
      "<class 'pandas.core.frame.DataFrame'>\n",
      "RangeIndex: 13988 entries, 0 to 13987\n",
      "Data columns (total 28 columns):\n",
      "acousticness          13988 non-null float64\n",
      "danceability          13988 non-null float64\n",
      "duration_ms           13988 non-null float64\n",
      "energy                13988 non-null float64\n",
      "instrumentalness      13988 non-null float64\n",
      "liveness              13988 non-null float64\n",
      "loudness              13988 non-null float64\n",
      "mode_feat             13988 non-null float64\n",
      "speechiness           13988 non-null float64\n",
      "tempo                 13988 non-null float64\n",
      "valence               13988 non-null float64\n",
      "time_signature_1.0    13988 non-null int64\n",
      "time_signature_3.0    13988 non-null int64\n",
      "time_signature_4.0    13988 non-null int64\n",
      "time_signature_5.0    13988 non-null int64\n",
      "key_0.0               13988 non-null int64\n",
      "key_1.0               13988 non-null int64\n",
      "key_2.0               13988 non-null int64\n",
      "key_3.0               13988 non-null int64\n",
      "key_4.0               13988 non-null int64\n",
      "key_5.0               13988 non-null int64\n",
      "key_6.0               13988 non-null int64\n",
      "key_7.0               13988 non-null int64\n",
      "key_8.0               13988 non-null int64\n",
      "key_9.0               13988 non-null int64\n",
      "key_10.0              13988 non-null int64\n",
      "key_11.0              13988 non-null int64\n",
      "target                13988 non-null int64\n",
      "dtypes: float64(11), int64(17)\n",
      "memory usage: 3.0 MB\n",
      "None\n"
     ]
    },
    {
     "data": {
      "text/html": [
       "<div>\n",
       "<style scoped>\n",
       "    .dataframe tbody tr th:only-of-type {\n",
       "        vertical-align: middle;\n",
       "    }\n",
       "\n",
       "    .dataframe tbody tr th {\n",
       "        vertical-align: top;\n",
       "    }\n",
       "\n",
       "    .dataframe thead th {\n",
       "        text-align: right;\n",
       "    }\n",
       "</style>\n",
       "<table border=\"1\" class=\"dataframe\">\n",
       "  <thead>\n",
       "    <tr style=\"text-align: right;\">\n",
       "      <th></th>\n",
       "      <th>acousticness</th>\n",
       "      <th>danceability</th>\n",
       "      <th>duration_ms</th>\n",
       "      <th>energy</th>\n",
       "      <th>instrumentalness</th>\n",
       "      <th>liveness</th>\n",
       "      <th>loudness</th>\n",
       "      <th>mode_feat</th>\n",
       "      <th>speechiness</th>\n",
       "      <th>tempo</th>\n",
       "      <th>valence</th>\n",
       "      <th>time_signature_1.0</th>\n",
       "      <th>time_signature_3.0</th>\n",
       "      <th>time_signature_4.0</th>\n",
       "      <th>time_signature_5.0</th>\n",
       "      <th>key_0.0</th>\n",
       "      <th>key_1.0</th>\n",
       "      <th>key_2.0</th>\n",
       "      <th>key_3.0</th>\n",
       "      <th>key_4.0</th>\n",
       "      <th>key_5.0</th>\n",
       "      <th>key_6.0</th>\n",
       "      <th>key_7.0</th>\n",
       "      <th>key_8.0</th>\n",
       "      <th>key_9.0</th>\n",
       "      <th>key_10.0</th>\n",
       "      <th>key_11.0</th>\n",
       "      <th>target</th>\n",
       "    </tr>\n",
       "  </thead>\n",
       "  <tbody>\n",
       "    <tr>\n",
       "      <th>0</th>\n",
       "      <td>0.620000</td>\n",
       "      <td>0.465</td>\n",
       "      <td>146494.0</td>\n",
       "      <td>0.469</td>\n",
       "      <td>0.000000</td>\n",
       "      <td>0.1180</td>\n",
       "      <td>-4.256</td>\n",
       "      <td>1.0</td>\n",
       "      <td>0.0319</td>\n",
       "      <td>69.220</td>\n",
       "      <td>0.518</td>\n",
       "      <td>0</td>\n",
       "      <td>0</td>\n",
       "      <td>1</td>\n",
       "      <td>0</td>\n",
       "      <td>0</td>\n",
       "      <td>0</td>\n",
       "      <td>0</td>\n",
       "      <td>0</td>\n",
       "      <td>0</td>\n",
       "      <td>0</td>\n",
       "      <td>0</td>\n",
       "      <td>1</td>\n",
       "      <td>0</td>\n",
       "      <td>0</td>\n",
       "      <td>0</td>\n",
       "      <td>0</td>\n",
       "      <td>7</td>\n",
       "    </tr>\n",
       "    <tr>\n",
       "      <th>1</th>\n",
       "      <td>0.005980</td>\n",
       "      <td>0.489</td>\n",
       "      <td>211885.0</td>\n",
       "      <td>0.641</td>\n",
       "      <td>0.020100</td>\n",
       "      <td>0.1220</td>\n",
       "      <td>-7.011</td>\n",
       "      <td>0.0</td>\n",
       "      <td>0.0320</td>\n",
       "      <td>108.901</td>\n",
       "      <td>0.587</td>\n",
       "      <td>0</td>\n",
       "      <td>0</td>\n",
       "      <td>1</td>\n",
       "      <td>0</td>\n",
       "      <td>0</td>\n",
       "      <td>0</td>\n",
       "      <td>0</td>\n",
       "      <td>0</td>\n",
       "      <td>0</td>\n",
       "      <td>0</td>\n",
       "      <td>0</td>\n",
       "      <td>0</td>\n",
       "      <td>0</td>\n",
       "      <td>0</td>\n",
       "      <td>0</td>\n",
       "      <td>1</td>\n",
       "      <td>1</td>\n",
       "    </tr>\n",
       "    <tr>\n",
       "      <th>2</th>\n",
       "      <td>0.249000</td>\n",
       "      <td>0.594</td>\n",
       "      <td>283733.0</td>\n",
       "      <td>0.635</td>\n",
       "      <td>0.000000</td>\n",
       "      <td>0.4540</td>\n",
       "      <td>-4.259</td>\n",
       "      <td>0.0</td>\n",
       "      <td>0.4700</td>\n",
       "      <td>75.035</td>\n",
       "      <td>0.552</td>\n",
       "      <td>0</td>\n",
       "      <td>0</td>\n",
       "      <td>1</td>\n",
       "      <td>0</td>\n",
       "      <td>0</td>\n",
       "      <td>0</td>\n",
       "      <td>0</td>\n",
       "      <td>0</td>\n",
       "      <td>1</td>\n",
       "      <td>0</td>\n",
       "      <td>0</td>\n",
       "      <td>0</td>\n",
       "      <td>0</td>\n",
       "      <td>0</td>\n",
       "      <td>0</td>\n",
       "      <td>0</td>\n",
       "      <td>2</td>\n",
       "    </tr>\n",
       "    <tr>\n",
       "      <th>3</th>\n",
       "      <td>0.000667</td>\n",
       "      <td>0.674</td>\n",
       "      <td>191250.0</td>\n",
       "      <td>0.869</td>\n",
       "      <td>0.604000</td>\n",
       "      <td>0.0651</td>\n",
       "      <td>-4.758</td>\n",
       "      <td>0.0</td>\n",
       "      <td>0.0417</td>\n",
       "      <td>127.802</td>\n",
       "      <td>0.071</td>\n",
       "      <td>0</td>\n",
       "      <td>0</td>\n",
       "      <td>1</td>\n",
       "      <td>0</td>\n",
       "      <td>0</td>\n",
       "      <td>0</td>\n",
       "      <td>0</td>\n",
       "      <td>0</td>\n",
       "      <td>0</td>\n",
       "      <td>0</td>\n",
       "      <td>0</td>\n",
       "      <td>1</td>\n",
       "      <td>0</td>\n",
       "      <td>0</td>\n",
       "      <td>0</td>\n",
       "      <td>0</td>\n",
       "      <td>7</td>\n",
       "    </tr>\n",
       "    <tr>\n",
       "      <th>4</th>\n",
       "      <td>0.028800</td>\n",
       "      <td>0.675</td>\n",
       "      <td>231133.0</td>\n",
       "      <td>0.760</td>\n",
       "      <td>0.000022</td>\n",
       "      <td>0.0585</td>\n",
       "      <td>-4.435</td>\n",
       "      <td>1.0</td>\n",
       "      <td>0.0513</td>\n",
       "      <td>109.619</td>\n",
       "      <td>0.611</td>\n",
       "      <td>0</td>\n",
       "      <td>0</td>\n",
       "      <td>1</td>\n",
       "      <td>0</td>\n",
       "      <td>0</td>\n",
       "      <td>0</td>\n",
       "      <td>0</td>\n",
       "      <td>0</td>\n",
       "      <td>0</td>\n",
       "      <td>0</td>\n",
       "      <td>0</td>\n",
       "      <td>1</td>\n",
       "      <td>0</td>\n",
       "      <td>0</td>\n",
       "      <td>0</td>\n",
       "      <td>0</td>\n",
       "      <td>4</td>\n",
       "    </tr>\n",
       "  </tbody>\n",
       "</table>\n",
       "</div>"
      ],
      "text/plain": [
       "   acousticness  danceability  duration_ms  energy  instrumentalness  liveness  loudness  mode_feat  speechiness    tempo  valence  time_signature_1.0  time_signature_3.0  time_signature_4.0  time_signature_5.0  key_0.0  key_1.0  key_2.0  key_3.0  key_4.0  key_5.0  key_6.0  key_7.0  key_8.0  key_9.0  key_10.0  key_11.0  target\n",
       "0      0.620000         0.465     146494.0   0.469          0.000000    0.1180    -4.256        1.0       0.0319   69.220    0.518                   0                   0                   1                   0        0        0        0        0        0        0        0        1        0        0         0         0       7\n",
       "1      0.005980         0.489     211885.0   0.641          0.020100    0.1220    -7.011        0.0       0.0320  108.901    0.587                   0                   0                   1                   0        0        0        0        0        0        0        0        0        0        0         0         1       1\n",
       "2      0.249000         0.594     283733.0   0.635          0.000000    0.4540    -4.259        0.0       0.4700   75.035    0.552                   0                   0                   1                   0        0        0        0        0        1        0        0        0        0        0         0         0       2\n",
       "3      0.000667         0.674     191250.0   0.869          0.604000    0.0651    -4.758        0.0       0.0417  127.802    0.071                   0                   0                   1                   0        0        0        0        0        0        0        0        1        0        0         0         0       7\n",
       "4      0.028800         0.675     231133.0   0.760          0.000022    0.0585    -4.435        1.0       0.0513  109.619    0.611                   0                   0                   1                   0        0        0        0        0        0        0        0        1        0        0         0         0       4"
      ]
     },
     "execution_count": 1,
     "metadata": {},
     "output_type": "execute_result"
    }
   ],
   "source": [
    "import pandas as pd\n",
    "import numpy as np\n",
    "\n",
    "import warnings\n",
    "warnings.filterwarnings('ignore')\n",
    "\n",
    "pd.set_option('display.max_rows', 50)\n",
    "pd.set_option('display.max_columns', 300)\n",
    "pd.set_option('display.width', 1000)\n",
    "\n",
    "# Import data to Pandas DataFrame\n",
    "train = pd.read_csv('data/train.csv')\n",
    "test = pd.read_csv('data/test.csv')\n",
    "test_final = pd.read_csv('data/test_final.csv')\n",
    "\n",
    "# Split X & y for train, test, and test_final\n",
    "X_train = train.drop('target', axis=1)\n",
    "y_train = train['target']\n",
    "\n",
    "X_test = test.drop('target', axis=1)\n",
    "y_test = test['target']\n",
    "\n",
    "X_test_final = test_final.drop('target', axis=1)\n",
    "y_test_final = test_final['target']\n",
    "\n",
    "# Preivew data\n",
    "print(train.info())\n",
    "train.head()"
   ]
  },
  {
   "cell_type": "markdown",
   "metadata": {},
   "source": [
    "### Scale Train & Test Data"
   ]
  },
  {
   "cell_type": "code",
   "execution_count": 2,
   "metadata": {
    "ExecuteTime": {
     "end_time": "2019-11-04T19:29:43.550954Z",
     "start_time": "2019-11-04T19:29:42.600619Z"
    }
   },
   "outputs": [],
   "source": [
    "# Standardize with MinMax Scaler\n",
    "from sklearn.preprocessing import MinMaxScaler\n",
    "min_max_scaler = MinMaxScaler()\n",
    "X_train_mmscaled = min_max_scaler.fit_transform(X_train)\n",
    "X_test_mmscaled = min_max_scaler.transform(X_test)"
   ]
  },
  {
   "cell_type": "markdown",
   "metadata": {},
   "source": [
    "### Fit KNN Model"
   ]
  },
  {
   "cell_type": "code",
   "execution_count": 3,
   "metadata": {
    "ExecuteTime": {
     "end_time": "2019-11-03T18:38:02.182571Z",
     "start_time": "2019-11-03T18:37:57.841513Z"
    }
   },
   "outputs": [
    {
     "name": "stdout",
     "output_type": "stream",
     "text": [
      "Accuracy Score: 0.5868601658564484\n",
      "Accuracy Score: 0.4143551615670575\n"
     ]
    }
   ],
   "source": [
    "# Fit KNN Model\n",
    "from sklearn.neighbors import KNeighborsClassifier\n",
    "\n",
    "knn1 = KNeighborsClassifier()\n",
    "knn1.fit(X_train_mmscaled, y_train)\n",
    "knn1_train_preds = knn1.predict(X_train_mmscaled)\n",
    "knn1_test_preds = knn1.predict(X_test_mmscaled)\n",
    "\n",
    "# Print metrics\n",
    "from sklearn.metrics import precision_score, recall_score, accuracy_score, f1_score\n",
    "def print_metrics(labels, preds):\n",
    "    print(\"Accuracy Score: {}\".format(accuracy_score(labels, preds)))\n",
    "\n",
    "print_metrics(y_train, knn1_train_preds)\n",
    "print_metrics(y_test, knn1_test_preds)"
   ]
  },
  {
   "cell_type": "markdown",
   "metadata": {},
   "source": [
    "### Find Best K by Accuracy"
   ]
  },
  {
   "cell_type": "code",
   "execution_count": 4,
   "metadata": {
    "ExecuteTime": {
     "end_time": "2019-11-03T18:39:03.556305Z",
     "start_time": "2019-11-03T18:38:02.184128Z"
    }
   },
   "outputs": [
    {
     "name": "stdout",
     "output_type": "stream",
     "text": [
      "Best Value for k: 27\n",
      "Accuracy: 0.44895624821275376\n"
     ]
    }
   ],
   "source": [
    "# Find best K to improve model performance (by Accuracy)\n",
    "def find_best_k_acc(X_train, y_train, X_test, y_test, min_k=1, max_k=50):\n",
    "    best_k = 0\n",
    "    best_score = 0.0\n",
    "    for k in range(min_k, max_k+1):\n",
    "        knn = KNeighborsClassifier(n_neighbors=k)\n",
    "        knn.fit(X_train, y_train)\n",
    "        preds = knn.predict(X_test)\n",
    "        acc = accuracy_score(y_test, preds)\n",
    "        if acc > best_score:\n",
    "            best_k = k\n",
    "            best_score = acc\n",
    "    \n",
    "    print(\"Best Value for k: {}\".format(best_k))\n",
    "    print(\"Accuracy: {}\".format(best_score))\n",
    "\n",
    "find_best_k_acc(X_train_mmscaled, y_train, X_test_mmscaled, y_test)"
   ]
  },
  {
   "cell_type": "markdown",
   "metadata": {},
   "source": [
    "### Fit KNN Model w/ Optimized K=27"
   ]
  },
  {
   "cell_type": "code",
   "execution_count": 5,
   "metadata": {
    "ExecuteTime": {
     "end_time": "2019-11-03T18:39:09.529128Z",
     "start_time": "2019-11-03T18:39:03.558823Z"
    }
   },
   "outputs": [
    {
     "name": "stdout",
     "output_type": "stream",
     "text": [
      "Accuracy Score: 0.4845581927366314\n",
      "Accuracy Score: 0.44895624821275376\n"
     ]
    }
   ],
   "source": [
    "# Fit KNN Model\n",
    "from sklearn.neighbors import KNeighborsClassifier\n",
    "\n",
    "knn2 = KNeighborsClassifier(n_neighbors=27)\n",
    "knn2.fit(X_train_mmscaled, y_train)\n",
    "knn2_train_preds = knn2.predict(X_train_mmscaled)\n",
    "knn2_test_preds = knn2.predict(X_test_mmscaled)\n",
    "\n",
    "# Print Accuracy\n",
    "from sklearn.metrics import precision_score, recall_score, accuracy_score, f1_score\n",
    "def print_metrics(labels, preds):\n",
    "    print(\"Accuracy Score: {}\".format(accuracy_score(labels, preds)))\n",
    "    \n",
    "print_metrics(y_train, knn2_train_preds)\n",
    "print_metrics(y_test, knn2_test_preds)"
   ]
  },
  {
   "cell_type": "markdown",
   "metadata": {},
   "source": [
    "### Omit Key and Time Signature Features from X"
   ]
  },
  {
   "cell_type": "code",
   "execution_count": 3,
   "metadata": {
    "ExecuteTime": {
     "end_time": "2019-11-04T19:29:46.429556Z",
     "start_time": "2019-11-04T19:29:46.385756Z"
    }
   },
   "outputs": [
    {
     "name": "stdout",
     "output_type": "stream",
     "text": [
      "<class 'pandas.core.frame.DataFrame'>\n",
      "RangeIndex: 13988 entries, 0 to 13987\n",
      "Data columns (total 9 columns):\n",
      "acousticness        13988 non-null float64\n",
      "danceability        13988 non-null float64\n",
      "duration_ms         13988 non-null float64\n",
      "energy              13988 non-null float64\n",
      "instrumentalness    13988 non-null float64\n",
      "loudness            13988 non-null float64\n",
      "speechiness         13988 non-null float64\n",
      "tempo               13988 non-null float64\n",
      "valence             13988 non-null float64\n",
      "dtypes: float64(9)\n",
      "memory usage: 983.6 KB\n",
      "None\n"
     ]
    },
    {
     "data": {
      "text/html": [
       "<div>\n",
       "<style scoped>\n",
       "    .dataframe tbody tr th:only-of-type {\n",
       "        vertical-align: middle;\n",
       "    }\n",
       "\n",
       "    .dataframe tbody tr th {\n",
       "        vertical-align: top;\n",
       "    }\n",
       "\n",
       "    .dataframe thead th {\n",
       "        text-align: right;\n",
       "    }\n",
       "</style>\n",
       "<table border=\"1\" class=\"dataframe\">\n",
       "  <thead>\n",
       "    <tr style=\"text-align: right;\">\n",
       "      <th></th>\n",
       "      <th>acousticness</th>\n",
       "      <th>danceability</th>\n",
       "      <th>duration_ms</th>\n",
       "      <th>energy</th>\n",
       "      <th>instrumentalness</th>\n",
       "      <th>loudness</th>\n",
       "      <th>speechiness</th>\n",
       "      <th>tempo</th>\n",
       "      <th>valence</th>\n",
       "    </tr>\n",
       "  </thead>\n",
       "  <tbody>\n",
       "    <tr>\n",
       "      <th>0</th>\n",
       "      <td>0.620000</td>\n",
       "      <td>0.465</td>\n",
       "      <td>146494.0</td>\n",
       "      <td>0.469</td>\n",
       "      <td>0.000000</td>\n",
       "      <td>-4.256</td>\n",
       "      <td>0.0319</td>\n",
       "      <td>69.220</td>\n",
       "      <td>0.518</td>\n",
       "    </tr>\n",
       "    <tr>\n",
       "      <th>1</th>\n",
       "      <td>0.005980</td>\n",
       "      <td>0.489</td>\n",
       "      <td>211885.0</td>\n",
       "      <td>0.641</td>\n",
       "      <td>0.020100</td>\n",
       "      <td>-7.011</td>\n",
       "      <td>0.0320</td>\n",
       "      <td>108.901</td>\n",
       "      <td>0.587</td>\n",
       "    </tr>\n",
       "    <tr>\n",
       "      <th>2</th>\n",
       "      <td>0.249000</td>\n",
       "      <td>0.594</td>\n",
       "      <td>283733.0</td>\n",
       "      <td>0.635</td>\n",
       "      <td>0.000000</td>\n",
       "      <td>-4.259</td>\n",
       "      <td>0.4700</td>\n",
       "      <td>75.035</td>\n",
       "      <td>0.552</td>\n",
       "    </tr>\n",
       "    <tr>\n",
       "      <th>3</th>\n",
       "      <td>0.000667</td>\n",
       "      <td>0.674</td>\n",
       "      <td>191250.0</td>\n",
       "      <td>0.869</td>\n",
       "      <td>0.604000</td>\n",
       "      <td>-4.758</td>\n",
       "      <td>0.0417</td>\n",
       "      <td>127.802</td>\n",
       "      <td>0.071</td>\n",
       "    </tr>\n",
       "    <tr>\n",
       "      <th>4</th>\n",
       "      <td>0.028800</td>\n",
       "      <td>0.675</td>\n",
       "      <td>231133.0</td>\n",
       "      <td>0.760</td>\n",
       "      <td>0.000022</td>\n",
       "      <td>-4.435</td>\n",
       "      <td>0.0513</td>\n",
       "      <td>109.619</td>\n",
       "      <td>0.611</td>\n",
       "    </tr>\n",
       "  </tbody>\n",
       "</table>\n",
       "</div>"
      ],
      "text/plain": [
       "   acousticness  danceability  duration_ms  energy  instrumentalness  loudness  speechiness    tempo  valence\n",
       "0      0.620000         0.465     146494.0   0.469          0.000000    -4.256       0.0319   69.220    0.518\n",
       "1      0.005980         0.489     211885.0   0.641          0.020100    -7.011       0.0320  108.901    0.587\n",
       "2      0.249000         0.594     283733.0   0.635          0.000000    -4.259       0.4700   75.035    0.552\n",
       "3      0.000667         0.674     191250.0   0.869          0.604000    -4.758       0.0417  127.802    0.071\n",
       "4      0.028800         0.675     231133.0   0.760          0.000022    -4.435       0.0513  109.619    0.611"
      ]
     },
     "execution_count": 3,
     "metadata": {},
     "output_type": "execute_result"
    }
   ],
   "source": [
    "# Split X & y for train, test, and test_final\n",
    "# Omit columns related to time signature and \n",
    "X2_train = train.drop(['target', 'mode_feat', 'liveness', 'time_signature_1.0', 'time_signature_3.0', 'time_signature_4.0', 'time_signature_5.0', 'key_0.0', 'key_1.0', 'key_2.0', 'key_3.0', 'key_4.0', 'key_5.0', 'key_6.0', 'key_7.0', 'key_8.0', 'key_9.0', 'key_10.0', 'key_11.0'], axis=1)\n",
    "y2_train = train['target']\n",
    "\n",
    "X2_test = test.drop(['target', 'mode_feat', 'liveness', 'time_signature_1.0', 'time_signature_3.0', 'time_signature_4.0', 'time_signature_5.0', 'key_0.0', 'key_1.0', 'key_2.0', 'key_3.0', 'key_4.0', 'key_5.0', 'key_6.0', 'key_7.0', 'key_8.0', 'key_9.0', 'key_10.0', 'key_11.0'], axis=1)\n",
    "y2_test = test['target']\n",
    "\n",
    "X2_test_final = test_final.drop(['target', 'mode_feat', 'liveness', 'time_signature_1.0', 'time_signature_3.0', 'time_signature_4.0', 'time_signature_5.0', 'key_0.0', 'key_1.0', 'key_2.0', 'key_3.0', 'key_4.0', 'key_5.0', 'key_6.0', 'key_7.0', 'key_8.0', 'key_9.0', 'key_10.0', 'key_11.0'], axis=1)\n",
    "y2_test_final = test_final['target']\n",
    "\n",
    "# Preivew data\n",
    "print(X2_train.info())\n",
    "X2_train.head()"
   ]
  },
  {
   "cell_type": "markdown",
   "metadata": {},
   "source": [
    "### Scale Train & Test Data"
   ]
  },
  {
   "cell_type": "code",
   "execution_count": 4,
   "metadata": {
    "ExecuteTime": {
     "end_time": "2019-11-04T19:29:49.090174Z",
     "start_time": "2019-11-04T19:29:49.079376Z"
    }
   },
   "outputs": [],
   "source": [
    "# Standardize with MinMax Scaler\n",
    "from sklearn.preprocessing import MinMaxScaler\n",
    "min_max_scaler = MinMaxScaler()\n",
    "X2_train_mmscaled = min_max_scaler.fit_transform(X2_train)\n",
    "X2_test_mmscaled = min_max_scaler.transform(X2_test)"
   ]
  },
  {
   "cell_type": "markdown",
   "metadata": {},
   "source": [
    "### Fit KNN Model"
   ]
  },
  {
   "cell_type": "code",
   "execution_count": 5,
   "metadata": {
    "ExecuteTime": {
     "end_time": "2019-11-04T19:29:54.699436Z",
     "start_time": "2019-11-04T19:29:52.934464Z"
    }
   },
   "outputs": [
    {
     "name": "stdout",
     "output_type": "stream",
     "text": [
      "Accuracy Score: 0.614097798112668\n",
      "Accuracy Score: 0.4566771518444381\n"
     ]
    }
   ],
   "source": [
    "# Fit KNN Model\n",
    "from sklearn.neighbors import KNeighborsClassifier\n",
    "\n",
    "knn3 = KNeighborsClassifier()\n",
    "knn3.fit(X2_train_mmscaled, y2_train)\n",
    "knn3_train_preds = knn3.predict(X2_train_mmscaled)\n",
    "knn3_test_preds = knn3.predict(X2_test_mmscaled)\n",
    "\n",
    "# Print metrics\n",
    "from sklearn.metrics import precision_score, recall_score, accuracy_score, f1_score\n",
    "def print_metrics(labels, preds):\n",
    "    print(\"Accuracy Score: {}\".format(accuracy_score(labels, preds)))\n",
    "\n",
    "print_metrics(y2_train, knn3_train_preds)\n",
    "print_metrics(y2_test, knn3_test_preds)"
   ]
  },
  {
   "cell_type": "markdown",
   "metadata": {},
   "source": [
    "### Find Best K by Accuracy"
   ]
  },
  {
   "cell_type": "code",
   "execution_count": 6,
   "metadata": {
    "ExecuteTime": {
     "end_time": "2019-11-04T19:30:24.035790Z",
     "start_time": "2019-11-04T19:29:55.622850Z"
    }
   },
   "outputs": [
    {
     "name": "stdout",
     "output_type": "stream",
     "text": [
      "Best Value for k: 26\n",
      "Accuracy: 0.5038604518158422\n"
     ]
    }
   ],
   "source": [
    "# Find best K to improve model performance (by Accuracy)\n",
    "def find_best_k_acc(X2_train, y2_train, X2_test, y2_test, min_k=1, max_k=50):\n",
    "    best_k = 0\n",
    "    best_score = 0.0\n",
    "    for k in range(min_k, max_k+1):\n",
    "        knn = KNeighborsClassifier(n_neighbors=k)\n",
    "        knn.fit(X2_train, y2_train)\n",
    "        preds = knn.predict(X2_test)\n",
    "        acc = accuracy_score(y2_test, preds)\n",
    "        if acc > best_score:\n",
    "            best_k = k\n",
    "            best_score = acc\n",
    "    \n",
    "    print(\"Best Value for k: {}\".format(best_k))\n",
    "    print(\"Accuracy: {}\".format(best_score))\n",
    "\n",
    "find_best_k_acc(X2_train_mmscaled, y2_train, X2_test_mmscaled, y2_test)"
   ]
  },
  {
   "cell_type": "markdown",
   "metadata": {},
   "source": [
    "### Fit KNN Model w/ Optimized K=26"
   ]
  },
  {
   "cell_type": "code",
   "execution_count": 7,
   "metadata": {
    "ExecuteTime": {
     "end_time": "2019-11-04T19:30:26.792834Z",
     "start_time": "2019-11-04T19:30:24.038700Z"
    }
   },
   "outputs": [
    {
     "name": "stdout",
     "output_type": "stream",
     "text": [
      "Accuracy Score: 0.5288104089219331\n",
      "Accuracy Score: 0.5038604518158422\n"
     ]
    }
   ],
   "source": [
    "# Fit KNN Model\n",
    "from sklearn.neighbors import KNeighborsClassifier\n",
    "\n",
    "knn4 = KNeighborsClassifier(n_neighbors=26)\n",
    "knn4.fit(X2_train_mmscaled, y2_train)\n",
    "knn4_train_preds = knn4.predict(X2_train_mmscaled)\n",
    "knn4_test_preds = knn4.predict(X2_test_mmscaled)\n",
    "\n",
    "# Print Accur\n",
    "from sklearn.metrics import precision_score, recall_score, accuracy_score, f1_score\n",
    "def print_metrics(labels, preds):\n",
    "    print(\"Accuracy Score: {}\".format(accuracy_score(labels, preds)))\n",
    "\n",
    "print_metrics(y2_train, knn4_train_preds)\n",
    "print_metrics(y2_test, knn4_test_preds)"
   ]
  },
  {
   "cell_type": "markdown",
   "metadata": {},
   "source": [
    "### Integrating PCA"
   ]
  },
  {
   "cell_type": "code",
   "execution_count": 55,
   "metadata": {
    "ExecuteTime": {
     "end_time": "2019-11-04T18:50:44.763137Z",
     "start_time": "2019-11-04T18:50:44.367380Z"
    }
   },
   "outputs": [
    {
     "name": "stdout",
     "output_type": "stream",
     "text": [
      "n_component=16, variance =0.9121079282126102\n"
     ]
    }
   ],
   "source": [
    "from sklearn.decomposition import PCA\n",
    "def find_PCA_components(X,n_start=2,target=0.8,skip=1):\n",
    "    curr_target = 0\n",
    "    n = n_start\n",
    "    while curr_target < target:\n",
    "        pca = PCA(n_components=n)\n",
    "        transformed = pca.fit_transform(X)\n",
    "        curr_target = np.sum(pca.explained_variance_ratio_)\n",
    "        n += skip\n",
    "    print(f\"n_component={n}, variance ={curr_target}\")\n",
    "find_PCA_components(X_train_mmscaled,n_start=2,target=0.9,skip=1)"
   ]
  },
  {
   "cell_type": "code",
   "execution_count": 63,
   "metadata": {
    "ExecuteTime": {
     "end_time": "2019-11-04T18:52:31.620435Z",
     "start_time": "2019-11-04T18:52:31.574212Z"
    }
   },
   "outputs": [],
   "source": [
    "pca = PCA(n_components=16)\n",
    "X_train_transformed = pca.fit_transform(X_train_mmscaled)\n",
    "X_test_transformed = pca.fit_transform(X_test_mmscaled)"
   ]
  },
  {
   "cell_type": "code",
   "execution_count": 64,
   "metadata": {
    "ExecuteTime": {
     "end_time": "2019-11-04T18:52:33.974536Z",
     "start_time": "2019-11-04T18:52:32.253313Z"
    }
   },
   "outputs": [
    {
     "name": "stdout",
     "output_type": "stream",
     "text": [
      "Accuracy Score: 0.4275092936802974\n",
      "Accuracy Score: 0.3068344295110094\n"
     ]
    }
   ],
   "source": [
    "# Fit KNN Model\n",
    "from sklearn.neighbors import KNeighborsClassifier\n",
    "\n",
    "knn5 = KNeighborsClassifier(n_neighbors=26)\n",
    "knn5.fit(X_train_transformed, y_train)\n",
    "knn5_train_preds = knn5.predict(X_train_transformed)\n",
    "knn5_test_preds = knn5.predict(X_test_transformed)\n",
    "\n",
    "# Print Accur\n",
    "from sklearn.metrics import precision_score, recall_score, accuracy_score, f1_score\n",
    "def print_metrics(labels, preds):\n",
    "    print(\"Accuracy Score: {}\".format(accuracy_score(labels, preds)))\n",
    "\n",
    "print_metrics(y_train, knn5_train_preds)\n",
    "print_metrics(y_test, knn5_test_preds)"
   ]
  },
  {
   "cell_type": "markdown",
   "metadata": {},
   "source": [
    "### PCA -features"
   ]
  },
  {
   "cell_type": "code",
   "execution_count": 58,
   "metadata": {
    "ExecuteTime": {
     "end_time": "2019-11-04T18:50:51.144659Z",
     "start_time": "2019-11-04T18:50:51.101801Z"
    }
   },
   "outputs": [
    {
     "name": "stdout",
     "output_type": "stream",
     "text": [
      "n_component=5, variance =0.8310453663005559\n"
     ]
    }
   ],
   "source": [
    "from sklearn.decomposition import PCA\n",
    "def find_PCA_components(X,n_start=2,target=0.8,skip=1):\n",
    "    curr_target = 0\n",
    "    n = n_start\n",
    "    while curr_target < target:\n",
    "        pca = PCA(n_components=n)\n",
    "        transformed = pca.fit_transform(X)\n",
    "        curr_target = np.sum(pca.explained_variance_ratio_)\n",
    "        n += skip\n",
    "    print(f\"n_component={n}, variance ={curr_target}\")\n",
    "find_PCA_components(X2_train_mmscaled,n_start=2,target=0.8,skip=1)"
   ]
  },
  {
   "cell_type": "code",
   "execution_count": 65,
   "metadata": {
    "ExecuteTime": {
     "end_time": "2019-11-04T18:52:46.078295Z",
     "start_time": "2019-11-04T18:52:46.056768Z"
    }
   },
   "outputs": [],
   "source": [
    "pca = PCA(n_components=5)\n",
    "X2_train_transformed = pca.fit_transform(X2_train_mmscaled)\n",
    "X2_test_transformed = pca.fit_transform(X2_test_mmscaled)"
   ]
  },
  {
   "cell_type": "code",
   "execution_count": 66,
   "metadata": {
    "ExecuteTime": {
     "end_time": "2019-11-04T18:52:50.289016Z",
     "start_time": "2019-11-04T18:52:49.463799Z"
    }
   },
   "outputs": [
    {
     "name": "stdout",
     "output_type": "stream",
     "text": [
      "Accuracy Score: 0.4623248498713183\n",
      "Accuracy Score: 0.27766657134686873\n"
     ]
    }
   ],
   "source": [
    "# Fit KNN Model\n",
    "from sklearn.neighbors import KNeighborsClassifier\n",
    "\n",
    "knn6 = KNeighborsClassifier(n_neighbors=26)\n",
    "knn6.fit(X2_train_transformed, y2_train)\n",
    "knn6_train_preds = knn6.predict(X2_train_transformed)\n",
    "knn6_test_preds = knn6.predict(X2_test_transformed)\n",
    "\n",
    "# Print Accur\n",
    "from sklearn.metrics import precision_score, recall_score, accuracy_score, f1_score\n",
    "def print_metrics(labels, preds):\n",
    "    print(\"Accuracy Score: {}\".format(accuracy_score(labels, preds)))\n",
    "\n",
    "print_metrics(y2_train, knn6_train_preds)\n",
    "print_metrics(y2_test, knn6_test_preds)"
   ]
  },
  {
   "cell_type": "code",
   "execution_count": null,
   "metadata": {},
   "outputs": [],
   "source": []
  }
 ],
 "metadata": {
  "kernelspec": {
   "display_name": "Python 3",
   "language": "python",
   "name": "python3"
  },
  "language_info": {
   "codemirror_mode": {
    "name": "ipython",
    "version": 3
   },
   "file_extension": ".py",
   "mimetype": "text/x-python",
   "name": "python",
   "nbconvert_exporter": "python",
   "pygments_lexer": "ipython3",
   "version": "3.7.3"
  },
  "toc": {
   "base_numbering": 1,
   "nav_menu": {},
   "number_sections": true,
   "sideBar": true,
   "skip_h1_title": false,
   "title_cell": "Table of Contents",
   "title_sidebar": "Contents",
   "toc_cell": false,
   "toc_position": {
    "height": "calc(100% - 180px)",
    "left": "10px",
    "top": "150px",
    "width": "261.634px"
   },
   "toc_section_display": true,
   "toc_window_display": false
  }
 },
 "nbformat": 4,
 "nbformat_minor": 2
}
