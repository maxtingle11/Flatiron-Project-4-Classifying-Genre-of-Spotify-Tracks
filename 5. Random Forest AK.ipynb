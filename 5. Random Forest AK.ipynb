{
 "cells": [
  {
   "cell_type": "code",
   "execution_count": 1,
   "metadata": {
    "ExecuteTime": {
     "end_time": "2019-11-01T19:57:02.478725Z",
     "start_time": "2019-11-01T19:57:01.996162Z"
    }
   },
   "outputs": [],
   "source": [
    "import pandas as pd\n",
    "import numpy as np\n",
    "import warnings\n",
    "\n",
    "warnings.filterwarnings('ignore')\n",
    "\n",
    "pd.set_option('display.max_rows', 50)\n",
    "pd.set_option('display.max_columns', 100)\n",
    "pd.set_option('display.width', 1000)"
   ]
  },
  {
   "cell_type": "code",
   "execution_count": 2,
   "metadata": {
    "ExecuteTime": {
     "end_time": "2019-11-01T19:57:02.687388Z",
     "start_time": "2019-11-01T19:57:02.481021Z"
    }
   },
   "outputs": [
    {
     "name": "stdout",
     "output_type": "stream",
     "text": [
      "<class 'pandas.core.frame.DataFrame'>\n",
      "RangeIndex: 15986 entries, 0 to 15985\n",
      "Data columns (total 27 columns):\n",
      "acousticness          15986 non-null float64\n",
      "danceability          15986 non-null float64\n",
      "duration_ms           15986 non-null float64\n",
      "energy                15986 non-null float64\n",
      "instrumentalness      15986 non-null float64\n",
      "liveness              15986 non-null float64\n",
      "loudness              15986 non-null float64\n",
      "mode_feat             15986 non-null float64\n",
      "speechiness           15986 non-null float64\n",
      "tempo                 15986 non-null float64\n",
      "valence               15986 non-null float64\n",
      "time_signature_1.0    15986 non-null int64\n",
      "time_signature_3.0    15986 non-null int64\n",
      "time_signature_4.0    15986 non-null int64\n",
      "time_signature_5.0    15986 non-null int64\n",
      "key_0.0               15986 non-null int64\n",
      "key_1.0               15986 non-null int64\n",
      "key_2.0               15986 non-null int64\n",
      "key_3.0               15986 non-null int64\n",
      "key_4.0               15986 non-null int64\n",
      "key_5.0               15986 non-null int64\n",
      "key_6.0               15986 non-null int64\n",
      "key_7.0               15986 non-null int64\n",
      "key_8.0               15986 non-null int64\n",
      "key_9.0               15986 non-null int64\n",
      "key_10.0              15986 non-null int64\n",
      "key_11.0              15986 non-null int64\n",
      "dtypes: float64(11), int64(16)\n",
      "memory usage: 3.3 MB\n",
      "None\n"
     ]
    }
   ],
   "source": [
    "# Import data to Pandas DataFrame\n",
    "train = pd.read_csv('data/train.csv')\n",
    "test = pd.read_csv('data/test.csv')\n",
    "test_final = pd.read_csv('data/test_final.csv')\n",
    "\n",
    "X_train = train.drop('target', axis=1)\n",
    "y_train = train['target']\n",
    "\n",
    "X_test = test.drop('target', axis=1)\n",
    "y_test = test['target']\n",
    "\n",
    "X_test_final = test_final.drop('target', axis=1)\n",
    "y_test_final = test_final['target']\n",
    "\n",
    "# Preview data\n",
    "print(X_train.info())"
   ]
  },
  {
   "cell_type": "markdown",
   "metadata": {},
   "source": [
    "Performing Random Forest: \n",
    "1. We do not need to normalize data \n",
    "2. We need to somewhat balance the class distributions, we will do this using undersampling\n",
    "3. "
   ]
  },
  {
   "cell_type": "markdown",
   "metadata": {},
   "source": [
    "## Create a tree classifier as a baseline "
   ]
  },
  {
   "cell_type": "code",
   "execution_count": 4,
   "metadata": {
    "ExecuteTime": {
     "end_time": "2019-11-01T19:59:37.238546Z",
     "start_time": "2019-11-01T19:59:36.593892Z"
    }
   },
   "outputs": [
    {
     "name": "stdout",
     "output_type": "stream",
     "text": [
      "[[  10  615  273  251   24  558  101  166]\n",
      " [   1 1171  380   70   15  537   24  308]\n",
      " [   0  369 1920   10   24  130    3  176]\n",
      " [   0  236   74  991   33  398   93   77]\n",
      " [   1  437  318  126   62  359   71  205]\n",
      " [   3  313   47  151   15 1081  128  109]\n",
      " [   4  308   69   98   25  522  215  110]\n",
      " [   4  377  275   13    6  503   43  950]]\n",
      "              precision    recall  f1-score   support\n",
      "\n",
      "           0       0.43      0.01      0.01      1998\n",
      "           1       0.31      0.47      0.37      2506\n",
      "           2       0.57      0.73      0.64      2632\n",
      "           3       0.58      0.52      0.55      1902\n",
      "           4       0.30      0.04      0.07      1579\n",
      "           5       0.26      0.59      0.36      1847\n",
      "           6       0.32      0.16      0.21      1351\n",
      "           7       0.45      0.44      0.44      2171\n",
      "\n",
      "    accuracy                           0.40     15986\n",
      "   macro avg       0.40      0.37      0.33     15986\n",
      "weighted avg       0.41      0.40      0.36     15986\n",
      "\n"
     ]
    }
   ],
   "source": [
    "from sklearn.tree import DecisionTreeClassifier\n",
    "from sklearn.metrics import accuracy_score, confusion_matrix, classification_report\n",
    "\n",
    "tree_clf = DecisionTreeClassifier(criterion = \"gini\", max_depth = 5) \n",
    "tree_clf.fit(X_train, y_train)\n",
    "\n",
    "pred = tree_clf.predict(X_train)\n",
    "print(confusion_matrix(y_train, pred))\n",
    "print(classification_report(y_train, pred))"
   ]
  },
  {
   "cell_type": "code",
   "execution_count": 6,
   "metadata": {
    "ExecuteTime": {
     "end_time": "2019-11-01T20:00:20.461760Z",
     "start_time": "2019-11-01T20:00:20.229559Z"
    }
   },
   "outputs": [
    {
     "data": {
      "image/png": "[encoded data removed]",
      "text/plain": [
       "<Figure size 576x576 with 1 Axes>"
      ]
     },
     "metadata": {
      "needs_background": "light"
     },
     "output_type": "display_data"
    }
   ],
   "source": [
    "import matplotlib.pyplot as plt\n",
    "\n",
    "def plot_feature_importances(model):\n",
    "    n_features = X_train.shape[1]\n",
    "    plt.figure(figsize=(8,8))\n",
    "    plt.barh(range(n_features), model.feature_importances_, align='center') \n",
    "    plt.yticks(np.arange(n_features), X_train.columns.values) \n",
    "    plt.xlabel(\"Feature importance\")\n",
    "    plt.ylabel(\"Feature\")\n",
    "\n",
    "plot_feature_importances(tree_clf);"
   ]
  },
  {
   "cell_type": "markdown",
   "metadata": {},
   "source": [
    "## Random Forest"
   ]
  },
  {
   "cell_type": "code",
   "execution_count": 7,
   "metadata": {
    "ExecuteTime": {
     "end_time": "2019-11-01T20:00:25.829449Z",
     "start_time": "2019-11-01T20:00:25.826849Z"
    }
   },
   "outputs": [],
   "source": [
    "classes = ['others','dancepop','poprap','folkpop', 'electropop','poprock', 'indiepop','popedm']"
   ]
  },
  {
   "cell_type": "code",
   "execution_count": 12,
   "metadata": {
    "ExecuteTime": {
     "end_time": "2019-11-01T20:11:05.104601Z",
     "start_time": "2019-11-01T20:11:04.487899Z"
    },
    "scrolled": true
   },
   "outputs": [
    {
     "name": "stdout",
     "output_type": "stream",
     "text": [
      "              precision    recall  f1-score   support\n",
      "\n",
      "           0       0.51      0.08      0.14      1998\n",
      "           1       0.40      0.37      0.38      2506\n",
      "           2       0.66      0.74      0.70      2632\n",
      "           3       0.49      0.67      0.57      1902\n",
      "           4       0.31      0.24      0.27      1579\n",
      "           5       0.36      0.48      0.41      1847\n",
      "           6       0.31      0.35      0.33      1351\n",
      "           7       0.49      0.58      0.53      2171\n",
      "\n",
      "    accuracy                           0.46     15986\n",
      "   macro avg       0.44      0.44      0.42     15986\n",
      "weighted avg       0.46      0.46      0.43     15986\n",
      "\n"
     ]
    },
    {
     "data": {
      "text/html": [
       "<div>\n",
       "<style scoped>\n",
       "    .dataframe tbody tr th:only-of-type {\n",
       "        vertical-align: middle;\n",
       "    }\n",
       "\n",
       "    .dataframe tbody tr th {\n",
       "        vertical-align: top;\n",
       "    }\n",
       "\n",
       "    .dataframe thead th {\n",
       "        text-align: right;\n",
       "    }\n",
       "</style>\n",
       "<table border=\"1\" class=\"dataframe\">\n",
       "  <thead>\n",
       "    <tr style=\"text-align: right;\">\n",
       "      <th></th>\n",
       "      <th>others</th>\n",
       "      <th>dancepop</th>\n",
       "      <th>poprap</th>\n",
       "      <th>folkpop</th>\n",
       "      <th>electropop</th>\n",
       "      <th>poprock</th>\n",
       "      <th>indiepop</th>\n",
       "      <th>popedm</th>\n",
       "    </tr>\n",
       "  </thead>\n",
       "  <tbody>\n",
       "    <tr>\n",
       "      <th>actual others</th>\n",
       "      <td>166</td>\n",
       "      <td>356</td>\n",
       "      <td>230</td>\n",
       "      <td>402</td>\n",
       "      <td>129</td>\n",
       "      <td>336</td>\n",
       "      <td>184</td>\n",
       "      <td>195</td>\n",
       "    </tr>\n",
       "    <tr>\n",
       "      <th>actual dancepop</th>\n",
       "      <td>51</td>\n",
       "      <td>931</td>\n",
       "      <td>331</td>\n",
       "      <td>182</td>\n",
       "      <td>166</td>\n",
       "      <td>375</td>\n",
       "      <td>79</td>\n",
       "      <td>391</td>\n",
       "    </tr>\n",
       "    <tr>\n",
       "      <th>actual poprap</th>\n",
       "      <td>14</td>\n",
       "      <td>289</td>\n",
       "      <td>1955</td>\n",
       "      <td>39</td>\n",
       "      <td>91</td>\n",
       "      <td>68</td>\n",
       "      <td>16</td>\n",
       "      <td>160</td>\n",
       "    </tr>\n",
       "    <tr>\n",
       "      <th>actual folkpop</th>\n",
       "      <td>24</td>\n",
       "      <td>58</td>\n",
       "      <td>24</td>\n",
       "      <td>1282</td>\n",
       "      <td>97</td>\n",
       "      <td>220</td>\n",
       "      <td>145</td>\n",
       "      <td>52</td>\n",
       "    </tr>\n",
       "    <tr>\n",
       "      <th>actual electropop</th>\n",
       "      <td>17</td>\n",
       "      <td>198</td>\n",
       "      <td>158</td>\n",
       "      <td>244</td>\n",
       "      <td>372</td>\n",
       "      <td>143</td>\n",
       "      <td>216</td>\n",
       "      <td>231</td>\n",
       "    </tr>\n",
       "    <tr>\n",
       "      <th>actual poprock</th>\n",
       "      <td>25</td>\n",
       "      <td>149</td>\n",
       "      <td>35</td>\n",
       "      <td>278</td>\n",
       "      <td>86</td>\n",
       "      <td>879</td>\n",
       "      <td>267</td>\n",
       "      <td>128</td>\n",
       "    </tr>\n",
       "    <tr>\n",
       "      <th>actual indiepop</th>\n",
       "      <td>13</td>\n",
       "      <td>121</td>\n",
       "      <td>46</td>\n",
       "      <td>157</td>\n",
       "      <td>158</td>\n",
       "      <td>245</td>\n",
       "      <td>468</td>\n",
       "      <td>143</td>\n",
       "    </tr>\n",
       "    <tr>\n",
       "      <th>actual popedm</th>\n",
       "      <td>15</td>\n",
       "      <td>237</td>\n",
       "      <td>197</td>\n",
       "      <td>41</td>\n",
       "      <td>108</td>\n",
       "      <td>182</td>\n",
       "      <td>133</td>\n",
       "      <td>1258</td>\n",
       "    </tr>\n",
       "  </tbody>\n",
       "</table>\n",
       "</div>"
      ],
      "text/plain": [
       "                   others  dancepop  poprap  folkpop  electropop  poprock  indiepop  popedm\n",
       "actual others         166       356     230      402         129      336       184     195\n",
       "actual dancepop        51       931     331      182         166      375        79     391\n",
       "actual poprap          14       289    1955       39          91       68        16     160\n",
       "actual folkpop         24        58      24     1282          97      220       145      52\n",
       "actual electropop      17       198     158      244         372      143       216     231\n",
       "actual poprock         25       149      35      278          86      879       267     128\n",
       "actual indiepop        13       121      46      157         158      245       468     143\n",
       "actual popedm          15       237     197       41         108      182       133    1258"
      ]
     },
     "execution_count": 12,
     "metadata": {},
     "output_type": "execute_result"
    }
   ],
   "source": [
    "from sklearn.ensemble import RandomForestClassifier\n",
    "\n",
    "\n",
    "forest = RandomForestClassifier(n_estimators=100, \n",
    "                                max_depth= 5, \n",
    "                                bootstrap=True,\n",
    "                                oob_score=True,\n",
    "                                n_jobs=-1,\n",
    "                                random_state=11,\n",
    "                                class_weight='balanced')\n",
    "forest.fit(X_train, y_train)\n",
    "forest.score(X_train, y_train)\n",
    "\n",
    "pred_forest = forest.predict(X_train)\n",
    "cm = confusion_matrix(y_train, pred_forest)\n",
    "print(classification_report(y_train, pred_forest))\n",
    "\n",
    "\n",
    "conf_matrix = pd.DataFrame(cm, index=['actual others',\n",
    "                                      'actual dancepop',\n",
    "                                      'actual poprap',\n",
    "                                      'actual folkpop', \n",
    "                                      'actual electropop',\n",
    "                                      'actual poprock',\n",
    "                                      'actual indiepop',\n",
    "                                      'actual popedm'],\n",
    "                           columns= classes)\n",
    "conf_matrix\n"
   ]
  },
  {
   "cell_type": "code",
   "execution_count": 13,
   "metadata": {
    "ExecuteTime": {
     "end_time": "2019-11-01T20:11:08.703662Z",
     "start_time": "2019-11-01T20:11:08.678362Z"
    }
   },
   "outputs": [
    {
     "name": "stdout",
     "output_type": "stream",
     "text": [
      "Precision Score: 0.4574447510653472\n",
      "Recall Score: 0.45733767046165397\n",
      "Accuracy Score: 0.45733767046165397\n",
      "F1 Score: 0.43387949363542067\n"
     ]
    }
   ],
   "source": [
    "# Print metrics\n",
    "from sklearn.metrics import precision_score, recall_score, accuracy_score, f1_score\n",
    "def print_metrics(labels, preds):\n",
    "   print(\"Precision Score: {}\".format(precision_score(labels, preds, average='weighted')))\n",
    "   print(\"Recall Score: {}\".format(recall_score(labels, preds, average='weighted')))\n",
    "   print(\"Accuracy Score: {}\".format(accuracy_score(labels, preds)))\n",
    "   print(\"F1 Score: {}\".format(f1_score(labels, preds, average='weighted')))\n",
    "print_metrics(y_train, pred_forest)"
   ]
  },
  {
   "cell_type": "code",
   "execution_count": 14,
   "metadata": {
    "ExecuteTime": {
     "end_time": "2019-11-01T20:15:29.137922Z",
     "start_time": "2019-11-01T20:15:28.993371Z"
    }
   },
   "outputs": [
    {
     "name": "stdout",
     "output_type": "stream",
     "text": [
      "Precision Score: 0.8556113832540283\n",
      "Recall Score: 0.12079407806191117\n",
      "Accuracy Score: 0.12079407806191117\n",
      "F1 Score: 0.1225270433167756\n"
     ]
    }
   ],
   "source": [
    "test_forest = forest.predict(X_test)\n",
    "print_metrics(y_test, test_forest)"
   ]
  },
  {
   "cell_type": "markdown",
   "metadata": {},
   "source": [
    "## Grid Search for best parameters"
   ]
  },
  {
   "cell_type": "code",
   "execution_count": 34,
   "metadata": {
    "ExecuteTime": {
     "end_time": "2019-11-01T21:36:10.309970Z",
     "start_time": "2019-11-01T21:34:30.311650Z"
    }
   },
   "outputs": [
    {
     "name": "stdout",
     "output_type": "stream",
     "text": [
      "Fitting 3 folds for each of 108 candidates, totalling 324 fits\n"
     ]
    },
    {
     "name": "stderr",
     "output_type": "stream",
     "text": [
      "[Parallel(n_jobs=-1)]: Using backend LokyBackend with 16 concurrent workers.\n",
      "[Parallel(n_jobs=-1)]: Done   9 tasks      | elapsed:    6.9s\n",
      "[Parallel(n_jobs=-1)]: Done 130 tasks      | elapsed:   43.8s\n",
      "[Parallel(n_jobs=-1)]: Done 324 out of 324 | elapsed:  1.7min finished\n"
     ]
    },
    {
     "name": "stdout",
     "output_type": "stream",
     "text": [
      "Best accuracy: 0.416\n",
      "\n",
      "Best params:\n",
      " {'criterion': 'gini', 'max_depth': 6, 'min_samples_leaf': 0.05, 'min_samples_split': 0.05, 'n_estimators': 200}\n"
     ]
    }
   ],
   "source": [
    "from sklearn.model_selection import GridSearchCV\n",
    "\n",
    "forest_GS = RandomForestClassifier(random_state = 11, \n",
    "                                   n_jobs=-1,\n",
    "                                   oob_score=True)\n",
    "\n",
    "# Set grid search params\n",
    "param_grid_forest = [ \n",
    "  {'n_estimators': [200, 400],\n",
    "   'criterion': ['entropy', 'gini'], \n",
    "   'max_depth': [4, 6, 8],  \n",
    "   'min_samples_leaf':[0.05 ,0.1, 0.2],  \n",
    "   'min_samples_split':[0.05 ,0.1, 0.2]\n",
    "  }\n",
    "]\n",
    "\n",
    "# scoring = {#'accuracy':accuracy_score(), \n",
    "#            'precision':precision_score(y_test,pred_gs_rf, average='weighted')\n",
    "#            #'f1_score':f1_score(average=weighted),\n",
    "#            #'recall':recall_score(average=weighted)\n",
    "# }\n",
    "\n",
    "# Construct grid search\n",
    "gs_rf = GridSearchCV(estimator=forest_GS,\n",
    "            param_grid=param_grid_forest,\n",
    "            scoring='accuracy',\n",
    "            refit='accuracy',\n",
    "            cv=3, verbose=2, return_train_score = True,\n",
    "            n_jobs=-1)\n",
    "\n",
    "# Fit using grid search\n",
    "gs_rf.fit(X_train, y_train)\n",
    "\n",
    "pred_gs_rf = gs_rf.predict(X_test)\n",
    "\n",
    "# Best accuracy\n",
    "print('Best accuracy: %.3f' % gs_rf.best_score_)\n",
    "\n",
    "# Best params\n",
    "print('\\nBest params:\\n', gs_rf.best_params_)"
   ]
  },
  {
   "cell_type": "code",
   "execution_count": null,
   "metadata": {},
   "outputs": [],
   "source": []
  }
 ],
 "metadata": {
  "kernelspec": {
   "display_name": "Python 3",
   "language": "python",
   "name": "python3"
  },
  "language_info": {
   "codemirror_mode": {
    "name": "ipython",
    "version": 3
   },
   "file_extension": ".py",
   "mimetype": "text/x-python",
   "name": "python",
   "nbconvert_exporter": "python",
   "pygments_lexer": "ipython3",
   "version": "3.7.3"
  },
  "toc": {
   "base_numbering": 1,
   "nav_menu": {},
   "number_sections": true,
   "sideBar": true,
   "skip_h1_title": false,
   "title_cell": "Table of Contents",
   "title_sidebar": "Contents",
   "toc_cell": false,
   "toc_position": {},
   "toc_section_display": true,
   "toc_window_display": false
  }
 },
 "nbformat": 4,
 "nbformat_minor": 2
}
