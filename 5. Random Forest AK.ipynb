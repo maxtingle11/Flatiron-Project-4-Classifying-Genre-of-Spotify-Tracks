{
 "cells": [
  {
   "cell_type": "code",
   "execution_count": 2,
   "metadata": {
    "ExecuteTime": {
     "end_time": "2019-11-01T17:56:10.503918Z",
     "start_time": "2019-11-01T17:56:10.109399Z"
    }
   },
   "outputs": [],
   "source": [
    "import pandas as pd\n",
    "import numpy as np\n",
    "import warnings\n",
    "\n",
    "warnings.filterwarnings('ignore')\n",
    "\n",
    "pd.set_option('display.max_rows', 50)\n",
    "pd.set_option('display.max_columns', 100)\n",
    "pd.set_option('display.width', 1000)"
   ]
  },
  {
   "cell_type": "code",
   "execution_count": 9,
   "metadata": {
    "ExecuteTime": {
     "end_time": "2019-11-01T18:04:31.966079Z",
     "start_time": "2019-11-01T18:04:31.592774Z"
    }
   },
   "outputs": [
    {
     "name": "stdout",
     "output_type": "stream",
     "text": [
      "<class 'pandas.core.frame.DataFrame'>\n",
      "RangeIndex: 106988 entries, 0 to 106987\n",
      "Data columns (total 27 columns):\n",
      "acousticness          106988 non-null float64\n",
      "danceability          106988 non-null float64\n",
      "duration_ms           106988 non-null float64\n",
      "energy                106988 non-null float64\n",
      "instrumentalness      106988 non-null float64\n",
      "liveness              106988 non-null float64\n",
      "loudness              106988 non-null float64\n",
      "mode_feat             106988 non-null float64\n",
      "speechiness           106988 non-null float64\n",
      "tempo                 106988 non-null float64\n",
      "valence               106988 non-null float64\n",
      "time_signature_1.0    106988 non-null int64\n",
      "time_signature_3.0    106988 non-null int64\n",
      "time_signature_4.0    106988 non-null int64\n",
      "time_signature_5.0    106988 non-null int64\n",
      "key_0.0               106988 non-null int64\n",
      "key_1.0               106988 non-null int64\n",
      "key_2.0               106988 non-null int64\n",
      "key_3.0               106988 non-null int64\n",
      "key_4.0               106988 non-null int64\n",
      "key_5.0               106988 non-null int64\n",
      "key_6.0               106988 non-null int64\n",
      "key_7.0               106988 non-null int64\n",
      "key_8.0               106988 non-null int64\n",
      "key_9.0               106988 non-null int64\n",
      "key_10.0              106988 non-null int64\n",
      "key_11.0              106988 non-null int64\n",
      "dtypes: float64(11), int64(16)\n",
      "memory usage: 22.0 MB\n",
      "None\n"
     ]
    }
   ],
   "source": [
    "# Import data to Pandas DataFrame\n",
    "train = pd.read_csv('data/train.csv')\n",
    "test = pd.read_csv('data/test.csv')\n",
    "test_final = pd.read_csv('data/test_final.csv')\n",
    "\n",
    "X_train = train.drop('target', axis=1)\n",
    "y_train = train['target']\n",
    "\n",
    "X_test = test.drop('target', axis=1)\n",
    "y_test = test['target']\n",
    "\n",
    "X_test_final = test_final.drop('target', axis=1)\n",
    "y_test_final = test_final['target']\n",
    "\n",
    "# Preview data\n",
    "print(X_train.info())"
   ]
  },
  {
   "cell_type": "markdown",
   "metadata": {},
   "source": [
    "Performing Random Forest: \n",
    "1. We do not need to normalize data \n",
    "2. We need to somewhat balance the class distributions, we will do this using undersampling\n",
    "3. "
   ]
  },
  {
   "cell_type": "markdown",
   "metadata": {},
   "source": [
    "## Balance training data "
   ]
  },
  {
   "cell_type": "code",
   "execution_count": 20,
   "metadata": {
    "ExecuteTime": {
     "end_time": "2019-11-01T18:12:08.913244Z",
     "start_time": "2019-11-01T18:12:08.865901Z"
    }
   },
   "outputs": [],
   "source": [
    "# concatenate our training data back together\n",
    "X = pd.concat([X_train, y_train], axis=1)\n",
    "\n",
    "# X.target.value_counts()\n",
    "c_group = X[X.target==0]\n",
    "other_groups = X[X.target!=0]\n",
    "\n",
    "n_resample = other_group.groupby(other_group.target).count().mean()[0].astype(int)"
   ]
  },
  {
   "cell_type": "code",
   "execution_count": 21,
   "metadata": {
    "ExecuteTime": {
     "end_time": "2019-11-01T18:12:11.303765Z",
     "start_time": "2019-11-01T18:12:11.300542Z"
    }
   },
   "outputs": [
    {
     "data": {
      "text/plain": [
       "1998"
      ]
     },
     "execution_count": 21,
     "metadata": {},
     "output_type": "execute_result"
    }
   ],
   "source": [
    "n_resample"
   ]
  },
  {
   "cell_type": "code",
   "execution_count": 22,
   "metadata": {
    "ExecuteTime": {
     "end_time": "2019-11-01T18:12:15.830881Z",
     "start_time": "2019-11-01T18:12:15.818554Z"
    }
   },
   "outputs": [
    {
     "data": {
      "text/plain": [
       "2    2632\n",
       "1    2506\n",
       "7    2171\n",
       "0    1998\n",
       "3    1902\n",
       "5    1847\n",
       "4    1579\n",
       "6    1351\n",
       "Name: target, dtype: int64"
      ]
     },
     "execution_count": 22,
     "metadata": {},
     "output_type": "execute_result"
    }
   ],
   "source": [
    "from sklearn.utils import resample\n",
    "\n",
    "# downsample majority\n",
    "downsampled_0_class = resample(c_group,\n",
    "                               replace = False, # sample without replacement\n",
    "                               n_samples = n_resample, # match average otehr_groups n\n",
    "                               random_state = 11) # reproducible results\n",
    "\n",
    "# combine minority and downsampled majority\n",
    "balanced_tracks = pd.concat([downsampled_0_class, other_groups])\n",
    "\n",
    "# checking counts\n",
    "balanced_tracks.target.value_counts()"
   ]
  },
  {
   "cell_type": "code",
   "execution_count": 23,
   "metadata": {
    "ExecuteTime": {
     "end_time": "2019-11-01T18:19:17.910289Z",
     "start_time": "2019-11-01T18:19:17.905496Z"
    }
   },
   "outputs": [],
   "source": [
    "X_train = balanced_tracks.drop('target', axis=1)\n",
    "y_train = balanced_tracks['target']"
   ]
  },
  {
   "cell_type": "markdown",
   "metadata": {},
   "source": [
    "## Create a tree classifier as a baseline "
   ]
  },
  {
   "cell_type": "code",
   "execution_count": 25,
   "metadata": {
    "ExecuteTime": {
     "end_time": "2019-11-01T18:23:29.351630Z",
     "start_time": "2019-11-01T18:23:29.239775Z"
    }
   },
   "outputs": [
    {
     "name": "stdout",
     "output_type": "stream",
     "text": [
      "[[  45  568  291  194    9  536  139  216]\n",
      " [  26 1026  532   52    8  522   36  304]\n",
      " [   6  304 2003   15   18   95   11  180]\n",
      " [  36  191   49  962   14  374  135  141]\n",
      " [   7  378  213  142   50  252  106  431]\n",
      " [  23  315   56  131    6 1037  133  146]\n",
      " [   8  264   44   90   22  451  274  198]\n",
      " [   9  273  358    8    6  445   60 1012]]\n",
      "              precision    recall  f1-score   support\n",
      "\n",
      "           0       0.28      0.02      0.04      1998\n",
      "           1       0.31      0.41      0.35      2506\n",
      "           2       0.56      0.76      0.65      2632\n",
      "           3       0.60      0.51      0.55      1902\n",
      "           4       0.38      0.03      0.06      1579\n",
      "           5       0.28      0.56      0.37      1847\n",
      "           6       0.31      0.20      0.24      1351\n",
      "           7       0.39      0.47      0.42      2171\n",
      "\n",
      "    accuracy                           0.40     15986\n",
      "   macro avg       0.39      0.37      0.34     15986\n",
      "weighted avg       0.40      0.40      0.36     15986\n",
      "\n"
     ]
    }
   ],
   "source": [
    "from sklearn.tree import DecisionTreeClassifier\n",
    "from sklearn.metrics import accuracy_score, confusion_matrix, classification_report\n",
    "\n",
    "tree_clf = DecisionTreeClassifier(criterion = \"gini\", max_depth = 5) \n",
    "tree_clf.fit(X_train, y_train)\n",
    "\n",
    "pred = tree_clf.predict(X_train)\n",
    "print(confusion_matrix(y_train, pred))\n",
    "print(classification_report(y_train, pred))"
   ]
  },
  {
   "cell_type": "code",
   "execution_count": 28,
   "metadata": {
    "ExecuteTime": {
     "end_time": "2019-11-01T18:26:55.061956Z",
     "start_time": "2019-11-01T18:26:54.832282Z"
    }
   },
   "outputs": [
    {
     "data": {
      "image/png": "[encoded data removed]",
      "text/plain": [
       "<Figure size 576x576 with 1 Axes>"
      ]
     },
     "metadata": {
      "needs_background": "light"
     },
     "output_type": "display_data"
    }
   ],
   "source": [
    "import matplotlib.pyplot as plt\n",
    "def plot_feature_importances(model):\n",
    "    n_features = X_train.shape[1]\n",
    "    plt.figure(figsize=(8,8))\n",
    "    plt.barh(range(n_features), model.feature_importances_, align='center') \n",
    "    plt.yticks(np.arange(n_features), X_train.columns.values) \n",
    "    plt.xlabel(\"Feature importance\")\n",
    "    plt.ylabel(\"Feature\")\n",
    "\n",
    "plot_feature_importances(tree_clf);"
   ]
  },
  {
   "cell_type": "markdown",
   "metadata": {},
   "source": [
    "## Random Forest"
   ]
  },
  {
   "cell_type": "code",
   "execution_count": 31,
   "metadata": {
    "ExecuteTime": {
     "end_time": "2019-11-01T18:37:09.477839Z",
     "start_time": "2019-11-01T18:37:08.849178Z"
    }
   },
   "outputs": [
    {
     "name": "stdout",
     "output_type": "stream",
     "text": [
      "[[ 175  341  216  387  142  322  226  189]\n",
      " [  62  849  345  187  146  366  133  418]\n",
      " [  18  277 1965   37  118   54   26  137]\n",
      " [  33   55   20 1279   89  188  178   60]\n",
      " [  23  179  181  244  366  121  240  225]\n",
      " [  30  134   36  268   78  840  344  117]\n",
      " [  12  101   43  151  153  197  544  150]\n",
      " [  20  195  183   43  100  138  134 1358]]\n",
      "              precision    recall  f1-score   support\n",
      "\n",
      "           0       0.47      0.09      0.15      1998\n",
      "           1       0.40      0.34      0.37      2506\n",
      "           2       0.66      0.75      0.70      2632\n",
      "           3       0.49      0.67      0.57      1902\n",
      "           4       0.31      0.23      0.26      1579\n",
      "           5       0.38      0.45      0.41      1847\n",
      "           6       0.30      0.40      0.34      1351\n",
      "           7       0.51      0.63      0.56      2171\n",
      "\n",
      "    accuracy                           0.46     15986\n",
      "   macro avg       0.44      0.45      0.42     15986\n",
      "weighted avg       0.46      0.46      0.44     15986\n",
      "\n"
     ]
    }
   ],
   "source": [
    "from sklearn.ensemble import RandomForestClassifier\n",
    "\n",
    "forest = RandomForestClassifier(n_estimators=100, \n",
    "                                max_depth= 5, \n",
    "                                bootstrap=True,\n",
    "                                oob_score=True,\n",
    "                                n_jobs=-1,\n",
    "                                random_state=11,\n",
    "                                class_weight='balanced')\n",
    "forest.fit(X_train, y_train)\n",
    "forest.score(X_train, y_train)\n",
    "\n",
    "pred_forest = forest.predict(X_train)\n",
    "print(confusion_matrix(y_train, pred_forest))\n",
    "print(classification_report(y_train, pred_forest))"
   ]
  },
  {
   "cell_type": "code",
   "execution_count": null,
   "metadata": {},
   "outputs": [],
   "source": []
  }
 ],
 "metadata": {
  "kernelspec": {
   "display_name": "Python 3",
   "language": "python",
   "name": "python3"
  },
  "language_info": {
   "codemirror_mode": {
    "name": "ipython",
    "version": 3
   },
   "file_extension": ".py",
   "mimetype": "text/x-python",
   "name": "python",
   "nbconvert_exporter": "python",
   "pygments_lexer": "ipython3",
   "version": "3.7.3"
  },
  "toc": {
   "base_numbering": 1,
   "nav_menu": {},
   "number_sections": true,
   "sideBar": true,
   "skip_h1_title": false,
   "title_cell": "Table of Contents",
   "title_sidebar": "Contents",
   "toc_cell": false,
   "toc_position": {},
   "toc_section_display": true,
   "toc_window_display": false
  }
 },
 "nbformat": 4,
 "nbformat_minor": 2
}
