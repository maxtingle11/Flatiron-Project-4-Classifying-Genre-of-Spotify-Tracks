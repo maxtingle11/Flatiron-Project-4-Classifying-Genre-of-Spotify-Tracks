{
 "cells": [
  {
   "cell_type": "markdown",
   "metadata": {},
   "source": [
    "# Using Machine Learning to Predict a Pop Song's Subgenre"
   ]
  },
  {
   "cell_type": "markdown",
   "metadata": {},
   "source": [
    "## Project Background"
   ]
  },
  {
   "cell_type": "markdown",
   "metadata": {},
   "source": [
    "### Research Question\n",
    "This project asks the question **“Can we predict a pop song's subgenre using its audio features?”**\n",
    "\n",
    "### Findings\n",
    "We found that audio features **can predict** a pop song's subgenre **with 56% accuracy**.\n",
    "\n",
    "Out of 7 subgenres, there is about a 14% chance of randomly picking the correct subgenre. The model we fit with the Gradient Boost Classifier had the highest accuracy rate of approximately 56%, making it 4 times more likely than random chance to correctly classify a pop song to its correct subgenre.\n",
    "\n",
    "### Dataset\n",
    "The dataset was retrieved from Spotify’s API and contains audio feature information for 13,988 pop songs.\n",
    "\n",
    "### Target Variable\n",
    "Our target variable is a multi-class categorical variable for 7 pop subgeners:\n",
    "- 1 = Dance-Pop\n",
    "- 2 = Rap-Rop\n",
    "- 3 = Folk-Pop\n",
    "- 4 = Electro-Pop\n",
    "- 5 = Rock-Pop\n",
    "- 6 = Indie-Pop\n",
    "- 7 = EDM-Pop\n",
    "\n",
    "### Independent Variables\n",
    "Our independent variables are audio features - metrics that measure each song's:\n",
    "- Acousticness\n",
    "- Danceability\n",
    "- Duration\n",
    "- Energy\n",
    "- Instrumentalness\n",
    "- Key\n",
    "- Liveness\n",
    "- Loudness\n",
    "- Mode (major or minor key)\n",
    "- Speechiness\n",
    "- Tempo\n",
    "- Time Signature\n",
    "- Valence\n",
    "\n",
    "### Modeling with Machine Learning Algorithms\n",
    "We fit models for the following machine learning algorithms, and used Grid Search Cross Validation to hyper-tune the parameters of each model:\n",
    "- Logistic Regression\n",
    "- K-Nearest Neighbors\n",
    "- Decision Tree Classifier\n",
    "- Random Forrest Classifier\n",
    "- AdaBoost Classifier\n",
    "- Gradient Boost Classifier\n",
    "- eXtreme Gradient Boost Classifier\n",
    "- Support Vector Machine\n",
    "\n",
    "*Not included in our technical notebook: we further tuned each model by: 1) limiting features based on feature importance rankings from Decision Tree Classifier, and 2) applying Principal Component Analysis for dimensionality reduction. Neither of these two adjustments yielded better performing models.*\n"
   ]
  },
  {
   "cell_type": "markdown",
   "metadata": {},
   "source": [
    "## Setting Up Dataset"
   ]
  },
  {
   "cell_type": "code",
   "execution_count": 1,
   "metadata": {
    "ExecuteTime": {
     "end_time": "2019-11-05T15:55:37.841354Z",
     "start_time": "2019-11-05T15:55:37.564525Z"
    }
   },
   "outputs": [],
   "source": [
    "import pandas as pd\n",
    "import numpy as np\n",
    "import warnings\n",
    "warnings.filterwarnings('ignore')\n",
    "\n",
    "# Autoreload \n",
    "%load_ext autoreload\n",
    "%autoreload 2\n",
    "\n",
    "#Setting pandas viewing options\n",
    "pd.set_option('display.max_rows', 50)\n",
    "pd.set_option('display.max_columns', 300)\n",
    "pd.set_option('display.width', 1000)"
   ]
  },
  {
   "cell_type": "markdown",
   "metadata": {},
   "source": [
    "### Importing Datasets"
   ]
  },
  {
   "cell_type": "code",
   "execution_count": 2,
   "metadata": {
    "ExecuteTime": {
     "end_time": "2019-11-05T15:55:41.874878Z",
     "start_time": "2019-11-05T15:55:41.759195Z"
    }
   },
   "outputs": [],
   "source": [
    "# Import data to Pandas DataFrame\n",
    "train = pd.read_csv('data/train.csv')\n",
    "test = pd.read_csv('data/test.csv')\n",
    "test_final = pd.read_csv('data/test_final.csv')\n",
    "\n",
    "# Split X & y for train, test, and test_final\n",
    "X_train = train.drop('target', axis=1)\n",
    "y_train = train['target']\n",
    "\n",
    "X_test = test.drop('target', axis=1)\n",
    "y_test = test['target']\n",
    "\n",
    "X_test_final = test_final.drop('target', axis=1)\n",
    "y_test_final = test_final['target']\n"
   ]
  },
  {
   "cell_type": "markdown",
   "metadata": {},
   "source": [
    "### Scaling Datasets"
   ]
  },
  {
   "cell_type": "code",
   "execution_count": 3,
   "metadata": {
    "ExecuteTime": {
     "end_time": "2019-11-05T15:55:59.899861Z",
     "start_time": "2019-11-05T15:55:59.572010Z"
    }
   },
   "outputs": [],
   "source": [
    "# Standardize with MinMax Scaler\n",
    "from sklearn.preprocessing import MinMaxScaler\n",
    "\n",
    "min_max_scaler = MinMaxScaler()\n",
    "X_train_mmscaled = min_max_scaler.fit_transform(X_train)\n",
    "X_test_mmscaled = min_max_scaler.transform(X_test)\n",
    "X_test_final_mmscaled = min_max_scaler.transform(X_test_final)"
   ]
  },
  {
   "cell_type": "markdown",
   "metadata": {
    "ExecuteTime": {
     "end_time": "2019-11-05T01:38:53.002986Z",
     "start_time": "2019-11-05T01:38:52.956565Z"
    }
   },
   "source": [
    "### Starting a Score List"
   ]
  },
  {
   "cell_type": "code",
   "execution_count": 4,
   "metadata": {
    "ExecuteTime": {
     "end_time": "2019-11-05T15:56:10.295132Z",
     "start_time": "2019-11-05T15:56:10.271321Z"
    }
   },
   "outputs": [],
   "source": [
    "model_score = {}"
   ]
  },
  {
   "cell_type": "markdown",
   "metadata": {},
   "source": [
    "## Logistic Regression"
   ]
  },
  {
   "cell_type": "code",
   "execution_count": 5,
   "metadata": {
    "ExecuteTime": {
     "end_time": "2019-11-05T15:56:41.953897Z",
     "start_time": "2019-11-05T15:56:41.931607Z"
    }
   },
   "outputs": [],
   "source": [
    "from sklearn.utils.class_weight import compute_class_weight\n",
    "\n",
    "# Computing class weights \n",
    "class_names = ['Dance-Pop','Rap-Pop','Folk-Pop', 'Electro-Pop','Rock-Pop', 'Indie-Pop','EDM-Pop']\n",
    "classes=[1,2,3,4,5,6,7]\n",
    "\n",
    "class_weights = compute_class_weight(class_weight='balanced',classes=classes,y=y_train)\n",
    "cls_wt = dict(zip(classes,class_weights))"
   ]
  },
  {
   "cell_type": "code",
   "execution_count": 6,
   "metadata": {
    "ExecuteTime": {
     "end_time": "2019-11-05T15:57:05.133981Z",
     "start_time": "2019-11-05T15:57:02.718344Z"
    }
   },
   "outputs": [
    {
     "name": "stdout",
     "output_type": "stream",
     "text": [
      "Train Accuracy Score: 0.4984\n",
      "Test Accuracy Score: 0.503\n"
     ]
    }
   ],
   "source": [
    "from sklearn.linear_model import LogisticRegression\n",
    "from scripts import print_metrics\n",
    "\n",
    "# Perform baseline logistic regression\n",
    "logreg_base = LogisticRegression(C = 1e9, \n",
    "                                 solver='lbfgs',\n",
    "                                 multi_class='multinomial', \n",
    "                                 max_iter=1000, \n",
    "                                 penalty='l2',\n",
    "                                 class_weight=cls_wt)\n",
    "\n",
    "logreg_base.fit(X_train_mmscaled, y_train)\n",
    "\n",
    "pred_logreg_base_train = logreg_base.predict(X_train_mmscaled)\n",
    "pred_logreg_base_test = logreg_base.predict(X_test_mmscaled)\n",
    "\n",
    "#Print scores\n",
    "print_metrics(y_train, pred_logreg_base_train, \"Train\")\n",
    "print_metrics(y_test, pred_logreg_base_test, \"Test\")"
   ]
  },
  {
   "cell_type": "markdown",
   "metadata": {},
   "source": [
    "### Tuning Logistic Regression Parameters with Grid Search Cross Validation"
   ]
  },
  {
   "cell_type": "code",
   "execution_count": 7,
   "metadata": {
    "ExecuteTime": {
     "end_time": "2019-11-05T15:59:12.442576Z",
     "start_time": "2019-11-05T15:58:40.241604Z"
    }
   },
   "outputs": [
    {
     "name": "stdout",
     "output_type": "stream",
     "text": [
      "Fitting 5 folds for each of 4 candidates, totalling 20 fits\n"
     ]
    },
    {
     "name": "stderr",
     "output_type": "stream",
     "text": [
      "[Parallel(n_jobs=-1)]: Using backend LokyBackend with 16 concurrent workers.\n",
      "[Parallel(n_jobs=-1)]: Done  11 out of  20 | elapsed:   21.6s remaining:   17.7s\n",
      "[Parallel(n_jobs=-1)]: Done  20 out of  20 | elapsed:   22.6s finished\n"
     ]
    },
    {
     "name": "stdout",
     "output_type": "stream",
     "text": [
      "Grid Search found the following optimal parameters: \n",
      "C: 1000000000.0\n",
      "class_weight: {1: 0.7974005244555923, 2: 0.7592270950933565, 3: 1.0500713159672697, 4: 1.2655387677553604, 5: 1.081908886998221, 6: 1.4802116402116403, 7: 0.9204448246364414}\n",
      "penalty: 'l1'\n",
      "solver: 'saga'\n",
      "Train Accuracy Score: 0.4984\n",
      "Test Accuracy Score: 0.5033\n"
     ]
    }
   ],
   "source": [
    "from sklearn.model_selection import GridSearchCV\n",
    "\n",
    "logreg_GS = LogisticRegression(random_state = 11,\n",
    "                               multi_class='multinomial', \n",
    "                               max_iter=1000)\n",
    "\n",
    "# Set grid search params\n",
    "# Note: these parameters are tuned; best values presented here for speed\n",
    "param_grid_logreg = [\n",
    "    {'penalty':['l1'],\n",
    "     'solver':['saga'],\n",
    "     'C':[1e9],\n",
    "     'class_weight':[cls_wt,'balanced']\n",
    "     },\n",
    "    {'penalty':['l2'],\n",
    "     'solver':['newton-cg'],\n",
    "     'C':[1e9],\n",
    "     'class_weight':[cls_wt,'balanced']\n",
    "    }   \n",
    "]\n",
    "\n",
    "# Construct grid search\n",
    "gs_logreg = GridSearchCV(estimator=logreg_GS,\n",
    "            param_grid=param_grid_logreg,\n",
    "            scoring='accuracy',\n",
    "            refit='accuracy',\n",
    "            cv=5, verbose=2, return_train_score = True,\n",
    "            n_jobs=-1)\n",
    "\n",
    "# Fit using grid search\n",
    "gs_logreg.fit(X_train_mmscaled, y_train)\n",
    "\n",
    "pred_gs_lr_train = gs_logreg.predict(X_train_mmscaled)\n",
    "pred_gs_lr_test = gs_logreg.predict(X_test_mmscaled)\n",
    "\n",
    "best_parameters = gs_logreg.best_params_\n",
    "\n",
    "print(\"Grid Search found the following optimal parameters: \")\n",
    "for param_name in sorted(best_parameters.keys()):\n",
    "    print(\"%s: %r\" % (param_name, best_parameters[param_name]))\n",
    "\n",
    "\n",
    "# Print scores\n",
    "print_metrics(y_train, pred_gs_lr_train, \"Train\")\n",
    "print_metrics(y_test, pred_gs_lr_test, \"Test\")"
   ]
  },
  {
   "cell_type": "code",
   "execution_count": 8,
   "metadata": {
    "ExecuteTime": {
     "end_time": "2019-11-05T15:59:12.472756Z",
     "start_time": "2019-11-05T15:59:12.444388Z"
    }
   },
   "outputs": [],
   "source": [
    "# Save scores to model_score list\n",
    "\n",
    "from sklearn.metrics import accuracy_score\n",
    "model_score['logreg'] = [accuracy_score(y_train, pred_gs_lr_train),\n",
    "                         accuracy_score(y_test, pred_gs_lr_test)]"
   ]
  },
  {
   "cell_type": "markdown",
   "metadata": {},
   "source": [
    "## K-Nearest Neighbors (KNN)"
   ]
  },
  {
   "cell_type": "markdown",
   "metadata": {},
   "source": [
    "### Fit KNN Model"
   ]
  },
  {
   "cell_type": "code",
   "execution_count": 9,
   "metadata": {
    "ExecuteTime": {
     "end_time": "2019-11-05T16:00:13.687303Z",
     "start_time": "2019-11-05T16:00:10.173234Z"
    }
   },
   "outputs": [
    {
     "name": "stdout",
     "output_type": "stream",
     "text": [
      "Train Accuracy Score: 0.5869\n",
      "Test Accuracy Score: 0.4144\n"
     ]
    }
   ],
   "source": [
    "from sklearn.neighbors import KNeighborsClassifier\n",
    "\n",
    "knn1 = KNeighborsClassifier()\n",
    "knn1.fit(X_train_mmscaled, y_train)\n",
    "knn1_train_preds = knn1.predict(X_train_mmscaled)\n",
    "knn1_test_preds = knn1.predict(X_test_mmscaled)\n",
    "\n",
    "print_metrics(y_train, knn1_train_preds,\"Train\")\n",
    "print_metrics(y_test, knn1_test_preds, \"Test\")"
   ]
  },
  {
   "cell_type": "markdown",
   "metadata": {},
   "source": [
    "### Find Best K by Accuracy"
   ]
  },
  {
   "cell_type": "code",
   "execution_count": 10,
   "metadata": {
    "ExecuteTime": {
     "end_time": "2019-11-05T16:01:01.420278Z",
     "start_time": "2019-11-05T16:00:17.477368Z"
    }
   },
   "outputs": [
    {
     "name": "stdout",
     "output_type": "stream",
     "text": [
      "Best Value for k: 27\n",
      "Accuracy: 0.44895624821275376\n"
     ]
    }
   ],
   "source": [
    "from scripts import find_best_k_acc\n",
    "\n",
    "find_best_k_acc(X_train_mmscaled, y_train, X_test_mmscaled, y_test)"
   ]
  },
  {
   "cell_type": "markdown",
   "metadata": {},
   "source": [
    "### Fit KNN Model w/ Optimized K=27"
   ]
  },
  {
   "cell_type": "code",
   "execution_count": 11,
   "metadata": {
    "ExecuteTime": {
     "end_time": "2019-11-05T16:01:06.146368Z",
     "start_time": "2019-11-05T16:01:01.421689Z"
    }
   },
   "outputs": [
    {
     "name": "stdout",
     "output_type": "stream",
     "text": [
      "Train Accuracy Score: 0.4846\n",
      "Test Accuracy Score: 0.449\n"
     ]
    }
   ],
   "source": [
    "knn2 = KNeighborsClassifier(n_neighbors=27)\n",
    "knn2.fit(X_train_mmscaled, y_train)\n",
    "knn2_train_preds = knn2.predict(X_train_mmscaled)\n",
    "knn2_test_preds = knn2.predict(X_test_mmscaled)\n",
    "\n",
    "# Print Accuracy\n",
    "print_metrics(y_train, knn2_train_preds,\"Train\")\n",
    "print_metrics(y_test, knn2_test_preds,\"Test\")"
   ]
  },
  {
   "cell_type": "code",
   "execution_count": 12,
   "metadata": {
    "ExecuteTime": {
     "end_time": "2019-11-05T16:01:45.366118Z",
     "start_time": "2019-11-05T16:01:45.338823Z"
    }
   },
   "outputs": [],
   "source": [
    "# Save scores to model_score list\n",
    "model_score['KNN'] = [accuracy_score(y_train, knn2_train_preds),\n",
    "                      accuracy_score(y_test, knn2_test_preds)]"
   ]
  },
  {
   "cell_type": "markdown",
   "metadata": {},
   "source": [
    "## Decision Tree Classifier "
   ]
  },
  {
   "cell_type": "code",
   "execution_count": 13,
   "metadata": {
    "ExecuteTime": {
     "end_time": "2019-11-05T16:01:56.463308Z",
     "start_time": "2019-11-05T16:01:56.369676Z"
    }
   },
   "outputs": [
    {
     "name": "stdout",
     "output_type": "stream",
     "text": [
      "Train Accuracy Score: 0.442\n",
      "Test Accuracy Score: 0.4315\n"
     ]
    }
   ],
   "source": [
    "from sklearn.tree import DecisionTreeClassifier\n",
    "\n",
    "tree_clf = DecisionTreeClassifier(criterion=\"gini\", max_depth=5) \n",
    "tree_clf.fit(X_train_mmscaled, y_train)\n",
    "tree_pred = tree_clf.predict(X_train_mmscaled)\n",
    "tree_pred_test = tree_clf.predict(X_test_mmscaled)\n",
    "\n",
    "# Print Accuracy\n",
    "print_metrics(y_train, tree_pred,\"Train\")\n",
    "print_metrics(y_test, tree_pred_test,\"Test\")"
   ]
  },
  {
   "cell_type": "code",
   "execution_count": 14,
   "metadata": {
    "ExecuteTime": {
     "end_time": "2019-11-05T16:02:00.002635Z",
     "start_time": "2019-11-05T16:01:59.975513Z"
    }
   },
   "outputs": [],
   "source": [
    "#Save scores to model_score list\n",
    "model_score['Tree'] = [accuracy_score(y_train, tree_pred),\n",
    "                       accuracy_score(y_test, tree_pred_test)]"
   ]
  },
  {
   "cell_type": "markdown",
   "metadata": {},
   "source": [
    "## Random Forest"
   ]
  },
  {
   "cell_type": "code",
   "execution_count": 15,
   "metadata": {
    "ExecuteTime": {
     "end_time": "2019-11-05T16:02:09.749681Z",
     "start_time": "2019-11-05T16:02:09.159763Z"
    }
   },
   "outputs": [
    {
     "name": "stdout",
     "output_type": "stream",
     "text": [
      "Train Accuracy Score: 0.5213\n",
      "Test Accuracy Score: 0.5144\n"
     ]
    }
   ],
   "source": [
    "from sklearn.ensemble import RandomForestClassifier\n",
    "\n",
    "# Running a standard random forest \n",
    "forest = RandomForestClassifier(n_estimators=100, \n",
    "                                max_depth= 5, \n",
    "                                bootstrap=True,\n",
    "                                oob_score=True,\n",
    "                                n_jobs=-1,\n",
    "                                random_state=11,\n",
    "                                class_weight='balanced')\n",
    "\n",
    "forest.fit(X_train_mmscaled, y_train)\n",
    "\n",
    "pred_forest = forest.predict(X_train_mmscaled)\n",
    "pred_forest_test = forest.predict(X_test_mmscaled)\n",
    "\n",
    "print_metrics(y_train, pred_forest,\"Train\")\n",
    "print_metrics(y_test, pred_forest_test,\"Test\")"
   ]
  },
  {
   "cell_type": "markdown",
   "metadata": {},
   "source": [
    "### Random Forest Parameter Tuning"
   ]
  },
  {
   "cell_type": "code",
   "execution_count": 17,
   "metadata": {
    "ExecuteTime": {
     "end_time": "2019-11-05T16:07:13.911532Z",
     "start_time": "2019-11-05T16:07:09.864430Z"
    }
   },
   "outputs": [
    {
     "name": "stdout",
     "output_type": "stream",
     "text": [
      "Fitting 5 folds for each of 1 candidates, totalling 5 fits\n"
     ]
    },
    {
     "name": "stderr",
     "output_type": "stream",
     "text": [
      "[Parallel(n_jobs=-1)]: Using backend LokyBackend with 16 concurrent workers.\n",
      "[Parallel(n_jobs=-1)]: Done   5 out of   5 | elapsed:    2.9s finished\n"
     ]
    },
    {
     "name": "stdout",
     "output_type": "stream",
     "text": [
      "Grid Search found the following optimal parameters: \n",
      "criterion: 'entropy'\n",
      "max_depth: 8\n",
      "min_samples_leaf: 1\n",
      "n_estimators: 225\n",
      "Best accuracy: 0.533\n"
     ]
    }
   ],
   "source": [
    "# Using Grid Search and Cross Validation\n",
    "\n",
    "forest_GS = RandomForestClassifier(random_state = 11,\n",
    "                                   bootstrap=True,\n",
    "                                   n_jobs=-1,\n",
    "                                   oob_score=True,\n",
    "                                   class_weight='balanced')\n",
    "\n",
    "# Set grid search params\n",
    "# Note: these parameters are tuned; best values presented here for speed\n",
    "param_grid_forest = [ \n",
    "  {'n_estimators': [225],\n",
    "   'criterion': ['entropy'], \n",
    "   'max_depth': [8],  \n",
    "   'min_samples_leaf':[1]  \n",
    "  }\n",
    "]\n",
    "\n",
    "# Construct grid search\n",
    "gs_rf = GridSearchCV(estimator=forest_GS,\n",
    "            param_grid=param_grid_forest,\n",
    "            scoring='accuracy',\n",
    "            refit='accuracy',\n",
    "            cv=5, verbose=2, return_train_score = True,\n",
    "            n_jobs=-1)\n",
    "\n",
    "# Fit using grid search\n",
    "gs_rf.fit(X_train, y_train)\n",
    "\n",
    "pred_gs_rf_train = gs_rf.predict(X_train)\n",
    "pred_gs_rf_test = gs_rf.predict(X_test)\n",
    "\n",
    "best_parameters = gs_rf.best_params_\n",
    "\n",
    "print(\"Grid Search found the following optimal parameters: \")\n",
    "for param_name in sorted(best_parameters.keys()):\n",
    "    print(\"%s: %r\" % (param_name, best_parameters[param_name]))\n",
    "\n",
    "# Best accuracy\n",
    "print('Best accuracy: %.3f' % gs_rf.best_score_)\n"
   ]
  },
  {
   "cell_type": "code",
   "execution_count": 18,
   "metadata": {
    "ExecuteTime": {
     "end_time": "2019-11-05T16:07:16.946785Z",
     "start_time": "2019-11-05T16:07:16.918554Z"
    }
   },
   "outputs": [
    {
     "name": "stdout",
     "output_type": "stream",
     "text": [
      "Train Accuracy Score: 0.6047\n",
      "Test Accuracy Score: 0.5416\n"
     ]
    }
   ],
   "source": [
    "print_metrics(y_train, pred_gs_rf_train,\"Train\")\n",
    "print_metrics(y_test, pred_gs_rf_test,\"Test\")"
   ]
  },
  {
   "cell_type": "code",
   "execution_count": 19,
   "metadata": {
    "ExecuteTime": {
     "end_time": "2019-11-05T16:07:19.167747Z",
     "start_time": "2019-11-05T16:07:19.140620Z"
    }
   },
   "outputs": [],
   "source": [
    "#Save scores to model_score list\n",
    "model_score['Forest'] = [accuracy_score(y_train, pred_gs_rf_train),\n",
    "                         accuracy_score(y_test, pred_gs_rf_test)]"
   ]
  },
  {
   "cell_type": "markdown",
   "metadata": {},
   "source": [
    "## AdaBoost Classifier"
   ]
  },
  {
   "cell_type": "code",
   "execution_count": 20,
   "metadata": {
    "ExecuteTime": {
     "end_time": "2019-11-05T16:07:25.517066Z",
     "start_time": "2019-11-05T16:07:24.771838Z"
    }
   },
   "outputs": [
    {
     "name": "stdout",
     "output_type": "stream",
     "text": [
      "Train Accuracy Score: 0.5031\n",
      "Test Accuracy Score: 0.4984\n"
     ]
    }
   ],
   "source": [
    "from sklearn.ensemble import AdaBoostClassifier\n",
    "\n",
    "adaboost_clf = AdaBoostClassifier()\n",
    "adaboost_clf.fit(X_train_mmscaled, y_train)\n",
    "\n",
    "# Create predictions\n",
    "adaboost_train_preds = adaboost_clf.predict(X_train_mmscaled)\n",
    "adaboost_test_preds = adaboost_clf.predict(X_test_mmscaled)\n",
    "\n",
    "print_metrics(y_train, adaboost_train_preds, \"Train\")\n",
    "print_metrics(y_test, adaboost_test_preds, \"Test\")"
   ]
  },
  {
   "cell_type": "markdown",
   "metadata": {},
   "source": [
    "### AdaBoost Classifier Parameter Tuning"
   ]
  },
  {
   "cell_type": "code",
   "execution_count": 25,
   "metadata": {
    "ExecuteTime": {
     "end_time": "2019-11-05T16:13:36.080626Z",
     "start_time": "2019-11-05T16:13:21.452090Z"
    }
   },
   "outputs": [
    {
     "name": "stdout",
     "output_type": "stream",
     "text": [
      "Fitting 5 folds for each of 1 candidates, totalling 5 fits\n"
     ]
    },
    {
     "name": "stderr",
     "output_type": "stream",
     "text": [
      "[Parallel(n_jobs=-1)]: Using backend LokyBackend with 16 concurrent workers.\n",
      "[Parallel(n_jobs=-1)]: Done   5 out of   5 | elapsed:    7.3s finished\n"
     ]
    },
    {
     "name": "stdout",
     "output_type": "stream",
     "text": [
      "Train Accuracy Score: 0.554\n",
      "Test Accuracy Score: 0.5402\n"
     ]
    }
   ],
   "source": [
    "adaboost_GS = AdaBoostClassifier(algorithm='SAMME.R',\n",
    "                                 random_state=11)\n",
    " \n",
    "# Set grid search parameters\n",
    "# Note: these parameters are tuned; best values presented here for speed\n",
    "param_grid_adaboost = [ \n",
    "  {'base_estimator':[DecisionTreeClassifier(max_depth=2)],\n",
    "   'learning_rate': [0.1],\n",
    "   'n_estimators': [300]\n",
    "  }\n",
    "]\n",
    "\n",
    "# Construct grid search\n",
    "gs_ab = GridSearchCV(estimator=adaboost_GS,\n",
    "            param_grid=param_grid_adaboost,\n",
    "            scoring='accuracy',\n",
    "            refit='accuracy',\n",
    "            cv=5, verbose=2, return_train_score = True,\n",
    "            n_jobs=-1)\n",
    "\n",
    "# Fit using grid search\n",
    "gs_ab.fit(X_train_mmscaled, y_train)\n",
    "\n",
    "# Create predictions\n",
    "pred_gs_ab_train = gs_ab.predict(X_train_mmscaled)\n",
    "pred_gs_ab_test = gs_ab.predict(X_test_mmscaled)\n",
    "\n",
    "# Print scores\n",
    "print_metrics(y_train, pred_gs_ab_train, \"Train\")\n",
    "print_metrics(y_test, pred_gs_ab_test, \"Test\")"
   ]
  },
  {
   "cell_type": "code",
   "execution_count": 26,
   "metadata": {
    "ExecuteTime": {
     "end_time": "2019-11-05T16:13:36.108721Z",
     "start_time": "2019-11-05T16:13:36.082921Z"
    }
   },
   "outputs": [],
   "source": [
    "# Save scores to model_score list\n",
    "model_score['AdaBoost'] = [accuracy_score(y_train, pred_gs_ab_train), \n",
    "                           accuracy_score(y_test, pred_gs_ab_test)]"
   ]
  },
  {
   "cell_type": "markdown",
   "metadata": {},
   "source": [
    "## Gradient Boosting"
   ]
  },
  {
   "cell_type": "code",
   "execution_count": 27,
   "metadata": {
    "ExecuteTime": {
     "end_time": "2019-11-05T16:13:49.480461Z",
     "start_time": "2019-11-05T16:13:40.335837Z"
    }
   },
   "outputs": [
    {
     "name": "stdout",
     "output_type": "stream",
     "text": [
      "Train Accuracy Score: 0.6227\n",
      "Test Accuracy Score: 0.5525\n"
     ]
    }
   ],
   "source": [
    "from sklearn.ensemble import GradientBoostingClassifier\n",
    "\n",
    "gbt_clf = GradientBoostingClassifier()\n",
    "gbt_clf.fit(X_train_mmscaled, y_train)\n",
    "\n",
    "# Create predictions\n",
    "gbt_clf_train_preds = gbt_clf.predict(X_train_mmscaled)\n",
    "gbt_clf_test_preds = gbt_clf.predict(X_test_mmscaled)\n",
    "\n",
    "# Print scores\n",
    "print_metrics(y_train, gbt_clf_train_preds, \"Train\")\n",
    "print_metrics(y_test, gbt_clf_test_preds, \"Test\")"
   ]
  },
  {
   "cell_type": "markdown",
   "metadata": {},
   "source": [
    "### Tuning Gradient Boosting Parameters using Grid Search and Cross Validation"
   ]
  },
  {
   "cell_type": "code",
   "execution_count": 28,
   "metadata": {
    "ExecuteTime": {
     "end_time": "2019-11-05T16:14:43.946156Z",
     "start_time": "2019-11-05T16:13:58.966705Z"
    }
   },
   "outputs": [
    {
     "name": "stdout",
     "output_type": "stream",
     "text": [
      "Fitting 5 folds for each of 1 candidates, totalling 5 fits\n"
     ]
    },
    {
     "name": "stderr",
     "output_type": "stream",
     "text": [
      "[Parallel(n_jobs=-1)]: Using backend LokyBackend with 16 concurrent workers.\n",
      "[Parallel(n_jobs=-1)]: Done   5 out of   5 | elapsed:   22.8s finished\n"
     ]
    },
    {
     "name": "stdout",
     "output_type": "stream",
     "text": [
      "Grid Search found the following optimal parameters: \n",
      "learning_rate: 0.055\n",
      "max_depth: 2\n",
      "n_estimators: 360\n",
      "subsample: 0.8\n",
      "Train Accuracy Score: 0.6087\n",
      "Test Accuracy Score: 0.5653\n"
     ]
    }
   ],
   "source": [
    "gb_GS = GradientBoostingClassifier(random_state=11, max_features='auto')\n",
    "\n",
    "# Set grid search params\n",
    "# Note: these parameters are tuned; best values presented here for speed\n",
    "\n",
    "param_grid_gboost = [ \n",
    "  {'subsample': [0.8],\n",
    "   'learning_rate': [0.055],\n",
    "   'n_estimators': [360],\n",
    "   'max_depth':[2]\n",
    "  }\n",
    "]\n",
    "\n",
    "# Construct grid search\n",
    "gs_gradboost = GridSearchCV(estimator=gb_GS,\n",
    "               param_grid=param_grid_gboost,\n",
    "               scoring='accuracy',\n",
    "               refit='accuracy',\n",
    "               cv=5, verbose=2, return_train_score = True,\n",
    "               n_jobs=-1)\n",
    "\n",
    "# Fit using grid search\n",
    "gs_gradboost.fit(X_train_mmscaled, y_train)\n",
    "\n",
    "pred_gs_gb_train = gs_gradboost.predict(X_train_mmscaled)\n",
    "pred_gs_gb_test = gs_gradboost.predict(X_test_mmscaled)\n",
    "\n",
    "\n",
    "# Best parameters\n",
    "best_parameters = gs_gradboost.best_params_\n",
    "print(\"Grid Search found the following optimal parameters: \")\n",
    "for param_name in sorted(best_parameters.keys()):\n",
    "    print(\"%s: %r\" % (param_name, best_parameters[param_name]))\n",
    "\n",
    "#Print scores\n",
    "print_metrics(y_train, pred_gs_gb_train, \"Train\")\n",
    "print_metrics(y_test, pred_gs_gb_test, \"Test\")"
   ]
  },
  {
   "cell_type": "code",
   "execution_count": 29,
   "metadata": {
    "ExecuteTime": {
     "end_time": "2019-11-05T16:14:43.972396Z",
     "start_time": "2019-11-05T16:14:43.948250Z"
    }
   },
   "outputs": [],
   "source": [
    "#Save scores to model_score list\n",
    "model_score['Gradient Boost'] = [accuracy_score(y_train, pred_gs_gb_train),\n",
    "                                 accuracy_score(y_test, pred_gs_gb_test)]"
   ]
  },
  {
   "cell_type": "markdown",
   "metadata": {},
   "source": [
    "## eXtreme Gradient Boost Classifier (XGBoost)"
   ]
  },
  {
   "cell_type": "code",
   "execution_count": 30,
   "metadata": {
    "ExecuteTime": {
     "end_time": "2019-11-05T16:15:02.002889Z",
     "start_time": "2019-11-05T16:14:48.973846Z"
    }
   },
   "outputs": [
    {
     "name": "stdout",
     "output_type": "stream",
     "text": [
      "Train Accuracy Score: 0.5946\n",
      "Test Accuracy Score: 0.5479\n"
     ]
    }
   ],
   "source": [
    "import xgboost as xgb\n",
    "\n",
    "xgb_clf = xgb.XGBClassifier()\n",
    "xgb_clf.fit(X_train_mmscaled, y_train)\n",
    "xgb_pred_train = xgb_clf.predict(X_train_mmscaled)\n",
    "xgb_pred_test = xgb_clf.predict(X_test_mmscaled)\n",
    "\n",
    "#Print scores\n",
    "print_metrics(y_train, xgb_pred_train, \"Train\")\n",
    "print_metrics(y_test, xgb_pred_test, \"Test\")"
   ]
  },
  {
   "cell_type": "markdown",
   "metadata": {},
   "source": [
    "### Tuning XGBoost Parameters using Grid Search and Cross Validation"
   ]
  },
  {
   "cell_type": "code",
   "execution_count": 32,
   "metadata": {
    "ExecuteTime": {
     "end_time": "2019-11-05T16:19:45.910880Z",
     "start_time": "2019-11-05T16:18:39.337560Z"
    }
   },
   "outputs": [
    {
     "name": "stdout",
     "output_type": "stream",
     "text": [
      "Grid Search found the following optimal parameters: \n",
      "learning_rate: 0.06\n",
      "max_depth: 2\n",
      "n_estimators: 400\n",
      "subsample: 0.75\n",
      "Train Accuracy Score: 0.5887\n",
      "Test Accuracy Score: 0.5593\n"
     ]
    }
   ],
   "source": [
    "# Tuning XGBoost\n",
    "from sklearn.model_selection import GridSearchCV\n",
    "\n",
    "# Note: these parameters are tuned; best values presented here for speed\n",
    "xgb_param_grid = {\n",
    "    \"learning_rate\": [0.06],\n",
    "    'max_depth': [2],\n",
    "    'subsample': [0.75],\n",
    "    'n_estimators': [400],\n",
    "}\n",
    "\n",
    "grid_xgb_clf = GridSearchCV(xgb_clf, \n",
    "                            xgb_param_grid, \n",
    "                            scoring='accuracy', \n",
    "                            cv=5, \n",
    "                            n_jobs=-1)\n",
    "\n",
    "grid_xgb_clf.fit(X_train_mmscaled, y_train)\n",
    "\n",
    "pred_gs_gxb_train = grid_xgb_clf.predict(X_train_mmscaled)\n",
    "pred_gs_gxb_test = grid_xgb_clf.predict(X_test_mmscaled)\n",
    "\n",
    "best_parameters = grid_xgb_clf.best_params_\n",
    "\n",
    "print(\"Grid Search found the following optimal parameters: \")\n",
    "for param_name in sorted(best_parameters.keys()):\n",
    "    print(\"%s: %r\" % (param_name, best_parameters[param_name]))\n",
    "\n",
    "# Print scores\n",
    "print_metrics(y_train, pred_gs_gxb_train, \"Train\")\n",
    "print_metrics(y_test, pred_gs_gxb_test, \"Test\")"
   ]
  },
  {
   "cell_type": "code",
   "execution_count": 33,
   "metadata": {
    "ExecuteTime": {
     "end_time": "2019-11-05T16:19:45.939437Z",
     "start_time": "2019-11-05T16:19:45.913202Z"
    }
   },
   "outputs": [],
   "source": [
    "# Save scores to model_score list\n",
    "model_score['XGBoost'] = [accuracy_score(y_train, pred_gs_gxb_train), \n",
    "                          accuracy_score(y_test, pred_gs_gxb_test)]"
   ]
  },
  {
   "cell_type": "markdown",
   "metadata": {},
   "source": [
    "## SVM"
   ]
  },
  {
   "cell_type": "code",
   "execution_count": 34,
   "metadata": {
    "ExecuteTime": {
     "end_time": "2019-11-05T16:21:01.540529Z",
     "start_time": "2019-11-05T16:20:16.019414Z"
    }
   },
   "outputs": [
    {
     "name": "stdout",
     "output_type": "stream",
     "text": [
      "Train Accuracy Score: 0.4984\n",
      "Test Accuracy Score: 0.5033\n"
     ]
    }
   ],
   "source": [
    "from sklearn import svm\n",
    "svm_clf = svm.SVC(probability=True, random_state=11)\n",
    "svm_clf.fit(X_train_mmscaled, y_train)\n",
    "\n",
    "pred_svm_train = gs_logreg.predict(X_train_mmscaled)\n",
    "pred_svm_test = gs_logreg.predict(X_test_mmscaled)\n",
    "\n",
    "# Print scores\n",
    "print_metrics(y_train, pred_svm_train, \"Train\")\n",
    "print_metrics(y_test, pred_svm_test, \"Test\")"
   ]
  },
  {
   "cell_type": "markdown",
   "metadata": {},
   "source": [
    "### Tuning SVM Parameters using Grid Search and Cross Validation"
   ]
  },
  {
   "cell_type": "code",
   "execution_count": 35,
   "metadata": {
    "ExecuteTime": {
     "end_time": "2019-11-05T16:22:50.240623Z",
     "start_time": "2019-11-05T16:21:18.565927Z"
    }
   },
   "outputs": [
    {
     "name": "stdout",
     "output_type": "stream",
     "text": [
      "Fitting 3 folds for each of 1 candidates, totalling 3 fits\n"
     ]
    },
    {
     "name": "stderr",
     "output_type": "stream",
     "text": [
      "[Parallel(n_jobs=5)]: Using backend LokyBackend with 5 concurrent workers.\n",
      "[Parallel(n_jobs=5)]: Done   3 out of   3 | elapsed:   27.9s finished\n"
     ]
    },
    {
     "name": "stdout",
     "output_type": "stream",
     "text": [
      "Grid Search found the following optimal parameters: \n",
      "coef0: 25\n",
      "degree: 3\n",
      "gamma: 0.03\n",
      "kernel: 'poly'\n",
      "Train Accuracy Score: 0.5154\n",
      "Test Accuracy Score: 0.5104\n"
     ]
    }
   ],
   "source": [
    "# Set grid search params\n",
    "# Note: these parameters are tuned; best values presented here for speed\n",
    "param_grid_svm = [\n",
    "    #{'C': [12], 'kernel': ['linear']},\n",
    "    #{'C': [10], 'gamma': [0.1], 'kernel': ['rbf']},\n",
    "    {'coef0': [25], 'gamma': [0.03], 'degree': [3], 'kernel': ['poly']},\n",
    "    #{'coef0': [0.01], 'gamma': [0.2], 'kernel': ['sigmoid']}\n",
    "]\n",
    "\n",
    "# Construct grid search\n",
    "gs_svm = GridSearchCV(estimator=svm_clf,\n",
    "           param_grid=param_grid_svm,\n",
    "           scoring='accuracy',\n",
    "           cv=3, verbose=2, return_train_score=True,\n",
    "                     n_jobs=5)\n",
    "\n",
    "# Fit using grid search\n",
    "gs_svm.fit(X_train_mmscaled, y_train)\n",
    "\n",
    "pred_gs_svm_train = gs_svm.predict(X_train_mmscaled)\n",
    "pred_gs_svm_test = gs_svm.predict(X_test_mmscaled)\n",
    "\n",
    "best_parameters = gs_svm.best_params_\n",
    "\n",
    "print(\"Grid Search found the following optimal parameters: \")\n",
    "for param_name in sorted(best_parameters.keys()):\n",
    "    print(\"%s: %r\" % (param_name, best_parameters[param_name]))\n",
    "\n",
    "# Print scores\n",
    "print_metrics(y_train, pred_gs_svm_train, \"Train\")\n",
    "print_metrics(y_test, pred_gs_svm_test, \"Test\")"
   ]
  },
  {
   "cell_type": "code",
   "execution_count": 36,
   "metadata": {
    "ExecuteTime": {
     "end_time": "2019-11-05T16:22:50.266299Z",
     "start_time": "2019-11-05T16:22:50.242151Z"
    }
   },
   "outputs": [],
   "source": [
    "# Save scores to model_score list\n",
    "model_score['SVM'] = [accuracy_score(y_train, pred_gs_svm_train),\n",
    "                      accuracy_score(y_test, pred_gs_svm_test)]"
   ]
  },
  {
   "cell_type": "markdown",
   "metadata": {},
   "source": [
    "## Choosing the best model "
   ]
  },
  {
   "cell_type": "code",
   "execution_count": 37,
   "metadata": {
    "ExecuteTime": {
     "end_time": "2019-11-05T16:22:50.300653Z",
     "start_time": "2019-11-05T16:22:50.268257Z"
    }
   },
   "outputs": [
    {
     "data": {
      "text/html": [
       "<div>\n",
       "<style scoped>\n",
       "    .dataframe tbody tr th:only-of-type {\n",
       "        vertical-align: middle;\n",
       "    }\n",
       "\n",
       "    .dataframe tbody tr th {\n",
       "        vertical-align: top;\n",
       "    }\n",
       "\n",
       "    .dataframe thead th {\n",
       "        text-align: right;\n",
       "    }\n",
       "</style>\n",
       "<table border=\"1\" class=\"dataframe\">\n",
       "  <thead>\n",
       "    <tr style=\"text-align: right;\">\n",
       "      <th></th>\n",
       "      <th>Train</th>\n",
       "      <th>Test</th>\n",
       "    </tr>\n",
       "  </thead>\n",
       "  <tbody>\n",
       "    <tr>\n",
       "      <th>logreg</th>\n",
       "      <td>0.498427</td>\n",
       "      <td>0.503289</td>\n",
       "    </tr>\n",
       "    <tr>\n",
       "      <th>KNN</th>\n",
       "      <td>0.484558</td>\n",
       "      <td>0.448956</td>\n",
       "    </tr>\n",
       "    <tr>\n",
       "      <th>Tree</th>\n",
       "      <td>0.441950</td>\n",
       "      <td>0.431513</td>\n",
       "    </tr>\n",
       "    <tr>\n",
       "      <th>Forest</th>\n",
       "      <td>0.604661</td>\n",
       "      <td>0.541607</td>\n",
       "    </tr>\n",
       "    <tr>\n",
       "      <th>AdaBoost</th>\n",
       "      <td>0.553975</td>\n",
       "      <td>0.540177</td>\n",
       "    </tr>\n",
       "    <tr>\n",
       "      <th>Gradient Boost</th>\n",
       "      <td>0.608665</td>\n",
       "      <td>0.565342</td>\n",
       "    </tr>\n",
       "    <tr>\n",
       "      <th>XGBoost</th>\n",
       "      <td>0.588719</td>\n",
       "      <td>0.559337</td>\n",
       "    </tr>\n",
       "    <tr>\n",
       "      <th>SVM</th>\n",
       "      <td>0.515370</td>\n",
       "      <td>0.510438</td>\n",
       "    </tr>\n",
       "  </tbody>\n",
       "</table>\n",
       "</div>"
      ],
      "text/plain": [
       "                   Train      Test\n",
       "logreg          0.498427  0.503289\n",
       "KNN             0.484558  0.448956\n",
       "Tree            0.441950  0.431513\n",
       "Forest          0.604661  0.541607\n",
       "AdaBoost        0.553975  0.540177\n",
       "Gradient Boost  0.608665  0.565342\n",
       "XGBoost         0.588719  0.559337\n",
       "SVM             0.515370  0.510438"
      ]
     },
     "execution_count": 37,
     "metadata": {},
     "output_type": "execute_result"
    }
   ],
   "source": [
    "scores = pd.DataFrame(model_score,index=['Train','Test']).T\n",
    "scores"
   ]
  },
  {
   "cell_type": "markdown",
   "metadata": {},
   "source": [
    "The model fit with Gradient Boost Classifier had the highest accuracy rate of 56.5%. This is the model we chose moving forward. "
   ]
  },
  {
   "cell_type": "markdown",
   "metadata": {},
   "source": [
    "## Fitting Test_Final Dataset "
   ]
  },
  {
   "cell_type": "code",
   "execution_count": 38,
   "metadata": {
    "ExecuteTime": {
     "end_time": "2019-11-05T16:23:31.296836Z",
     "start_time": "2019-11-05T16:23:31.202013Z"
    }
   },
   "outputs": [
    {
     "name": "stdout",
     "output_type": "stream",
     "text": [
      "Final Test Accuracy Score: 0.5577\n"
     ]
    }
   ],
   "source": [
    "# Create prediction with Gradient Boost \n",
    "gb_pred_test_final = gs_gradboost.predict(X_test_final_mmscaled)\n",
    "\n",
    "# Print accuracy\n",
    "print_metrics(y_test_final, gb_pred_test_final, \"Final Test\")"
   ]
  },
  {
   "cell_type": "markdown",
   "metadata": {},
   "source": [
    "### Confusion Matrix"
   ]
  },
  {
   "cell_type": "code",
   "execution_count": 39,
   "metadata": {
    "ExecuteTime": {
     "end_time": "2019-11-05T16:23:41.388595Z",
     "start_time": "2019-11-05T16:23:40.871046Z"
    }
   },
   "outputs": [
    {
     "name": "stdout",
     "output_type": "stream",
     "text": [
      "Confusion matrix, without normalization\n"
     ]
    },
    {
     "data": {
      "image/png": "[encoded data removed]",
      "text/plain": [
       "<Figure size 720x720 with 1 Axes>"
      ]
     },
     "metadata": {
      "needs_background": "light"
     },
     "output_type": "display_data"
    }
   ],
   "source": [
    "import matplotlib.pyplot as plt\n",
    "from sklearn.metrics import confusion_matrix\n",
    "from scripts import plot_confusion_matrix \n",
    "%matplotlib inline\n",
    "\n",
    "cnf_matrix = confusion_matrix(y_test_final, gb_pred_test_final)\n",
    "\n",
    "plot_confusion_matrix(cm=cnf_matrix, classes=class_names)\n",
    "\n",
    "plt.savefig('images/confusion_matrix.png',bbox_inches='tight')"
   ]
  },
  {
   "cell_type": "markdown",
   "metadata": {},
   "source": [
    "### Feature Importance "
   ]
  },
  {
   "cell_type": "code",
   "execution_count": 40,
   "metadata": {
    "ExecuteTime": {
     "end_time": "2019-11-05T16:24:18.074236Z",
     "start_time": "2019-11-05T16:23:56.680817Z"
    }
   },
   "outputs": [
    {
     "data": {
      "text/plain": [
       "GradientBoostingClassifier(criterion='friedman_mse', init=None,\n",
       "                           learning_rate=0.055, loss='deviance', max_depth=2,\n",
       "                           max_features='auto', max_leaf_nodes=None,\n",
       "                           min_impurity_decrease=0.0, min_impurity_split=None,\n",
       "                           min_samples_leaf=1, min_samples_split=2,\n",
       "                           min_weight_fraction_leaf=0.0, n_estimators=360,\n",
       "                           n_iter_no_change=None, presort='auto',\n",
       "                           random_state=11, subsample=0.8, tol=0.0001,\n",
       "                           validation_fraction=0.1, verbose=0,\n",
       "                           warm_start=False)"
      ]
     },
     "execution_count": 40,
     "metadata": {},
     "output_type": "execute_result"
    }
   ],
   "source": [
    "from scripts import plot_feature_importances\n",
    "\n",
    "gb_model = GradientBoostingClassifier(random_state=11, \n",
    "                                      max_features='auto',\n",
    "                                      learning_rate=0.055,\n",
    "                                      max_depth=2,\n",
    "                                      n_estimators= 360,\n",
    "                                      subsample= 0.8)\n",
    "\n",
    "gb_model.fit(X_train_mmscaled, y_train)"
   ]
  },
  {
   "cell_type": "code",
   "execution_count": 41,
   "metadata": {
    "ExecuteTime": {
     "end_time": "2019-11-05T16:24:18.113845Z",
     "start_time": "2019-11-05T16:24:18.075938Z"
    }
   },
   "outputs": [
    {
     "data": {
      "text/plain": [
       "[(0.27803934543357023, 'speechiness'),\n",
       " (0.11269869021126015, 'danceability'),\n",
       " (0.11221382141329816, 'acousticness'),\n",
       " (0.10249096956781968, 'energy'),\n",
       " (0.10234173001020694, 'instrumentalness'),\n",
       " (0.07918427560621934, 'valence'),\n",
       " (0.06635922618941342, 'loudness')]"
      ]
     },
     "execution_count": 41,
     "metadata": {},
     "output_type": "execute_result"
    }
   ],
   "source": [
    "# Seven most important features\n",
    "\n",
    "top_feats = zip(gb_model.feature_importances_,X_train.columns.values)\n",
    "topfeat=list(top_feats)\n",
    "\n",
    "sorted(topfeat, key=lambda x:(x[0],x[1]), reverse=True)[:7]"
   ]
  },
  {
   "cell_type": "code",
   "execution_count": 42,
   "metadata": {
    "ExecuteTime": {
     "end_time": "2019-11-05T16:24:32.570165Z",
     "start_time": "2019-11-05T16:24:32.189823Z"
    },
    "scrolled": true
   },
   "outputs": [
    {
     "data": {
      "image/png": "[encoded data removed]",
      "text/plain": [
       "<Figure size 576x576 with 1 Axes>"
      ]
     },
     "metadata": {
      "needs_background": "light"
     },
     "output_type": "display_data"
    }
   ],
   "source": [
    "# Plot feature importance\n",
    "\n",
    "plot_feature_importances(gb_model, X_train)\n",
    "plt.savefig('images/feature_importance',bbox_inches='tight');"
   ]
  },
  {
   "cell_type": "markdown",
   "metadata": {},
   "source": [
    "### Presentation Songs "
   ]
  },
  {
   "cell_type": "code",
   "execution_count": 43,
   "metadata": {
    "ExecuteTime": {
     "end_time": "2019-11-05T16:24:42.519371Z",
     "start_time": "2019-11-05T16:24:42.483322Z"
    }
   },
   "outputs": [
    {
     "name": "stdout",
     "output_type": "stream",
     "text": [
      "Song predictions: [1 2 3 5 5 5 2]\n",
      "GradBoost Accuracy Score: 0.5714\n"
     ]
    }
   ],
   "source": [
    "pres_test = pd.read_csv('data/presentation_test.csv')\n",
    "pres_test = pres_test.iloc[:,1:]\n",
    "pres_test_scaled = min_max_scaler.transform(pres_test)\n",
    "pres_test\n",
    "\n",
    "pres_y = [1,2,3,4,5,6,7]\n",
    "\n",
    "pred_present_gb = gs_gradboost.predict(pres_test)\n",
    "print(f\"Song predictions: {pred_present_gb}\")\n",
    "\n",
    "print_metrics(pres_y, pred_present_gb, \"GradBoost\")"
   ]
  },
  {
   "cell_type": "code",
   "execution_count": null,
   "metadata": {},
   "outputs": [],
   "source": []
  }
 ],
 "metadata": {
  "kernelspec": {
   "display_name": "Python 3",
   "language": "python",
   "name": "python3"
  },
  "language_info": {
   "codemirror_mode": {
    "name": "ipython",
    "version": 3
   },
   "file_extension": ".py",
   "mimetype": "text/x-python",
   "name": "python",
   "nbconvert_exporter": "python",
   "pygments_lexer": "ipython3",
   "version": "3.7.3"
  },
  "toc": {
   "base_numbering": 1,
   "nav_menu": {},
   "number_sections": true,
   "sideBar": true,
   "skip_h1_title": true,
   "title_cell": "Table of Contents",
   "title_sidebar": "Contents",
   "toc_cell": false,
   "toc_position": {},
   "toc_section_display": true,
   "toc_window_display": false
  }
 },
 "nbformat": 4,
 "nbformat_minor": 2
}
