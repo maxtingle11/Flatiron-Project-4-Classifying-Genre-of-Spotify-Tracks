{
 "cells": [
  {
   "cell_type": "markdown",
   "metadata": {},
   "source": [
    "## K-Nearest Neighbor Model"
   ]
  },
  {
   "cell_type": "code",
   "execution_count": 1,
   "metadata": {
    "ExecuteTime": {
     "end_time": "2019-11-01T18:26:19.752279Z",
     "start_time": "2019-11-01T18:26:18.611931Z"
    }
   },
   "outputs": [
    {
     "name": "stdout",
     "output_type": "stream",
     "text": [
      "<class 'pandas.core.frame.DataFrame'>\n",
      "RangeIndex: 106988 entries, 0 to 106987\n",
      "Data columns (total 28 columns):\n",
      "acousticness          106988 non-null float64\n",
      "danceability          106988 non-null float64\n",
      "duration_ms           106988 non-null float64\n",
      "energy                106988 non-null float64\n",
      "instrumentalness      106988 non-null float64\n",
      "liveness              106988 non-null float64\n",
      "loudness              106988 non-null float64\n",
      "mode_feat             106988 non-null float64\n",
      "speechiness           106988 non-null float64\n",
      "tempo                 106988 non-null float64\n",
      "valence               106988 non-null float64\n",
      "time_signature_1.0    106988 non-null int64\n",
      "time_signature_3.0    106988 non-null int64\n",
      "time_signature_4.0    106988 non-null int64\n",
      "time_signature_5.0    106988 non-null int64\n",
      "key_0.0               106988 non-null int64\n",
      "key_1.0               106988 non-null int64\n",
      "key_2.0               106988 non-null int64\n",
      "key_3.0               106988 non-null int64\n",
      "key_4.0               106988 non-null int64\n",
      "key_5.0               106988 non-null int64\n",
      "key_6.0               106988 non-null int64\n",
      "key_7.0               106988 non-null int64\n",
      "key_8.0               106988 non-null int64\n",
      "key_9.0               106988 non-null int64\n",
      "key_10.0              106988 non-null int64\n",
      "key_11.0              106988 non-null int64\n",
      "target                106988 non-null int64\n",
      "dtypes: float64(11), int64(17)\n",
      "memory usage: 22.9 MB\n",
      "None\n"
     ]
    },
    {
     "data": {
      "text/html": [
       "<div>\n",
       "<style scoped>\n",
       "    .dataframe tbody tr th:only-of-type {\n",
       "        vertical-align: middle;\n",
       "    }\n",
       "\n",
       "    .dataframe tbody tr th {\n",
       "        vertical-align: top;\n",
       "    }\n",
       "\n",
       "    .dataframe thead th {\n",
       "        text-align: right;\n",
       "    }\n",
       "</style>\n",
       "<table border=\"1\" class=\"dataframe\">\n",
       "  <thead>\n",
       "    <tr style=\"text-align: right;\">\n",
       "      <th></th>\n",
       "      <th>acousticness</th>\n",
       "      <th>danceability</th>\n",
       "      <th>duration_ms</th>\n",
       "      <th>energy</th>\n",
       "      <th>instrumentalness</th>\n",
       "      <th>liveness</th>\n",
       "      <th>loudness</th>\n",
       "      <th>mode_feat</th>\n",
       "      <th>speechiness</th>\n",
       "      <th>tempo</th>\n",
       "      <th>valence</th>\n",
       "      <th>time_signature_1.0</th>\n",
       "      <th>time_signature_3.0</th>\n",
       "      <th>time_signature_4.0</th>\n",
       "      <th>time_signature_5.0</th>\n",
       "      <th>key_0.0</th>\n",
       "      <th>key_1.0</th>\n",
       "      <th>key_2.0</th>\n",
       "      <th>key_3.0</th>\n",
       "      <th>key_4.0</th>\n",
       "      <th>key_5.0</th>\n",
       "      <th>key_6.0</th>\n",
       "      <th>key_7.0</th>\n",
       "      <th>key_8.0</th>\n",
       "      <th>key_9.0</th>\n",
       "      <th>key_10.0</th>\n",
       "      <th>key_11.0</th>\n",
       "      <th>target</th>\n",
       "    </tr>\n",
       "  </thead>\n",
       "  <tbody>\n",
       "    <tr>\n",
       "      <th>0</th>\n",
       "      <td>0.25400</td>\n",
       "      <td>0.690</td>\n",
       "      <td>197333.0</td>\n",
       "      <td>0.707</td>\n",
       "      <td>0.000000</td>\n",
       "      <td>0.1060</td>\n",
       "      <td>-6.875</td>\n",
       "      <td>1.0</td>\n",
       "      <td>0.0863</td>\n",
       "      <td>90.092</td>\n",
       "      <td>0.586</td>\n",
       "      <td>0</td>\n",
       "      <td>0</td>\n",
       "      <td>1</td>\n",
       "      <td>0</td>\n",
       "      <td>0</td>\n",
       "      <td>1</td>\n",
       "      <td>0</td>\n",
       "      <td>0</td>\n",
       "      <td>0</td>\n",
       "      <td>0</td>\n",
       "      <td>0</td>\n",
       "      <td>0</td>\n",
       "      <td>0</td>\n",
       "      <td>0</td>\n",
       "      <td>0</td>\n",
       "      <td>0</td>\n",
       "      <td>0</td>\n",
       "    </tr>\n",
       "    <tr>\n",
       "      <th>1</th>\n",
       "      <td>0.39600</td>\n",
       "      <td>0.632</td>\n",
       "      <td>162215.0</td>\n",
       "      <td>0.936</td>\n",
       "      <td>0.000000</td>\n",
       "      <td>0.3480</td>\n",
       "      <td>-3.639</td>\n",
       "      <td>1.0</td>\n",
       "      <td>0.2080</td>\n",
       "      <td>80.196</td>\n",
       "      <td>0.782</td>\n",
       "      <td>0</td>\n",
       "      <td>0</td>\n",
       "      <td>1</td>\n",
       "      <td>0</td>\n",
       "      <td>0</td>\n",
       "      <td>0</td>\n",
       "      <td>1</td>\n",
       "      <td>0</td>\n",
       "      <td>0</td>\n",
       "      <td>0</td>\n",
       "      <td>0</td>\n",
       "      <td>0</td>\n",
       "      <td>0</td>\n",
       "      <td>0</td>\n",
       "      <td>0</td>\n",
       "      <td>0</td>\n",
       "      <td>0</td>\n",
       "    </tr>\n",
       "    <tr>\n",
       "      <th>2</th>\n",
       "      <td>0.06570</td>\n",
       "      <td>0.953</td>\n",
       "      <td>512080.0</td>\n",
       "      <td>0.390</td>\n",
       "      <td>0.503000</td>\n",
       "      <td>0.1540</td>\n",
       "      <td>-10.123</td>\n",
       "      <td>0.0</td>\n",
       "      <td>0.0568</td>\n",
       "      <td>108.345</td>\n",
       "      <td>0.743</td>\n",
       "      <td>0</td>\n",
       "      <td>0</td>\n",
       "      <td>1</td>\n",
       "      <td>0</td>\n",
       "      <td>0</td>\n",
       "      <td>0</td>\n",
       "      <td>0</td>\n",
       "      <td>0</td>\n",
       "      <td>0</td>\n",
       "      <td>0</td>\n",
       "      <td>0</td>\n",
       "      <td>0</td>\n",
       "      <td>0</td>\n",
       "      <td>1</td>\n",
       "      <td>0</td>\n",
       "      <td>0</td>\n",
       "      <td>0</td>\n",
       "    </tr>\n",
       "    <tr>\n",
       "      <th>3</th>\n",
       "      <td>0.38700</td>\n",
       "      <td>0.839</td>\n",
       "      <td>277882.0</td>\n",
       "      <td>0.490</td>\n",
       "      <td>0.000088</td>\n",
       "      <td>0.0896</td>\n",
       "      <td>-6.973</td>\n",
       "      <td>1.0</td>\n",
       "      <td>0.0601</td>\n",
       "      <td>117.058</td>\n",
       "      <td>0.963</td>\n",
       "      <td>0</td>\n",
       "      <td>1</td>\n",
       "      <td>0</td>\n",
       "      <td>0</td>\n",
       "      <td>0</td>\n",
       "      <td>0</td>\n",
       "      <td>0</td>\n",
       "      <td>0</td>\n",
       "      <td>0</td>\n",
       "      <td>0</td>\n",
       "      <td>0</td>\n",
       "      <td>0</td>\n",
       "      <td>0</td>\n",
       "      <td>0</td>\n",
       "      <td>1</td>\n",
       "      <td>0</td>\n",
       "      <td>0</td>\n",
       "    </tr>\n",
       "    <tr>\n",
       "      <th>4</th>\n",
       "      <td>0.00004</td>\n",
       "      <td>0.487</td>\n",
       "      <td>271179.0</td>\n",
       "      <td>0.908</td>\n",
       "      <td>0.252000</td>\n",
       "      <td>0.1530</td>\n",
       "      <td>-5.628</td>\n",
       "      <td>0.0</td>\n",
       "      <td>0.0468</td>\n",
       "      <td>150.062</td>\n",
       "      <td>0.511</td>\n",
       "      <td>0</td>\n",
       "      <td>0</td>\n",
       "      <td>1</td>\n",
       "      <td>0</td>\n",
       "      <td>0</td>\n",
       "      <td>1</td>\n",
       "      <td>0</td>\n",
       "      <td>0</td>\n",
       "      <td>0</td>\n",
       "      <td>0</td>\n",
       "      <td>0</td>\n",
       "      <td>0</td>\n",
       "      <td>0</td>\n",
       "      <td>0</td>\n",
       "      <td>0</td>\n",
       "      <td>0</td>\n",
       "      <td>0</td>\n",
       "    </tr>\n",
       "  </tbody>\n",
       "</table>\n",
       "</div>"
      ],
      "text/plain": [
       "   acousticness  danceability  duration_ms  energy  instrumentalness  liveness  loudness  mode_feat  speechiness    tempo  valence  time_signature_1.0  time_signature_3.0  time_signature_4.0  time_signature_5.0  key_0.0  key_1.0  key_2.0  key_3.0  key_4.0  key_5.0  key_6.0  key_7.0  key_8.0  key_9.0  key_10.0  key_11.0  target\n",
       "0       0.25400         0.690     197333.0   0.707          0.000000    0.1060    -6.875        1.0       0.0863   90.092    0.586                   0                   0                   1                   0        0        1        0        0        0        0        0        0        0        0         0         0       0\n",
       "1       0.39600         0.632     162215.0   0.936          0.000000    0.3480    -3.639        1.0       0.2080   80.196    0.782                   0                   0                   1                   0        0        0        1        0        0        0        0        0        0        0         0         0       0\n",
       "2       0.06570         0.953     512080.0   0.390          0.503000    0.1540   -10.123        0.0       0.0568  108.345    0.743                   0                   0                   1                   0        0        0        0        0        0        0        0        0        0        1         0         0       0\n",
       "3       0.38700         0.839     277882.0   0.490          0.000088    0.0896    -6.973        1.0       0.0601  117.058    0.963                   0                   1                   0                   0        0        0        0        0        0        0        0        0        0        0         1         0       0\n",
       "4       0.00004         0.487     271179.0   0.908          0.252000    0.1530    -5.628        0.0       0.0468  150.062    0.511                   0                   0                   1                   0        0        1        0        0        0        0        0        0        0        0         0         0       0"
      ]
     },
     "execution_count": 1,
     "metadata": {},
     "output_type": "execute_result"
    }
   ],
   "source": [
    "import pandas as pd\n",
    "import numpy as np\n",
    "\n",
    "import warnings\n",
    "warnings.filterwarnings('ignore')\n",
    "\n",
    "pd.set_option('display.max_rows', 50)\n",
    "pd.set_option('display.max_columns', 300)\n",
    "pd.set_option('display.width', 1000)\n",
    "\n",
    "# Import data to Pandas DataFrame\n",
    "train = pd.read_csv('data/train.csv')\n",
    "test = pd.read_csv('data/test.csv')\n",
    "test_final = pd.read_csv('data/test_final.csv')\n",
    "\n",
    "# Split X & y for train, test, and test_final\n",
    "X_train = train.drop('target', axis=1)\n",
    "y_train = train['target']\n",
    "\n",
    "X_test = test.drop('target', axis=1)\n",
    "y_test = test['target']\n",
    "\n",
    "X_test_final = test_final.drop('target', axis=1)\n",
    "y_test_final = test_final['target']\n",
    "\n",
    "# Preivew data\n",
    "print(train.info())\n",
    "train.head()"
   ]
  },
  {
   "cell_type": "markdown",
   "metadata": {},
   "source": [
    "### Scale Train & Test Data"
   ]
  },
  {
   "cell_type": "code",
   "execution_count": 2,
   "metadata": {
    "ExecuteTime": {
     "end_time": "2019-11-01T18:26:23.166146Z",
     "start_time": "2019-11-01T18:26:22.517721Z"
    }
   },
   "outputs": [],
   "source": [
    "# Standardize with MinMax Scaler\n",
    "from sklearn.preprocessing import MinMaxScaler\n",
    "min_max_scaler = MinMaxScaler()\n",
    "X_train_mmscaled = min_max_scaler.fit_transform(X_train)\n",
    "X_test_mmscaled = min_max_scaler.transform(X_test)\n",
    "\n",
    "# Standardize with Standard Scaler\n",
    "from sklearn.preprocessing import StandardScaler\n",
    "standard_scaler = StandardScaler()\n",
    "X_train_sscaled = standard_scaler.fit_transform(X_train)\n",
    "X_test_sscaled = standard_scaler.transform(X_test)"
   ]
  },
  {
   "cell_type": "markdown",
   "metadata": {},
   "source": [
    "### Fit KNN Model"
   ]
  },
  {
   "cell_type": "code",
   "execution_count": 3,
   "metadata": {
    "ExecuteTime": {
     "end_time": "2019-11-01T18:27:15.589488Z",
     "start_time": "2019-11-01T18:26:28.869549Z"
    }
   },
   "outputs": [],
   "source": [
    "# Fit KNN Model\n",
    "from sklearn.neighbors import KNeighborsClassifier\n",
    "\n",
    "knn1 = KNeighborsClassifier()\n",
    "knn1.fit(X_train_mmscaled, y_train)\n",
    "knn1_test_preds = knn1.predict(X_test_mmscaled)"
   ]
  },
  {
   "cell_type": "markdown",
   "metadata": {},
   "source": [
    "### Print Metrics"
   ]
  },
  {
   "cell_type": "code",
   "execution_count": 4,
   "metadata": {
    "ExecuteTime": {
     "end_time": "2019-11-01T18:27:15.615513Z",
     "start_time": "2019-11-01T18:27:15.591533Z"
    }
   },
   "outputs": [
    {
     "name": "stdout",
     "output_type": "stream",
     "text": [
      "Precision Score: 0.783349006613525\n",
      "Recall Score: 0.8646627785254972\n",
      "Accuracy Score: 0.8646627785254972\n",
      "F1 Score: 0.812467044914369\n"
     ]
    }
   ],
   "source": [
    "# Print metrics\n",
    "from sklearn.metrics import precision_score, recall_score, accuracy_score, f1_score\n",
    "def print_metrics(labels, preds):\n",
    "    print(\"Precision Score: {}\".format(precision_score(labels, preds, average='weighted')))\n",
    "    print(\"Recall Score: {}\".format(recall_score(labels, preds, average='weighted')))\n",
    "    print(\"Accuracy Score: {}\".format(accuracy_score(labels, preds)))\n",
    "    print(\"F1 Score: {}\".format(f1_score(labels, preds, average='weighted')))\n",
    "    \n",
    "print_metrics(y_test, knn1_test_preds)"
   ]
  },
  {
   "cell_type": "markdown",
   "metadata": {},
   "source": [
    "### Find Best K by Different Metrics"
   ]
  },
  {
   "cell_type": "code",
   "execution_count": 5,
   "metadata": {
    "ExecuteTime": {
     "end_time": "2019-11-01T19:01:53.183325Z",
     "start_time": "2019-11-01T18:57:45.827450Z"
    }
   },
   "outputs": [
    {
     "name": "stdout",
     "output_type": "stream",
     "text": [
      "Best Value for k: 6\n",
      "F1-Score: 0.8122130722033843\n"
     ]
    }
   ],
   "source": [
    "# Find best K to improve model performance (by F1-Score)\n",
    "def find_best_k_f1(X_train, y_train, X_test, y_test, min_k=1, max_k=25):\n",
    "    best_k = 0\n",
    "    best_score = 0.0\n",
    "    for k in range(min_k, max_k+1, 5):\n",
    "        knn = KNeighborsClassifier(n_neighbors=k)\n",
    "        knn.fit(X_train, y_train)\n",
    "        preds = knn.predict(X_test)\n",
    "        f1 = f1_score(y_test, preds, average='weighted')\n",
    "        if f1 > best_score:\n",
    "            best_k = k\n",
    "            best_score = f1\n",
    "    \n",
    "    print(\"Best Value for k: {}\".format(best_k))\n",
    "    print(\"F1-Score: {}\".format(best_score))\n",
    "\n",
    "find_best_k_f1(X_train_mmscaled, y_train, X_test_mmscaled, y_test)"
   ]
  },
  {
   "cell_type": "code",
   "execution_count": 6,
   "metadata": {
    "ExecuteTime": {
     "end_time": "2019-11-01T19:07:57.845794Z",
     "start_time": "2019-11-01T19:03:49.712277Z"
    }
   },
   "outputs": [
    {
     "name": "stdout",
     "output_type": "stream",
     "text": [
      "Best Value for k: 21\n",
      "Accuracy: 0.8691490952594586\n"
     ]
    }
   ],
   "source": [
    "# Find best K to improve model performance (by Accuracy)\n",
    "def find_best_k_acc(X_train, y_train, X_test, y_test, min_k=1, max_k=25):\n",
    "    best_k = 0\n",
    "    best_score = 0.0\n",
    "    for k in range(min_k, max_k+1, 5):\n",
    "        knn = KNeighborsClassifier(n_neighbors=k)\n",
    "        knn.fit(X_train, y_train)\n",
    "        preds = knn.predict(X_test)\n",
    "        acc = accuracy_score(y_test, preds)\n",
    "        if acc > best_score:\n",
    "            best_k = k\n",
    "            best_score = acc\n",
    "    \n",
    "    print(\"Best Value for k: {}\".format(best_k))\n",
    "    print(\"Accuracy: {}\".format(best_score))\n",
    "\n",
    "find_best_k_acc(X_train_mmscaled, y_train, X_test_mmscaled, y_test)"
   ]
  },
  {
   "cell_type": "code",
   "execution_count": 7,
   "metadata": {
    "ExecuteTime": {
     "end_time": "2019-11-01T19:19:05.005932Z",
     "start_time": "2019-11-01T19:07:57.847856Z"
    }
   },
   "outputs": [
    {
     "name": "stdout",
     "output_type": "stream",
     "text": [
      "Best Value for k: 1\n",
      "Precision Score: 0.7841263806815183\n"
     ]
    }
   ],
   "source": [
    "# Find best K to improve model performance\n",
    "def find_best_k_precision(X_train, y_train, X_test, y_test, min_k=1, max_k=25):\n",
    "    best_k = 0\n",
    "    best_score = 0.0\n",
    "    for k in range(min_k, max_k+1, 2):\n",
    "        knn = KNeighborsClassifier(n_neighbors=k)\n",
    "        knn.fit(X_train, y_train)\n",
    "        preds = knn.predict(X_test)\n",
    "        precision = precision_score(y_test, preds, average='weighted')\n",
    "        if precision > best_score:\n",
    "            best_k = k\n",
    "            best_score = precision\n",
    "    \n",
    "    print(\"Best Value for k: {}\".format(best_k))\n",
    "    print(\"Precision Score: {}\".format(best_score))\n",
    "\n",
    "find_best_k_precision(X_train_mmscaled, y_train, X_test_mmscaled, y_test)"
   ]
  },
  {
   "cell_type": "code",
   "execution_count": null,
   "metadata": {
    "ExecuteTime": {
     "start_time": "2019-11-01T19:03:52.660Z"
    }
   },
   "outputs": [],
   "source": [
    "# Find best K to improve model performance\n",
    "def find_best_k_recall(X_train, y_train, X_test, y_test, min_k=1, max_k=25):\n",
    "    best_k = 0\n",
    "    best_score = 0.0\n",
    "    for k in range(min_k, max_k+1, 2):\n",
    "        knn = KNeighborsClassifier(n_neighbors=k)\n",
    "        knn.fit(X_train, y_train)\n",
    "        preds = knn.predict(X_test)\n",
    "        recall = recall_score(y_test, preds, average='weighted')\n",
    "        if recall > best_score:\n",
    "            best_k = k\n",
    "            best_score = recall\n",
    "    \n",
    "    print(\"Best Value for k: {}\".format(best_k))\n",
    "    print(\"Recall Score: {}\".format(best_score))\n",
    "\n",
    "find_best_k_recall(X_train_mmscaled, y_train, X_test_mmscaled, y_test)"
   ]
  },
  {
   "cell_type": "code",
   "execution_count": null,
   "metadata": {},
   "outputs": [],
   "source": []
  }
 ],
 "metadata": {
  "kernelspec": {
   "display_name": "Python 3",
   "language": "python",
   "name": "python3"
  },
  "language_info": {
   "codemirror_mode": {
    "name": "ipython",
    "version": 3
   },
   "file_extension": ".py",
   "mimetype": "text/x-python",
   "name": "python",
   "nbconvert_exporter": "python",
   "pygments_lexer": "ipython3",
   "version": "3.7.3"
  },
  "toc": {
   "base_numbering": 1,
   "nav_menu": {},
   "number_sections": true,
   "sideBar": true,
   "skip_h1_title": false,
   "title_cell": "Table of Contents",
   "title_sidebar": "Contents",
   "toc_cell": false,
   "toc_position": {},
   "toc_section_display": true,
   "toc_window_display": false
  }
 },
 "nbformat": 4,
 "nbformat_minor": 2
}
